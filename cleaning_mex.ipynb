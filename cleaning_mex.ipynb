{
 "cells": [
  {
   "cell_type": "code",
   "execution_count": 1,
   "metadata": {},
   "outputs": [],
   "source": [
    "#Importamos las librerias pandas, numpy y matplotlib respectivamente\n",
    "import pandas as pd\n",
    "import numpy as np\n",
    "import matplotlib.pyplot as plt"
   ]
  },
  {
   "cell_type": "code",
   "execution_count": 2,
   "metadata": {},
   "outputs": [
    {
     "name": "stderr",
     "output_type": "stream",
     "text": [
      "C:\\Users\\aremy\\AppData\\Local\\Temp\\ipykernel_21368\\2189122869.py:2: DtypeWarning: Columns (4) have mixed types. Specify dtype option on import or set low_memory=False.\n",
      "  data = pd.read_csv(\"listings_mexico_original.csv\",encoding=\"ISO-8859-1\") #, index_col=0\n"
     ]
    },
    {
     "data": {
      "text/html": [
       "<div>\n",
       "<style scoped>\n",
       "    .dataframe tbody tr th:only-of-type {\n",
       "        vertical-align: middle;\n",
       "    }\n",
       "\n",
       "    .dataframe tbody tr th {\n",
       "        vertical-align: top;\n",
       "    }\n",
       "\n",
       "    .dataframe thead th {\n",
       "        text-align: right;\n",
       "    }\n",
       "</style>\n",
       "<table border=\"1\" class=\"dataframe\">\n",
       "  <thead>\n",
       "    <tr style=\"text-align: right;\">\n",
       "      <th></th>\n",
       "      <th>id</th>\n",
       "      <th>host_response_time</th>\n",
       "      <th>host_response_rate</th>\n",
       "      <th>host_acceptance_rate</th>\n",
       "      <th>host_is_superhost</th>\n",
       "      <th>host_listings_count</th>\n",
       "      <th>host_has_profile_pic</th>\n",
       "      <th>host_identity_verified</th>\n",
       "      <th>neighbourhood_cleansed</th>\n",
       "      <th>latitude</th>\n",
       "      <th>...</th>\n",
       "      <th>review_scores_rating</th>\n",
       "      <th>review_scores_accuracy</th>\n",
       "      <th>review_scores_cleanliness</th>\n",
       "      <th>review_scores_checkin</th>\n",
       "      <th>review_scores_communication</th>\n",
       "      <th>review_scores_location</th>\n",
       "      <th>review_scores_value</th>\n",
       "      <th>instant_bookable</th>\n",
       "      <th>calculated_host_listings_count</th>\n",
       "      <th>reviews_per_month</th>\n",
       "    </tr>\n",
       "  </thead>\n",
       "  <tbody>\n",
       "    <tr>\n",
       "      <th>0</th>\n",
       "      <td>3.579700e+04</td>\n",
       "      <td>within a day</td>\n",
       "      <td>0.5</td>\n",
       "      <td>NaN</td>\n",
       "      <td>False</td>\n",
       "      <td>1</td>\n",
       "      <td>True</td>\n",
       "      <td>True</td>\n",
       "      <td>Cuajimalpa de Morelos</td>\n",
       "      <td>19.382830</td>\n",
       "      <td>...</td>\n",
       "      <td>NaN</td>\n",
       "      <td>NaN</td>\n",
       "      <td>NaN</td>\n",
       "      <td>NaN</td>\n",
       "      <td>NaN</td>\n",
       "      <td>NaN</td>\n",
       "      <td>NaN</td>\n",
       "      <td>f</td>\n",
       "      <td>1</td>\n",
       "      <td>NaN</td>\n",
       "    </tr>\n",
       "    <tr>\n",
       "      <th>1</th>\n",
       "      <td>7.834800e+05</td>\n",
       "      <td>within a few hours</td>\n",
       "      <td>1.0</td>\n",
       "      <td>1.00</td>\n",
       "      <td>False</td>\n",
       "      <td>2</td>\n",
       "      <td>True</td>\n",
       "      <td>True</td>\n",
       "      <td>Cuajimalpa de Morelos</td>\n",
       "      <td>19.353790</td>\n",
       "      <td>...</td>\n",
       "      <td>4.96</td>\n",
       "      <td>4.93</td>\n",
       "      <td>4.93</td>\n",
       "      <td>4.93</td>\n",
       "      <td>4.93</td>\n",
       "      <td>4.70</td>\n",
       "      <td>4.85</td>\n",
       "      <td>t</td>\n",
       "      <td>2</td>\n",
       "      <td>0.26</td>\n",
       "    </tr>\n",
       "    <tr>\n",
       "      <th>2</th>\n",
       "      <td>7.964770e+05</td>\n",
       "      <td>NaN</td>\n",
       "      <td>NaN</td>\n",
       "      <td>0.67</td>\n",
       "      <td>True</td>\n",
       "      <td>1</td>\n",
       "      <td>True</td>\n",
       "      <td>True</td>\n",
       "      <td>CuauhtÃ©moc</td>\n",
       "      <td>19.418240</td>\n",
       "      <td>...</td>\n",
       "      <td>4.73</td>\n",
       "      <td>4.70</td>\n",
       "      <td>4.70</td>\n",
       "      <td>4.84</td>\n",
       "      <td>4.91</td>\n",
       "      <td>4.96</td>\n",
       "      <td>4.71</td>\n",
       "      <td>f</td>\n",
       "      <td>1</td>\n",
       "      <td>1.52</td>\n",
       "    </tr>\n",
       "    <tr>\n",
       "      <th>3</th>\n",
       "      <td>4.461600e+04</td>\n",
       "      <td>within a few hours</td>\n",
       "      <td>1.0</td>\n",
       "      <td>0.79</td>\n",
       "      <td>True</td>\n",
       "      <td>16</td>\n",
       "      <td>True</td>\n",
       "      <td>True</td>\n",
       "      <td>CuauhtÃ©moc</td>\n",
       "      <td>19.411620</td>\n",
       "      <td>...</td>\n",
       "      <td>4.59</td>\n",
       "      <td>4.57</td>\n",
       "      <td>4.70</td>\n",
       "      <td>4.86</td>\n",
       "      <td>4.75</td>\n",
       "      <td>4.98</td>\n",
       "      <td>4.47</td>\n",
       "      <td>f</td>\n",
       "      <td>12</td>\n",
       "      <td>0.44</td>\n",
       "    </tr>\n",
       "    <tr>\n",
       "      <th>4</th>\n",
       "      <td>8.172910e+05</td>\n",
       "      <td>within an hour</td>\n",
       "      <td>1.0</td>\n",
       "      <td>1.00</td>\n",
       "      <td>False</td>\n",
       "      <td>2</td>\n",
       "      <td>True</td>\n",
       "      <td>True</td>\n",
       "      <td>Benito JuÃ¡rez</td>\n",
       "      <td>19.384680</td>\n",
       "      <td>...</td>\n",
       "      <td>4.85</td>\n",
       "      <td>4.95</td>\n",
       "      <td>4.80</td>\n",
       "      <td>4.90</td>\n",
       "      <td>4.95</td>\n",
       "      <td>4.63</td>\n",
       "      <td>4.78</td>\n",
       "      <td>f</td>\n",
       "      <td>1</td>\n",
       "      <td>0.51</td>\n",
       "    </tr>\n",
       "    <tr>\n",
       "      <th>...</th>\n",
       "      <td>...</td>\n",
       "      <td>...</td>\n",
       "      <td>...</td>\n",
       "      <td>...</td>\n",
       "      <td>...</td>\n",
       "      <td>...</td>\n",
       "      <td>...</td>\n",
       "      <td>...</td>\n",
       "      <td>...</td>\n",
       "      <td>...</td>\n",
       "      <td>...</td>\n",
       "      <td>...</td>\n",
       "      <td>...</td>\n",
       "      <td>...</td>\n",
       "      <td>...</td>\n",
       "      <td>...</td>\n",
       "      <td>...</td>\n",
       "      <td>...</td>\n",
       "      <td>...</td>\n",
       "      <td>...</td>\n",
       "      <td>...</td>\n",
       "    </tr>\n",
       "    <tr>\n",
       "      <th>22943</th>\n",
       "      <td>6.970000e+17</td>\n",
       "      <td>NaN</td>\n",
       "      <td>NaN</td>\n",
       "      <td>NaN</td>\n",
       "      <td>False</td>\n",
       "      <td>1</td>\n",
       "      <td>True</td>\n",
       "      <td>True</td>\n",
       "      <td>Gustavo A. Madero</td>\n",
       "      <td>19.465703</td>\n",
       "      <td>...</td>\n",
       "      <td>NaN</td>\n",
       "      <td>NaN</td>\n",
       "      <td>NaN</td>\n",
       "      <td>NaN</td>\n",
       "      <td>NaN</td>\n",
       "      <td>NaN</td>\n",
       "      <td>NaN</td>\n",
       "      <td>f</td>\n",
       "      <td>1</td>\n",
       "      <td>NaN</td>\n",
       "    </tr>\n",
       "    <tr>\n",
       "      <th>22944</th>\n",
       "      <td>2.217577e+07</td>\n",
       "      <td>NaN</td>\n",
       "      <td>NaN</td>\n",
       "      <td>NaN</td>\n",
       "      <td>False</td>\n",
       "      <td>1</td>\n",
       "      <td>True</td>\n",
       "      <td>False</td>\n",
       "      <td>Miguel Hidalgo</td>\n",
       "      <td>19.421690</td>\n",
       "      <td>...</td>\n",
       "      <td>5.00</td>\n",
       "      <td>5.00</td>\n",
       "      <td>5.00</td>\n",
       "      <td>5.00</td>\n",
       "      <td>5.00</td>\n",
       "      <td>5.00</td>\n",
       "      <td>5.00</td>\n",
       "      <td>f</td>\n",
       "      <td>1</td>\n",
       "      <td>0.06</td>\n",
       "    </tr>\n",
       "    <tr>\n",
       "      <th>22945</th>\n",
       "      <td>1.911707e+06</td>\n",
       "      <td>within a few hours</td>\n",
       "      <td>1.0</td>\n",
       "      <td>1.00</td>\n",
       "      <td>True</td>\n",
       "      <td>1</td>\n",
       "      <td>True</td>\n",
       "      <td>True</td>\n",
       "      <td>Miguel Hidalgo</td>\n",
       "      <td>19.430260</td>\n",
       "      <td>...</td>\n",
       "      <td>4.89</td>\n",
       "      <td>4.85</td>\n",
       "      <td>4.96</td>\n",
       "      <td>4.96</td>\n",
       "      <td>4.93</td>\n",
       "      <td>4.81</td>\n",
       "      <td>4.81</td>\n",
       "      <td>f</td>\n",
       "      <td>1</td>\n",
       "      <td>0.27</td>\n",
       "    </tr>\n",
       "    <tr>\n",
       "      <th>22946</th>\n",
       "      <td>4.528549e+07</td>\n",
       "      <td>within an hour</td>\n",
       "      <td>1.0</td>\n",
       "      <td>0.99</td>\n",
       "      <td>False</td>\n",
       "      <td>8</td>\n",
       "      <td>True</td>\n",
       "      <td>True</td>\n",
       "      <td>Miguel Hidalgo</td>\n",
       "      <td>19.427120</td>\n",
       "      <td>...</td>\n",
       "      <td>4.44</td>\n",
       "      <td>4.54</td>\n",
       "      <td>4.64</td>\n",
       "      <td>4.61</td>\n",
       "      <td>4.29</td>\n",
       "      <td>4.82</td>\n",
       "      <td>4.47</td>\n",
       "      <td>t</td>\n",
       "      <td>8</td>\n",
       "      <td>2.90</td>\n",
       "    </tr>\n",
       "    <tr>\n",
       "      <th>22947</th>\n",
       "      <td>4.531888e+07</td>\n",
       "      <td>within an hour</td>\n",
       "      <td>1.0</td>\n",
       "      <td>0.99</td>\n",
       "      <td>False</td>\n",
       "      <td>8</td>\n",
       "      <td>True</td>\n",
       "      <td>True</td>\n",
       "      <td>Miguel Hidalgo</td>\n",
       "      <td>19.427380</td>\n",
       "      <td>...</td>\n",
       "      <td>4.75</td>\n",
       "      <td>4.70</td>\n",
       "      <td>4.80</td>\n",
       "      <td>4.85</td>\n",
       "      <td>4.48</td>\n",
       "      <td>4.83</td>\n",
       "      <td>4.55</td>\n",
       "      <td>t</td>\n",
       "      <td>8</td>\n",
       "      <td>1.62</td>\n",
       "    </tr>\n",
       "  </tbody>\n",
       "</table>\n",
       "<p>22948 rows × 41 columns</p>\n",
       "</div>"
      ],
      "text/plain": [
       "                 id  host_response_time  host_response_rate  \\\n",
       "0      3.579700e+04        within a day                 0.5   \n",
       "1      7.834800e+05  within a few hours                 1.0   \n",
       "2      7.964770e+05                 NaN                 NaN   \n",
       "3      4.461600e+04  within a few hours                 1.0   \n",
       "4      8.172910e+05      within an hour                 1.0   \n",
       "...             ...                 ...                 ...   \n",
       "22943  6.970000e+17                 NaN                 NaN   \n",
       "22944  2.217577e+07                 NaN                 NaN   \n",
       "22945  1.911707e+06  within a few hours                 1.0   \n",
       "22946  4.528549e+07      within an hour                 1.0   \n",
       "22947  4.531888e+07      within an hour                 1.0   \n",
       "\n",
       "       host_acceptance_rate host_is_superhost  host_listings_count  \\\n",
       "0                       NaN             False                    1   \n",
       "1                      1.00             False                    2   \n",
       "2                      0.67              True                    1   \n",
       "3                      0.79              True                   16   \n",
       "4                      1.00             False                    2   \n",
       "...                     ...               ...                  ...   \n",
       "22943                   NaN             False                    1   \n",
       "22944                   NaN             False                    1   \n",
       "22945                  1.00              True                    1   \n",
       "22946                  0.99             False                    8   \n",
       "22947                  0.99             False                    8   \n",
       "\n",
       "       host_has_profile_pic  host_identity_verified neighbourhood_cleansed  \\\n",
       "0                      True                    True  Cuajimalpa de Morelos   \n",
       "1                      True                    True  Cuajimalpa de Morelos   \n",
       "2                      True                    True            CuauhtÃ©moc   \n",
       "3                      True                    True            CuauhtÃ©moc   \n",
       "4                      True                    True         Benito JuÃ¡rez   \n",
       "...                     ...                     ...                    ...   \n",
       "22943                  True                    True      Gustavo A. Madero   \n",
       "22944                  True                   False         Miguel Hidalgo   \n",
       "22945                  True                    True         Miguel Hidalgo   \n",
       "22946                  True                    True         Miguel Hidalgo   \n",
       "22947                  True                    True         Miguel Hidalgo   \n",
       "\n",
       "        latitude  ...  review_scores_rating review_scores_accuracy  \\\n",
       "0      19.382830  ...                   NaN                    NaN   \n",
       "1      19.353790  ...                  4.96                   4.93   \n",
       "2      19.418240  ...                  4.73                   4.70   \n",
       "3      19.411620  ...                  4.59                   4.57   \n",
       "4      19.384680  ...                  4.85                   4.95   \n",
       "...          ...  ...                   ...                    ...   \n",
       "22943  19.465703  ...                   NaN                    NaN   \n",
       "22944  19.421690  ...                  5.00                   5.00   \n",
       "22945  19.430260  ...                  4.89                   4.85   \n",
       "22946  19.427120  ...                  4.44                   4.54   \n",
       "22947  19.427380  ...                  4.75                   4.70   \n",
       "\n",
       "       review_scores_cleanliness  review_scores_checkin  \\\n",
       "0                            NaN                    NaN   \n",
       "1                           4.93                   4.93   \n",
       "2                           4.70                   4.84   \n",
       "3                           4.70                   4.86   \n",
       "4                           4.80                   4.90   \n",
       "...                          ...                    ...   \n",
       "22943                        NaN                    NaN   \n",
       "22944                       5.00                   5.00   \n",
       "22945                       4.96                   4.96   \n",
       "22946                       4.64                   4.61   \n",
       "22947                       4.80                   4.85   \n",
       "\n",
       "       review_scores_communication  review_scores_location  \\\n",
       "0                              NaN                     NaN   \n",
       "1                             4.93                    4.70   \n",
       "2                             4.91                    4.96   \n",
       "3                             4.75                    4.98   \n",
       "4                             4.95                    4.63   \n",
       "...                            ...                     ...   \n",
       "22943                          NaN                     NaN   \n",
       "22944                         5.00                    5.00   \n",
       "22945                         4.93                    4.81   \n",
       "22946                         4.29                    4.82   \n",
       "22947                         4.48                    4.83   \n",
       "\n",
       "      review_scores_value  instant_bookable  calculated_host_listings_count  \\\n",
       "0                     NaN                 f                               1   \n",
       "1                    4.85                 t                               2   \n",
       "2                    4.71                 f                               1   \n",
       "3                    4.47                 f                              12   \n",
       "4                    4.78                 f                               1   \n",
       "...                   ...               ...                             ...   \n",
       "22943                 NaN                 f                               1   \n",
       "22944                5.00                 f                               1   \n",
       "22945                4.81                 f                               1   \n",
       "22946                4.47                 t                               8   \n",
       "22947                4.55                 t                               8   \n",
       "\n",
       "       reviews_per_month  \n",
       "0                    NaN  \n",
       "1                   0.26  \n",
       "2                   1.52  \n",
       "3                   0.44  \n",
       "4                   0.51  \n",
       "...                  ...  \n",
       "22943                NaN  \n",
       "22944               0.06  \n",
       "22945               0.27  \n",
       "22946               2.90  \n",
       "22947               1.62  \n",
       "\n",
       "[22948 rows x 41 columns]"
      ]
     },
     "execution_count": 2,
     "metadata": {},
     "output_type": "execute_result"
    }
   ],
   "source": [
    "#Carga del archivo.csv\n",
    "data = pd.read_csv(\"listings_mexico_original.csv\",encoding=\"ISO-8859-1\") #, index_col=0\n",
    "data"
   ]
  },
  {
   "cell_type": "markdown",
   "metadata": {},
   "source": [
    "Reemplazo de nulos"
   ]
  },
  {
   "cell_type": "code",
   "execution_count": 3,
   "metadata": {},
   "outputs": [
    {
     "data": {
      "text/html": [
       "<div>\n",
       "<style scoped>\n",
       "    .dataframe tbody tr th:only-of-type {\n",
       "        vertical-align: middle;\n",
       "    }\n",
       "\n",
       "    .dataframe tbody tr th {\n",
       "        vertical-align: top;\n",
       "    }\n",
       "\n",
       "    .dataframe thead th {\n",
       "        text-align: right;\n",
       "    }\n",
       "</style>\n",
       "<table border=\"1\" class=\"dataframe\">\n",
       "  <thead>\n",
       "    <tr style=\"text-align: right;\">\n",
       "      <th></th>\n",
       "      <th>id</th>\n",
       "      <th>host_response_time</th>\n",
       "      <th>host_response_rate</th>\n",
       "      <th>host_acceptance_rate</th>\n",
       "      <th>host_is_superhost</th>\n",
       "      <th>host_listings_count</th>\n",
       "      <th>host_has_profile_pic</th>\n",
       "      <th>host_identity_verified</th>\n",
       "      <th>neighbourhood_cleansed</th>\n",
       "      <th>latitude</th>\n",
       "      <th>...</th>\n",
       "      <th>review_scores_rating</th>\n",
       "      <th>review_scores_accuracy</th>\n",
       "      <th>review_scores_cleanliness</th>\n",
       "      <th>review_scores_checkin</th>\n",
       "      <th>review_scores_communication</th>\n",
       "      <th>review_scores_location</th>\n",
       "      <th>review_scores_value</th>\n",
       "      <th>instant_bookable</th>\n",
       "      <th>calculated_host_listings_count</th>\n",
       "      <th>reviews_per_month</th>\n",
       "    </tr>\n",
       "  </thead>\n",
       "  <tbody>\n",
       "    <tr>\n",
       "      <th>0</th>\n",
       "      <td>3.579700e+04</td>\n",
       "      <td>within a day</td>\n",
       "      <td>0.5</td>\n",
       "      <td>NaN</td>\n",
       "      <td>False</td>\n",
       "      <td>1</td>\n",
       "      <td>True</td>\n",
       "      <td>True</td>\n",
       "      <td>Cuajimalpa de Morelos</td>\n",
       "      <td>19.382830</td>\n",
       "      <td>...</td>\n",
       "      <td>NaN</td>\n",
       "      <td>NaN</td>\n",
       "      <td>NaN</td>\n",
       "      <td>NaN</td>\n",
       "      <td>NaN</td>\n",
       "      <td>NaN</td>\n",
       "      <td>NaN</td>\n",
       "      <td>f</td>\n",
       "      <td>1</td>\n",
       "      <td>NaN</td>\n",
       "    </tr>\n",
       "    <tr>\n",
       "      <th>1</th>\n",
       "      <td>7.834800e+05</td>\n",
       "      <td>within a few hours</td>\n",
       "      <td>1.0</td>\n",
       "      <td>1.00</td>\n",
       "      <td>False</td>\n",
       "      <td>2</td>\n",
       "      <td>True</td>\n",
       "      <td>True</td>\n",
       "      <td>Cuajimalpa de Morelos</td>\n",
       "      <td>19.353790</td>\n",
       "      <td>...</td>\n",
       "      <td>4.96</td>\n",
       "      <td>4.93</td>\n",
       "      <td>4.93</td>\n",
       "      <td>4.93</td>\n",
       "      <td>4.93</td>\n",
       "      <td>4.70</td>\n",
       "      <td>4.85</td>\n",
       "      <td>t</td>\n",
       "      <td>2</td>\n",
       "      <td>0.26</td>\n",
       "    </tr>\n",
       "    <tr>\n",
       "      <th>2</th>\n",
       "      <td>7.964770e+05</td>\n",
       "      <td>NaN</td>\n",
       "      <td>NaN</td>\n",
       "      <td>0.67</td>\n",
       "      <td>True</td>\n",
       "      <td>1</td>\n",
       "      <td>True</td>\n",
       "      <td>True</td>\n",
       "      <td>CuauhtÃ©moc</td>\n",
       "      <td>19.418240</td>\n",
       "      <td>...</td>\n",
       "      <td>4.73</td>\n",
       "      <td>4.70</td>\n",
       "      <td>4.70</td>\n",
       "      <td>4.84</td>\n",
       "      <td>4.91</td>\n",
       "      <td>4.96</td>\n",
       "      <td>4.71</td>\n",
       "      <td>f</td>\n",
       "      <td>1</td>\n",
       "      <td>1.52</td>\n",
       "    </tr>\n",
       "    <tr>\n",
       "      <th>3</th>\n",
       "      <td>4.461600e+04</td>\n",
       "      <td>within a few hours</td>\n",
       "      <td>1.0</td>\n",
       "      <td>0.79</td>\n",
       "      <td>True</td>\n",
       "      <td>16</td>\n",
       "      <td>True</td>\n",
       "      <td>True</td>\n",
       "      <td>CuauhtÃ©moc</td>\n",
       "      <td>19.411620</td>\n",
       "      <td>...</td>\n",
       "      <td>4.59</td>\n",
       "      <td>4.57</td>\n",
       "      <td>4.70</td>\n",
       "      <td>4.86</td>\n",
       "      <td>4.75</td>\n",
       "      <td>4.98</td>\n",
       "      <td>4.47</td>\n",
       "      <td>f</td>\n",
       "      <td>12</td>\n",
       "      <td>0.44</td>\n",
       "    </tr>\n",
       "    <tr>\n",
       "      <th>4</th>\n",
       "      <td>8.172910e+05</td>\n",
       "      <td>within an hour</td>\n",
       "      <td>1.0</td>\n",
       "      <td>1.00</td>\n",
       "      <td>False</td>\n",
       "      <td>2</td>\n",
       "      <td>True</td>\n",
       "      <td>True</td>\n",
       "      <td>Benito JuÃ¡rez</td>\n",
       "      <td>19.384680</td>\n",
       "      <td>...</td>\n",
       "      <td>4.85</td>\n",
       "      <td>4.95</td>\n",
       "      <td>4.80</td>\n",
       "      <td>4.90</td>\n",
       "      <td>4.95</td>\n",
       "      <td>4.63</td>\n",
       "      <td>4.78</td>\n",
       "      <td>f</td>\n",
       "      <td>1</td>\n",
       "      <td>0.51</td>\n",
       "    </tr>\n",
       "    <tr>\n",
       "      <th>...</th>\n",
       "      <td>...</td>\n",
       "      <td>...</td>\n",
       "      <td>...</td>\n",
       "      <td>...</td>\n",
       "      <td>...</td>\n",
       "      <td>...</td>\n",
       "      <td>...</td>\n",
       "      <td>...</td>\n",
       "      <td>...</td>\n",
       "      <td>...</td>\n",
       "      <td>...</td>\n",
       "      <td>...</td>\n",
       "      <td>...</td>\n",
       "      <td>...</td>\n",
       "      <td>...</td>\n",
       "      <td>...</td>\n",
       "      <td>...</td>\n",
       "      <td>...</td>\n",
       "      <td>...</td>\n",
       "      <td>...</td>\n",
       "      <td>...</td>\n",
       "    </tr>\n",
       "    <tr>\n",
       "      <th>22943</th>\n",
       "      <td>6.970000e+17</td>\n",
       "      <td>NaN</td>\n",
       "      <td>NaN</td>\n",
       "      <td>NaN</td>\n",
       "      <td>False</td>\n",
       "      <td>1</td>\n",
       "      <td>True</td>\n",
       "      <td>True</td>\n",
       "      <td>Gustavo A. Madero</td>\n",
       "      <td>19.465703</td>\n",
       "      <td>...</td>\n",
       "      <td>NaN</td>\n",
       "      <td>NaN</td>\n",
       "      <td>NaN</td>\n",
       "      <td>NaN</td>\n",
       "      <td>NaN</td>\n",
       "      <td>NaN</td>\n",
       "      <td>NaN</td>\n",
       "      <td>f</td>\n",
       "      <td>1</td>\n",
       "      <td>NaN</td>\n",
       "    </tr>\n",
       "    <tr>\n",
       "      <th>22944</th>\n",
       "      <td>2.217577e+07</td>\n",
       "      <td>NaN</td>\n",
       "      <td>NaN</td>\n",
       "      <td>NaN</td>\n",
       "      <td>False</td>\n",
       "      <td>1</td>\n",
       "      <td>True</td>\n",
       "      <td>False</td>\n",
       "      <td>Miguel Hidalgo</td>\n",
       "      <td>19.421690</td>\n",
       "      <td>...</td>\n",
       "      <td>5.00</td>\n",
       "      <td>5.00</td>\n",
       "      <td>5.00</td>\n",
       "      <td>5.00</td>\n",
       "      <td>5.00</td>\n",
       "      <td>5.00</td>\n",
       "      <td>5.00</td>\n",
       "      <td>f</td>\n",
       "      <td>1</td>\n",
       "      <td>0.06</td>\n",
       "    </tr>\n",
       "    <tr>\n",
       "      <th>22945</th>\n",
       "      <td>1.911707e+06</td>\n",
       "      <td>within a few hours</td>\n",
       "      <td>1.0</td>\n",
       "      <td>1.00</td>\n",
       "      <td>True</td>\n",
       "      <td>1</td>\n",
       "      <td>True</td>\n",
       "      <td>True</td>\n",
       "      <td>Miguel Hidalgo</td>\n",
       "      <td>19.430260</td>\n",
       "      <td>...</td>\n",
       "      <td>4.89</td>\n",
       "      <td>4.85</td>\n",
       "      <td>4.96</td>\n",
       "      <td>4.96</td>\n",
       "      <td>4.93</td>\n",
       "      <td>4.81</td>\n",
       "      <td>4.81</td>\n",
       "      <td>f</td>\n",
       "      <td>1</td>\n",
       "      <td>0.27</td>\n",
       "    </tr>\n",
       "    <tr>\n",
       "      <th>22946</th>\n",
       "      <td>4.528549e+07</td>\n",
       "      <td>within an hour</td>\n",
       "      <td>1.0</td>\n",
       "      <td>0.99</td>\n",
       "      <td>False</td>\n",
       "      <td>8</td>\n",
       "      <td>True</td>\n",
       "      <td>True</td>\n",
       "      <td>Miguel Hidalgo</td>\n",
       "      <td>19.427120</td>\n",
       "      <td>...</td>\n",
       "      <td>4.44</td>\n",
       "      <td>4.54</td>\n",
       "      <td>4.64</td>\n",
       "      <td>4.61</td>\n",
       "      <td>4.29</td>\n",
       "      <td>4.82</td>\n",
       "      <td>4.47</td>\n",
       "      <td>t</td>\n",
       "      <td>8</td>\n",
       "      <td>2.90</td>\n",
       "    </tr>\n",
       "    <tr>\n",
       "      <th>22947</th>\n",
       "      <td>4.531888e+07</td>\n",
       "      <td>within an hour</td>\n",
       "      <td>1.0</td>\n",
       "      <td>0.99</td>\n",
       "      <td>False</td>\n",
       "      <td>8</td>\n",
       "      <td>True</td>\n",
       "      <td>True</td>\n",
       "      <td>Miguel Hidalgo</td>\n",
       "      <td>19.427380</td>\n",
       "      <td>...</td>\n",
       "      <td>4.75</td>\n",
       "      <td>4.70</td>\n",
       "      <td>4.80</td>\n",
       "      <td>4.85</td>\n",
       "      <td>4.48</td>\n",
       "      <td>4.83</td>\n",
       "      <td>4.55</td>\n",
       "      <td>t</td>\n",
       "      <td>8</td>\n",
       "      <td>1.62</td>\n",
       "    </tr>\n",
       "  </tbody>\n",
       "</table>\n",
       "<p>22948 rows × 41 columns</p>\n",
       "</div>"
      ],
      "text/plain": [
       "                 id  host_response_time  host_response_rate  \\\n",
       "0      3.579700e+04        within a day                 0.5   \n",
       "1      7.834800e+05  within a few hours                 1.0   \n",
       "2      7.964770e+05                 NaN                 NaN   \n",
       "3      4.461600e+04  within a few hours                 1.0   \n",
       "4      8.172910e+05      within an hour                 1.0   \n",
       "...             ...                 ...                 ...   \n",
       "22943  6.970000e+17                 NaN                 NaN   \n",
       "22944  2.217577e+07                 NaN                 NaN   \n",
       "22945  1.911707e+06  within a few hours                 1.0   \n",
       "22946  4.528549e+07      within an hour                 1.0   \n",
       "22947  4.531888e+07      within an hour                 1.0   \n",
       "\n",
       "       host_acceptance_rate host_is_superhost  host_listings_count  \\\n",
       "0                       NaN             False                    1   \n",
       "1                      1.00             False                    2   \n",
       "2                      0.67              True                    1   \n",
       "3                      0.79              True                   16   \n",
       "4                      1.00             False                    2   \n",
       "...                     ...               ...                  ...   \n",
       "22943                   NaN             False                    1   \n",
       "22944                   NaN             False                    1   \n",
       "22945                  1.00              True                    1   \n",
       "22946                  0.99             False                    8   \n",
       "22947                  0.99             False                    8   \n",
       "\n",
       "       host_has_profile_pic  host_identity_verified neighbourhood_cleansed  \\\n",
       "0                      True                    True  Cuajimalpa de Morelos   \n",
       "1                      True                    True  Cuajimalpa de Morelos   \n",
       "2                      True                    True            CuauhtÃ©moc   \n",
       "3                      True                    True            CuauhtÃ©moc   \n",
       "4                      True                    True         Benito JuÃ¡rez   \n",
       "...                     ...                     ...                    ...   \n",
       "22943                  True                    True      Gustavo A. Madero   \n",
       "22944                  True                   False         Miguel Hidalgo   \n",
       "22945                  True                    True         Miguel Hidalgo   \n",
       "22946                  True                    True         Miguel Hidalgo   \n",
       "22947                  True                    True         Miguel Hidalgo   \n",
       "\n",
       "        latitude  ...  review_scores_rating review_scores_accuracy  \\\n",
       "0      19.382830  ...                   NaN                    NaN   \n",
       "1      19.353790  ...                  4.96                   4.93   \n",
       "2      19.418240  ...                  4.73                   4.70   \n",
       "3      19.411620  ...                  4.59                   4.57   \n",
       "4      19.384680  ...                  4.85                   4.95   \n",
       "...          ...  ...                   ...                    ...   \n",
       "22943  19.465703  ...                   NaN                    NaN   \n",
       "22944  19.421690  ...                  5.00                   5.00   \n",
       "22945  19.430260  ...                  4.89                   4.85   \n",
       "22946  19.427120  ...                  4.44                   4.54   \n",
       "22947  19.427380  ...                  4.75                   4.70   \n",
       "\n",
       "       review_scores_cleanliness  review_scores_checkin  \\\n",
       "0                            NaN                    NaN   \n",
       "1                           4.93                   4.93   \n",
       "2                           4.70                   4.84   \n",
       "3                           4.70                   4.86   \n",
       "4                           4.80                   4.90   \n",
       "...                          ...                    ...   \n",
       "22943                        NaN                    NaN   \n",
       "22944                       5.00                   5.00   \n",
       "22945                       4.96                   4.96   \n",
       "22946                       4.64                   4.61   \n",
       "22947                       4.80                   4.85   \n",
       "\n",
       "       review_scores_communication  review_scores_location  \\\n",
       "0                              NaN                     NaN   \n",
       "1                             4.93                    4.70   \n",
       "2                             4.91                    4.96   \n",
       "3                             4.75                    4.98   \n",
       "4                             4.95                    4.63   \n",
       "...                            ...                     ...   \n",
       "22943                          NaN                     NaN   \n",
       "22944                         5.00                    5.00   \n",
       "22945                         4.93                    4.81   \n",
       "22946                         4.29                    4.82   \n",
       "22947                         4.48                    4.83   \n",
       "\n",
       "      review_scores_value  instant_bookable  calculated_host_listings_count  \\\n",
       "0                     NaN                 f                               1   \n",
       "1                    4.85                 t                               2   \n",
       "2                    4.71                 f                               1   \n",
       "3                    4.47                 f                              12   \n",
       "4                    4.78                 f                               1   \n",
       "...                   ...               ...                             ...   \n",
       "22943                 NaN                 f                               1   \n",
       "22944                5.00                 f                               1   \n",
       "22945                4.81                 f                               1   \n",
       "22946                4.47                 t                               8   \n",
       "22947                4.55                 t                               8   \n",
       "\n",
       "       reviews_per_month  \n",
       "0                    NaN  \n",
       "1                   0.26  \n",
       "2                   1.52  \n",
       "3                   0.44  \n",
       "4                   0.51  \n",
       "...                  ...  \n",
       "22943                NaN  \n",
       "22944               0.06  \n",
       "22945               0.27  \n",
       "22946               2.90  \n",
       "22947               1.62  \n",
       "\n",
       "[22948 rows x 41 columns]"
      ]
     },
     "execution_count": 3,
     "metadata": {},
     "output_type": "execute_result"
    }
   ],
   "source": [
    "#Copia del dataset original\n",
    "data2 = data.copy()\n",
    "data2"
   ]
  },
  {
   "cell_type": "code",
   "execution_count": 4,
   "metadata": {},
   "outputs": [
    {
     "data": {
      "text/plain": [
       "id                                   0\n",
       "host_response_time                2945\n",
       "host_response_rate                2945\n",
       "host_acceptance_rate              2465\n",
       "host_is_superhost                    6\n",
       "host_listings_count                  0\n",
       "host_has_profile_pic                 0\n",
       "host_identity_verified               0\n",
       "neighbourhood_cleansed               0\n",
       "latitude                             0\n",
       "longitude                            0\n",
       "room_type                            0\n",
       "accommodates                         0\n",
       "bathrooms_text                      47\n",
       "bedrooms                           643\n",
       "beds                               382\n",
       "amenities                            0\n",
       "wifi                                 0\n",
       "private_entrance                     0\n",
       "closet                               0\n",
       "cable_tv                             0\n",
       "dedicated_workspace                  0\n",
       "smart_lock                           0\n",
       "smoke_alarm                          0\n",
       "security_cameras                     0\n",
       "price                                0\n",
       "minimum_nights                       0\n",
       "maximum_nights                       0\n",
       "availability_365                     0\n",
       "number_of_reviews                    0\n",
       "number_of_reviews_ltm                0\n",
       "review_scores_rating              4067\n",
       "review_scores_accuracy            4161\n",
       "review_scores_cleanliness         4161\n",
       "review_scores_checkin             4162\n",
       "review_scores_communication       4161\n",
       "review_scores_location            4163\n",
       "review_scores_value               4162\n",
       "instant_bookable                     0\n",
       "calculated_host_listings_count       0\n",
       "reviews_per_month                 4067\n",
       "dtype: int64"
      ]
     },
     "execution_count": 4,
     "metadata": {},
     "output_type": "execute_result"
    }
   ],
   "source": [
    "#Cuántos nulos hay por columna\n",
    "valores_nulos=data2.isnull().sum()\n",
    "valores_nulos"
   ]
  },
  {
   "cell_type": "code",
   "execution_count": 5,
   "metadata": {},
   "outputs": [],
   "source": [
    "#Rellenar con el string \"Unknown\"\n",
    "data2[\"host_response_time\"]=data2[\"host_response_time\"].fillna(\"unknown\")"
   ]
  },
  {
   "cell_type": "code",
   "execution_count": 6,
   "metadata": {},
   "outputs": [],
   "source": [
    "#Rellenar con el valor numérico 0\n",
    "data2[\"host_response_rate\"]=data2[\"host_response_rate\"].fillna(0)\n",
    "data2[\"host_acceptance_rate\"]=data2[\"host_acceptance_rate\"].fillna(0)\n",
    "data2[\"host_listings_count\"]=data2[\"host_listings_count\"].fillna(0)\n",
    "data2[\"beds\"]=data2[\"beds\"].fillna(0)\n",
    "data2[\"reviews_per_month\"]=data2[\"reviews_per_month\"].fillna(0)"
   ]
  },
  {
   "cell_type": "code",
   "execution_count": 7,
   "metadata": {},
   "outputs": [],
   "source": [
    "#Rellenar con la media, pero que sean enteros\n",
    "data2[\"review_scores_rating\"]=data2[\"review_scores_rating\"].fillna(round(data[\"review_scores_rating\"].mean(),2))\n",
    "data2[\"review_scores_accuracy\"]=data2[\"review_scores_accuracy\"].fillna(round(data[\"review_scores_accuracy\"].mean(),2))\n",
    "data2[\"review_scores_cleanliness\"]=data2[\"review_scores_cleanliness\"].fillna(round(data[\"review_scores_cleanliness\"].mean(),2))\n",
    "data2[\"review_scores_checkin\"]=data2[\"review_scores_checkin\"].fillna(round(data[\"review_scores_checkin\"].mean(),2))\n",
    "data2[\"review_scores_communication\"]=data2[\"review_scores_communication\"].fillna(round(data[\"review_scores_communication\"].mean(),2))\n",
    "data2[\"review_scores_location\"]=data2[\"review_scores_location\"].fillna(round(data[\"review_scores_location\"].mean(),2))\n",
    "data2[\"review_scores_value\"]=data2[\"review_scores_value\"].fillna(round(data[\"review_scores_value\"].mean(),2))\n",
    "data2[\"bathroom_text\"]=data2[\"bathroom_text\"].fillna(round(data[\"bathroom_text\"].mean(),0))\n",
    "data2[\"bedrooms\"]=data2[\"bedrooms\"].fillna(round(data[\"bedrooms\"].mean(),0))"
   ]
  },
  {
   "cell_type": "code",
   "execution_count": 8,
   "metadata": {},
   "outputs": [],
   "source": [
    "#Rellenar con el string \"False\"\n",
    "data2[\"host_is_superhost\"]=data2[\"host_is_superhost\"].fillna(\"False\")\n",
    "data2[\"host_has_profile_pic\"]=data2[\"host_has_profile_pic\"].fillna(\"False\")\n",
    "data2[\"host_identity_verified\"]=data2[\"host_identity_verified\"].fillna(\"False\")"
   ]
  },
  {
   "cell_type": "code",
   "execution_count": 9,
   "metadata": {},
   "outputs": [
    {
     "data": {
      "text/plain": [
       "0"
      ]
     },
     "execution_count": 9,
     "metadata": {},
     "output_type": "execute_result"
    }
   ],
   "source": [
    "#Comprobación de sustitución de nulos\n",
    "#Cuántos nulos hay en el dataframe\n",
    "valores_nulos=data2.isnull().sum().sum()\n",
    "valores_nulos"
   ]
  },
  {
   "cell_type": "markdown",
   "metadata": {},
   "source": [
    "Limpieza de outliers"
   ]
  },
  {
   "cell_type": "code",
   "execution_count": 10,
   "metadata": {},
   "outputs": [
    {
     "data": {
      "text/html": [
       "<div>\n",
       "<style scoped>\n",
       "    .dataframe tbody tr th:only-of-type {\n",
       "        vertical-align: middle;\n",
       "    }\n",
       "\n",
       "    .dataframe tbody tr th {\n",
       "        vertical-align: top;\n",
       "    }\n",
       "\n",
       "    .dataframe thead th {\n",
       "        text-align: right;\n",
       "    }\n",
       "</style>\n",
       "<table border=\"1\" class=\"dataframe\">\n",
       "  <thead>\n",
       "    <tr style=\"text-align: right;\">\n",
       "      <th></th>\n",
       "      <th>id</th>\n",
       "      <th>host_response_time</th>\n",
       "      <th>host_response_rate</th>\n",
       "      <th>host_acceptance_rate</th>\n",
       "      <th>host_is_superhost</th>\n",
       "      <th>host_listings_count</th>\n",
       "      <th>host_has_profile_pic</th>\n",
       "      <th>host_identity_verified</th>\n",
       "      <th>neighbourhood_cleansed</th>\n",
       "      <th>latitude</th>\n",
       "      <th>...</th>\n",
       "      <th>review_scores_rating</th>\n",
       "      <th>review_scores_accuracy</th>\n",
       "      <th>review_scores_cleanliness</th>\n",
       "      <th>review_scores_checkin</th>\n",
       "      <th>review_scores_communication</th>\n",
       "      <th>review_scores_location</th>\n",
       "      <th>review_scores_value</th>\n",
       "      <th>instant_bookable</th>\n",
       "      <th>calculated_host_listings_count</th>\n",
       "      <th>reviews_per_month</th>\n",
       "    </tr>\n",
       "  </thead>\n",
       "  <tbody>\n",
       "    <tr>\n",
       "      <th>0</th>\n",
       "      <td>5.239058e+07</td>\n",
       "      <td>unknown</td>\n",
       "      <td>0.0</td>\n",
       "      <td>0.00</td>\n",
       "      <td>False</td>\n",
       "      <td>2</td>\n",
       "      <td>True</td>\n",
       "      <td>True</td>\n",
       "      <td>Cuajimalpa de Morelos</td>\n",
       "      <td>19.395126</td>\n",
       "      <td>...</td>\n",
       "      <td>4.70</td>\n",
       "      <td>4.78</td>\n",
       "      <td>4.75</td>\n",
       "      <td>4.83</td>\n",
       "      <td>4.81</td>\n",
       "      <td>4.84</td>\n",
       "      <td>4.72</td>\n",
       "      <td>True</td>\n",
       "      <td>1</td>\n",
       "      <td>0.00</td>\n",
       "    </tr>\n",
       "    <tr>\n",
       "      <th>1</th>\n",
       "      <td>3.579700e+04</td>\n",
       "      <td>unknown</td>\n",
       "      <td>0.0</td>\n",
       "      <td>0.00</td>\n",
       "      <td>False</td>\n",
       "      <td>2</td>\n",
       "      <td>True</td>\n",
       "      <td>True</td>\n",
       "      <td>Cuajimalpa de Morelos</td>\n",
       "      <td>19.382830</td>\n",
       "      <td>...</td>\n",
       "      <td>4.70</td>\n",
       "      <td>4.78</td>\n",
       "      <td>4.75</td>\n",
       "      <td>4.83</td>\n",
       "      <td>4.81</td>\n",
       "      <td>4.84</td>\n",
       "      <td>4.72</td>\n",
       "      <td>False</td>\n",
       "      <td>1</td>\n",
       "      <td>0.00</td>\n",
       "    </tr>\n",
       "    <tr>\n",
       "      <th>2</th>\n",
       "      <td>1.551198e+07</td>\n",
       "      <td>a few days or more</td>\n",
       "      <td>0.0</td>\n",
       "      <td>0.00</td>\n",
       "      <td>False</td>\n",
       "      <td>2</td>\n",
       "      <td>True</td>\n",
       "      <td>False</td>\n",
       "      <td>Miguel Hidalgo</td>\n",
       "      <td>19.410950</td>\n",
       "      <td>...</td>\n",
       "      <td>5.00</td>\n",
       "      <td>5.00</td>\n",
       "      <td>5.00</td>\n",
       "      <td>5.00</td>\n",
       "      <td>5.00</td>\n",
       "      <td>5.00</td>\n",
       "      <td>5.00</td>\n",
       "      <td>True</td>\n",
       "      <td>1</td>\n",
       "      <td>0.02</td>\n",
       "    </tr>\n",
       "    <tr>\n",
       "      <th>3</th>\n",
       "      <td>4.461600e+04</td>\n",
       "      <td>within an hour</td>\n",
       "      <td>1.0</td>\n",
       "      <td>0.66</td>\n",
       "      <td>False</td>\n",
       "      <td>9</td>\n",
       "      <td>True</td>\n",
       "      <td>True</td>\n",
       "      <td>CuauhtÃ©moc</td>\n",
       "      <td>19.411620</td>\n",
       "      <td>...</td>\n",
       "      <td>4.59</td>\n",
       "      <td>4.56</td>\n",
       "      <td>4.69</td>\n",
       "      <td>4.85</td>\n",
       "      <td>4.75</td>\n",
       "      <td>4.98</td>\n",
       "      <td>4.47</td>\n",
       "      <td>False</td>\n",
       "      <td>11</td>\n",
       "      <td>0.43</td>\n",
       "    </tr>\n",
       "    <tr>\n",
       "      <th>4</th>\n",
       "      <td>3.477645e+07</td>\n",
       "      <td>within an hour</td>\n",
       "      <td>1.0</td>\n",
       "      <td>1.00</td>\n",
       "      <td>True</td>\n",
       "      <td>3</td>\n",
       "      <td>True</td>\n",
       "      <td>True</td>\n",
       "      <td>Miguel Hidalgo</td>\n",
       "      <td>19.426410</td>\n",
       "      <td>...</td>\n",
       "      <td>5.00</td>\n",
       "      <td>5.00</td>\n",
       "      <td>4.80</td>\n",
       "      <td>5.00</td>\n",
       "      <td>5.00</td>\n",
       "      <td>5.00</td>\n",
       "      <td>4.80</td>\n",
       "      <td>True</td>\n",
       "      <td>4</td>\n",
       "      <td>0.14</td>\n",
       "    </tr>\n",
       "    <tr>\n",
       "      <th>...</th>\n",
       "      <td>...</td>\n",
       "      <td>...</td>\n",
       "      <td>...</td>\n",
       "      <td>...</td>\n",
       "      <td>...</td>\n",
       "      <td>...</td>\n",
       "      <td>...</td>\n",
       "      <td>...</td>\n",
       "      <td>...</td>\n",
       "      <td>...</td>\n",
       "      <td>...</td>\n",
       "      <td>...</td>\n",
       "      <td>...</td>\n",
       "      <td>...</td>\n",
       "      <td>...</td>\n",
       "      <td>...</td>\n",
       "      <td>...</td>\n",
       "      <td>...</td>\n",
       "      <td>...</td>\n",
       "      <td>...</td>\n",
       "      <td>...</td>\n",
       "    </tr>\n",
       "    <tr>\n",
       "      <th>21664</th>\n",
       "      <td>6.180000e+17</td>\n",
       "      <td>within an hour</td>\n",
       "      <td>1.0</td>\n",
       "      <td>1.00</td>\n",
       "      <td>False</td>\n",
       "      <td>79</td>\n",
       "      <td>True</td>\n",
       "      <td>True</td>\n",
       "      <td>Azcapotzalco</td>\n",
       "      <td>19.499980</td>\n",
       "      <td>...</td>\n",
       "      <td>3.00</td>\n",
       "      <td>3.33</td>\n",
       "      <td>3.67</td>\n",
       "      <td>5.00</td>\n",
       "      <td>5.00</td>\n",
       "      <td>4.67</td>\n",
       "      <td>3.67</td>\n",
       "      <td>True</td>\n",
       "      <td>79</td>\n",
       "      <td>2.73</td>\n",
       "    </tr>\n",
       "    <tr>\n",
       "      <th>21665</th>\n",
       "      <td>2.210710e+07</td>\n",
       "      <td>within an hour</td>\n",
       "      <td>1.0</td>\n",
       "      <td>1.00</td>\n",
       "      <td>False</td>\n",
       "      <td>22</td>\n",
       "      <td>True</td>\n",
       "      <td>True</td>\n",
       "      <td>Azcapotzalco</td>\n",
       "      <td>19.507870</td>\n",
       "      <td>...</td>\n",
       "      <td>4.82</td>\n",
       "      <td>4.95</td>\n",
       "      <td>4.93</td>\n",
       "      <td>4.77</td>\n",
       "      <td>4.88</td>\n",
       "      <td>4.90</td>\n",
       "      <td>4.83</td>\n",
       "      <td>False</td>\n",
       "      <td>11</td>\n",
       "      <td>1.97</td>\n",
       "    </tr>\n",
       "    <tr>\n",
       "      <th>21666</th>\n",
       "      <td>4.061781e+07</td>\n",
       "      <td>within a day</td>\n",
       "      <td>0.5</td>\n",
       "      <td>0.00</td>\n",
       "      <td>False</td>\n",
       "      <td>3</td>\n",
       "      <td>True</td>\n",
       "      <td>True</td>\n",
       "      <td>Azcapotzalco</td>\n",
       "      <td>19.507530</td>\n",
       "      <td>...</td>\n",
       "      <td>4.60</td>\n",
       "      <td>5.00</td>\n",
       "      <td>5.00</td>\n",
       "      <td>5.00</td>\n",
       "      <td>5.00</td>\n",
       "      <td>5.00</td>\n",
       "      <td>4.80</td>\n",
       "      <td>True</td>\n",
       "      <td>4</td>\n",
       "      <td>0.16</td>\n",
       "    </tr>\n",
       "    <tr>\n",
       "      <th>21667</th>\n",
       "      <td>5.700000e+17</td>\n",
       "      <td>within an hour</td>\n",
       "      <td>1.0</td>\n",
       "      <td>1.00</td>\n",
       "      <td>False</td>\n",
       "      <td>0</td>\n",
       "      <td>True</td>\n",
       "      <td>True</td>\n",
       "      <td>Azcapotzalco</td>\n",
       "      <td>19.493360</td>\n",
       "      <td>...</td>\n",
       "      <td>4.70</td>\n",
       "      <td>4.78</td>\n",
       "      <td>4.75</td>\n",
       "      <td>4.83</td>\n",
       "      <td>4.81</td>\n",
       "      <td>4.84</td>\n",
       "      <td>4.72</td>\n",
       "      <td>False</td>\n",
       "      <td>1</td>\n",
       "      <td>0.00</td>\n",
       "    </tr>\n",
       "    <tr>\n",
       "      <th>21668</th>\n",
       "      <td>3.717560e+07</td>\n",
       "      <td>within a few hours</td>\n",
       "      <td>1.0</td>\n",
       "      <td>1.00</td>\n",
       "      <td>True</td>\n",
       "      <td>7</td>\n",
       "      <td>True</td>\n",
       "      <td>True</td>\n",
       "      <td>Azcapotzalco</td>\n",
       "      <td>19.490040</td>\n",
       "      <td>...</td>\n",
       "      <td>4.81</td>\n",
       "      <td>4.91</td>\n",
       "      <td>4.93</td>\n",
       "      <td>4.93</td>\n",
       "      <td>4.93</td>\n",
       "      <td>4.98</td>\n",
       "      <td>4.78</td>\n",
       "      <td>False</td>\n",
       "      <td>1</td>\n",
       "      <td>1.66</td>\n",
       "    </tr>\n",
       "  </tbody>\n",
       "</table>\n",
       "<p>21669 rows × 32 columns</p>\n",
       "</div>"
      ],
      "text/plain": [
       "                 id  host_response_time  host_response_rate  \\\n",
       "0      5.239058e+07             unknown                 0.0   \n",
       "1      3.579700e+04             unknown                 0.0   \n",
       "2      1.551198e+07  a few days or more                 0.0   \n",
       "3      4.461600e+04      within an hour                 1.0   \n",
       "4      3.477645e+07      within an hour                 1.0   \n",
       "...             ...                 ...                 ...   \n",
       "21664  6.180000e+17      within an hour                 1.0   \n",
       "21665  2.210710e+07      within an hour                 1.0   \n",
       "21666  4.061781e+07        within a day                 0.5   \n",
       "21667  5.700000e+17      within an hour                 1.0   \n",
       "21668  3.717560e+07  within a few hours                 1.0   \n",
       "\n",
       "       host_acceptance_rate  host_is_superhost  host_listings_count  \\\n",
       "0                      0.00              False                    2   \n",
       "1                      0.00              False                    2   \n",
       "2                      0.00              False                    2   \n",
       "3                      0.66              False                    9   \n",
       "4                      1.00               True                    3   \n",
       "...                     ...                ...                  ...   \n",
       "21664                  1.00              False                   79   \n",
       "21665                  1.00              False                   22   \n",
       "21666                  0.00              False                    3   \n",
       "21667                  1.00              False                    0   \n",
       "21668                  1.00               True                    7   \n",
       "\n",
       "       host_has_profile_pic  host_identity_verified neighbourhood_cleansed  \\\n",
       "0                      True                    True  Cuajimalpa de Morelos   \n",
       "1                      True                    True  Cuajimalpa de Morelos   \n",
       "2                      True                   False         Miguel Hidalgo   \n",
       "3                      True                    True            CuauhtÃ©moc   \n",
       "4                      True                    True         Miguel Hidalgo   \n",
       "...                     ...                     ...                    ...   \n",
       "21664                  True                    True           Azcapotzalco   \n",
       "21665                  True                    True           Azcapotzalco   \n",
       "21666                  True                    True           Azcapotzalco   \n",
       "21667                  True                    True           Azcapotzalco   \n",
       "21668                  True                    True           Azcapotzalco   \n",
       "\n",
       "        latitude  ...  review_scores_rating review_scores_accuracy  \\\n",
       "0      19.395126  ...                  4.70                   4.78   \n",
       "1      19.382830  ...                  4.70                   4.78   \n",
       "2      19.410950  ...                  5.00                   5.00   \n",
       "3      19.411620  ...                  4.59                   4.56   \n",
       "4      19.426410  ...                  5.00                   5.00   \n",
       "...          ...  ...                   ...                    ...   \n",
       "21664  19.499980  ...                  3.00                   3.33   \n",
       "21665  19.507870  ...                  4.82                   4.95   \n",
       "21666  19.507530  ...                  4.60                   5.00   \n",
       "21667  19.493360  ...                  4.70                   4.78   \n",
       "21668  19.490040  ...                  4.81                   4.91   \n",
       "\n",
       "       review_scores_cleanliness  review_scores_checkin  \\\n",
       "0                           4.75                   4.83   \n",
       "1                           4.75                   4.83   \n",
       "2                           5.00                   5.00   \n",
       "3                           4.69                   4.85   \n",
       "4                           4.80                   5.00   \n",
       "...                          ...                    ...   \n",
       "21664                       3.67                   5.00   \n",
       "21665                       4.93                   4.77   \n",
       "21666                       5.00                   5.00   \n",
       "21667                       4.75                   4.83   \n",
       "21668                       4.93                   4.93   \n",
       "\n",
       "       review_scores_communication  review_scores_location  \\\n",
       "0                             4.81                    4.84   \n",
       "1                             4.81                    4.84   \n",
       "2                             5.00                    5.00   \n",
       "3                             4.75                    4.98   \n",
       "4                             5.00                    5.00   \n",
       "...                            ...                     ...   \n",
       "21664                         5.00                    4.67   \n",
       "21665                         4.88                    4.90   \n",
       "21666                         5.00                    5.00   \n",
       "21667                         4.81                    4.84   \n",
       "21668                         4.93                    4.98   \n",
       "\n",
       "       review_scores_value  instant_bookable  calculated_host_listings_count  \\\n",
       "0                     4.72              True                               1   \n",
       "1                     4.72             False                               1   \n",
       "2                     5.00              True                               1   \n",
       "3                     4.47             False                              11   \n",
       "4                     4.80              True                               4   \n",
       "...                    ...               ...                             ...   \n",
       "21664                 3.67              True                              79   \n",
       "21665                 4.83             False                              11   \n",
       "21666                 4.80              True                               4   \n",
       "21667                 4.72             False                               1   \n",
       "21668                 4.78             False                               1   \n",
       "\n",
       "       reviews_per_month  \n",
       "0                   0.00  \n",
       "1                   0.00  \n",
       "2                   0.02  \n",
       "3                   0.43  \n",
       "4                   0.14  \n",
       "...                  ...  \n",
       "21664               2.73  \n",
       "21665               1.97  \n",
       "21666               0.16  \n",
       "21667               0.00  \n",
       "21668               1.66  \n",
       "\n",
       "[21669 rows x 32 columns]"
      ]
     },
     "execution_count": 10,
     "metadata": {},
     "output_type": "execute_result"
    }
   ],
   "source": [
    "#Copia del dataset sin nulos\n",
    "data3 = data2.copy()\n",
    "data3"
   ]
  },
  {
   "cell_type": "code",
   "execution_count": 11,
   "metadata": {},
   "outputs": [
    {
     "data": {
      "image/png": "[encoded data removed]",
      "text/plain": [
       "<Figure size 360x216 with 1 Axes>"
      ]
     },
     "metadata": {
      "needs_background": "light"
     },
     "output_type": "display_data"
    }
   ],
   "source": [
    "#Diagrama de caja: host_response_rate.\n",
    "fig1 = plt.figure(figsize =(5, 3))\n",
    "plt.boxplot(data3[\"host_response_rate\"]) #boxplot() usa iqr\n",
    "plt.title(\"host_response_rate outliers\")\n",
    "plt.show() #diagrama para visualizar outliers\n",
    "\n",
    "#No se tratarán ouliers porque los datos sí van de 0 a 1, sería preocupante tener datos fuera de ese rango"
   ]
  },
  {
   "cell_type": "code",
   "execution_count": 12,
   "metadata": {},
   "outputs": [
    {
     "data": {
      "image/png": "[encoded data removed]",
      "text/plain": [
       "<Figure size 360x216 with 1 Axes>"
      ]
     },
     "metadata": {
      "needs_background": "light"
     },
     "output_type": "display_data"
    }
   ],
   "source": [
    "#Diagrama de caja: host_acceptance_rate.\n",
    "fig1 = plt.figure(figsize =(5, 3))\n",
    "plt.boxplot(data3[\"host_acceptance_rate\"]) #boxplot() usa iqr\n",
    "plt.title(\"host_acceptance_rate outliers\")\n",
    "plt.show() #diagrama para visualizar outliers\n",
    "\n",
    "#No se tratarán ouliers porque los datos sí van de 0 a 1, sería preocupante tener datos fuera de ese rango"
   ]
  },
  {
   "cell_type": "code",
   "execution_count": 13,
   "metadata": {},
   "outputs": [
    {
     "data": {
      "image/png": "[encoded data removed]",
      "text/plain": [
       "<Figure size 360x216 with 1 Axes>"
      ]
     },
     "metadata": {
      "needs_background": "light"
     },
     "output_type": "display_data"
    }
   ],
   "source": [
    "#Diagrama de caja: host_listings_count.\n",
    "fig1 = plt.figure(figsize =(5, 3))\n",
    "plt.boxplot(data3[\"host_listings_count\"]) #boxplot() usa iqr\n",
    "plt.title(\"host_listings_count outliers\")\n",
    "plt.show() #diagrama para visualizar outliers"
   ]
  },
  {
   "cell_type": "code",
   "execution_count": 21,
   "metadata": {},
   "outputs": [
    {
     "name": "stdout",
     "output_type": "stream",
     "text": [
      "Limite superior permitido 106.6259714062706\n",
      "Limite inferior permitido -0.20755462741445108\n"
     ]
    }
   ],
   "source": [
    "#Valores extremos: límite superior y límite inferior.\n",
    "#Variable: host_listings_count\n",
    "\n",
    "x1 = data3[\"host_listings_count\"]\n",
    "\n",
    "LS1= x1.mean() + 1.9*x1.std()\n",
    "LI1= x1.mean() - 0.3*x1.std()\n",
    "\n",
    "print(\"Limite superior permitido\", LS1)\n",
    "print(\"Limite inferior permitido\", LI1)"
   ]
  },
  {
   "cell_type": "code",
   "execution_count": 22,
   "metadata": {},
   "outputs": [
    {
     "name": "stderr",
     "output_type": "stream",
     "text": [
      "C:\\Users\\aremy\\AppData\\Local\\Temp\\ipykernel_21344\\1386262199.py:4: SettingWithCopyWarning: \n",
      "A value is trying to be set on a copy of a slice from a DataFrame.\n",
      "Try using .loc[row_indexer,col_indexer] = value instead\n",
      "\n",
      "See the caveats in the documentation: https://pandas.pydata.org/pandas-docs/stable/user_guide/indexing.html#returning-a-view-versus-a-copy\n",
      "  data3[\"host_listings_count\"]=data3[\"host_listings_count\"].fillna(round(data2[\"host_listings_count\"].mean(),0))\n"
     ]
    }
   ],
   "source": [
    "#Primera sustitución: host_listings_count\n",
    "#Método: desviación estándar\n",
    "data3=data2[(x1<=LS1)&(x1>=LI1)] #Obtenemos datos sin outliers de host_listings_count del DataFrame\n",
    "data3[\"host_listings_count\"]=data3[\"host_listings_count\"].fillna(round(data2[\"host_listings_count\"].mean(),0))"
   ]
  },
  {
   "cell_type": "code",
   "execution_count": 23,
   "metadata": {},
   "outputs": [
    {
     "data": {
      "image/png": "[encoded data removed]",
      "text/plain": [
       "<Figure size 360x216 with 1 Axes>"
      ]
     },
     "metadata": {
      "needs_background": "light"
     },
     "output_type": "display_data"
    }
   ],
   "source": [
    "#Diagrama de caja: accommodates.\n",
    "fig1 = plt.figure(figsize =(5, 3))\n",
    "plt.boxplot(data3[\"accommodates\"]) #boxplot() usa iqr\n",
    "plt.title(\"accommodates outliers\")\n",
    "plt.show() #diagrama para visualizar outliers\n",
    "#Se dejan los valores originales porque pueden explicar porqué un precio estaría tan alto"
   ]
  },
  {
   "cell_type": "code",
   "execution_count": 24,
   "metadata": {},
   "outputs": [
    {
     "data": {
      "image/png": "[encoded data removed]",
      "text/plain": [
       "<Figure size 360x216 with 1 Axes>"
      ]
     },
     "metadata": {
      "needs_background": "light"
     },
     "output_type": "display_data"
    }
   ],
   "source": [
    "#Diagrama de caja: bathroom_text.\n",
    "fig1 = plt.figure(figsize =(5, 3))\n",
    "plt.boxplot(data3[\"bathroom_text\"]) #boxplot() usa iqr\n",
    "plt.title(\"bathroom_text outliers\")\n",
    "plt.show() #diagrama para visualizar outliers"
   ]
  },
  {
   "cell_type": "code",
   "execution_count": 25,
   "metadata": {},
   "outputs": [
    {
     "data": {
      "image/png": "[encoded data removed]",
      "text/plain": [
       "<Figure size 360x216 with 1 Axes>"
      ]
     },
     "metadata": {
      "needs_background": "light"
     },
     "output_type": "display_data"
    }
   ],
   "source": [
    "#Diagrama de caja: bedrooms.\n",
    "fig1 = plt.figure(figsize =(5, 3))\n",
    "plt.boxplot(data3[\"bedrooms\"]) #boxplot() usa iqr\n",
    "plt.title(\"bedrooms outliers\")\n",
    "plt.show() #diagrama para visualizar outliers"
   ]
  },
  {
   "cell_type": "code",
   "execution_count": 29,
   "metadata": {},
   "outputs": [
    {
     "name": "stdout",
     "output_type": "stream",
     "text": [
      "Limite superior permitido 10.152914962940846\n",
      "Limite inferior permitido -7.061401741287794\n"
     ]
    }
   ],
   "source": [
    "#Valores extremos: límite superior y límite inferior.\n",
    "#Variable: bedrooms\n",
    "\n",
    "x7 = data2[\"bedrooms\"]\n",
    "\n",
    "LS7= x7.mean() + 7*x7.std()\n",
    "LI7= x7.mean() - 7*x7.std()\n",
    "\n",
    "print(\"Limite superior permitido\", LS7)\n",
    "print(\"Limite inferior permitido\", LI7)"
   ]
  },
  {
   "cell_type": "code",
   "execution_count": 30,
   "metadata": {},
   "outputs": [
    {
     "name": "stderr",
     "output_type": "stream",
     "text": [
      "C:\\Users\\aremy\\AppData\\Local\\Temp\\ipykernel_21344\\4283371371.py:4: SettingWithCopyWarning: \n",
      "A value is trying to be set on a copy of a slice from a DataFrame.\n",
      "Try using .loc[row_indexer,col_indexer] = value instead\n",
      "\n",
      "See the caveats in the documentation: https://pandas.pydata.org/pandas-docs/stable/user_guide/indexing.html#returning-a-view-versus-a-copy\n",
      "  data3[\"bedrooms\"]=data3[\"bedrooms\"].fillna(round(data2[\"bedrooms\"].mean(),0))\n"
     ]
    }
   ],
   "source": [
    "#Otra sustitución: bedrooms\n",
    "#Método: desviación estándar\n",
    "data3=data2[(x7<=LS7)&(x7>=LI7)] #Obtenemos datos sin outliers de bedrooms del DataFrame\n",
    "data3[\"bedrooms\"]=data3[\"bedrooms\"].fillna(round(data2[\"bedrooms\"].mean(),0))"
   ]
  },
  {
   "cell_type": "code",
   "execution_count": 31,
   "metadata": {},
   "outputs": [
    {
     "data": {
      "image/png": "[encoded data removed]",
      "text/plain": [
       "<Figure size 360x216 with 1 Axes>"
      ]
     },
     "metadata": {
      "needs_background": "light"
     },
     "output_type": "display_data"
    }
   ],
   "source": [
    "#Diagrama de caja: beds.\n",
    "fig1 = plt.figure(figsize =(5, 3))\n",
    "plt.boxplot(data3[\"beds\"]) #boxplot() usa iqr\n",
    "plt.title(\"beds outliers\")\n",
    "plt.show() #diagrama para visualizar outliers"
   ]
  },
  {
   "cell_type": "code",
   "execution_count": 34,
   "metadata": {},
   "outputs": [
    {
     "name": "stdout",
     "output_type": "stream",
     "text": [
      "Limite superior permitido 20.842627079119808\n",
      "Limite inferior permitido -1.8996839739841762\n"
     ]
    }
   ],
   "source": [
    "#Valores extremos: límite superior y límite inferior.\n",
    "#Variable: beds\n",
    "\n",
    "x8 = data2[\"beds\"]\n",
    "\n",
    "LS8= x8.mean() + 11*x8.std()\n",
    "LI8= x7.mean() - 2*x8.std()\n",
    "\n",
    "print(\"Limite superior permitido\", LS8)\n",
    "print(\"Limite inferior permitido\", LI8)"
   ]
  },
  {
   "cell_type": "code",
   "execution_count": 35,
   "metadata": {},
   "outputs": [
    {
     "name": "stderr",
     "output_type": "stream",
     "text": [
      "C:\\Users\\aremy\\AppData\\Local\\Temp\\ipykernel_21344\\3299595909.py:4: SettingWithCopyWarning: \n",
      "A value is trying to be set on a copy of a slice from a DataFrame.\n",
      "Try using .loc[row_indexer,col_indexer] = value instead\n",
      "\n",
      "See the caveats in the documentation: https://pandas.pydata.org/pandas-docs/stable/user_guide/indexing.html#returning-a-view-versus-a-copy\n",
      "  data3[\"beds\"]=data3[\"beds\"].fillna(round(data2[\"beds\"].mean(),0))\n"
     ]
    }
   ],
   "source": [
    "#Otra sustitución: beds\n",
    "#Método: desviación estándar\n",
    "data3=data2[(x8<=LS8)&(x8>=LI8)] #Obtenemos datos sin outliers de bedrooms del DataFrame\n",
    "data3[\"beds\"]=data3[\"beds\"].fillna(round(data2[\"beds\"].mean(),0))"
   ]
  },
  {
   "cell_type": "code",
   "execution_count": 36,
   "metadata": {},
   "outputs": [
    {
     "data": {
      "image/png": "[encoded data removed]",
      "text/plain": [
       "<Figure size 360x216 with 1 Axes>"
      ]
     },
     "metadata": {
      "needs_background": "light"
     },
     "output_type": "display_data"
    }
   ],
   "source": [
    "#Diagrama de caja: price.\n",
    "fig1 = plt.figure(figsize =(5, 3))\n",
    "plt.boxplot(data3[\"price\"]) #boxplot() usa iqr\n",
    "plt.title(\"price outliers\")\n",
    "plt.show() #diagrama para visualizar outliers"
   ]
  },
  {
   "cell_type": "code",
   "execution_count": 37,
   "metadata": {},
   "outputs": [
    {
     "data": {
      "text/plain": [
       "0.0"
      ]
     },
     "execution_count": 37,
     "metadata": {},
     "output_type": "execute_result"
    }
   ],
   "source": [
    "min(data3['price'])\n",
    "#Se decidió no sustituir atípicos porque estos son los precios registrados en la base de datos"
   ]
  },
  {
   "cell_type": "code",
   "execution_count": 38,
   "metadata": {},
   "outputs": [
    {
     "data": {
      "image/png": "[encoded data removed]",
      "text/plain": [
       "<Figure size 360x216 with 1 Axes>"
      ]
     },
     "metadata": {
      "needs_background": "light"
     },
     "output_type": "display_data"
    }
   ],
   "source": [
    "#Diagrama de caja: minimum_nights.\n",
    "fig1 = plt.figure(figsize =(5, 3))\n",
    "plt.boxplot(data3[\"minimum_nights\"]) #boxplot() usa iqr\n",
    "plt.title(\"minimum_nights outliers\")\n",
    "plt.show() #diagrama para visualizar outliers"
   ]
  },
  {
   "cell_type": "code",
   "execution_count": 46,
   "metadata": {},
   "outputs": [
    {
     "name": "stdout",
     "output_type": "stream",
     "text": [
      "Limite superior permitido 8.4\n",
      "Limite inferior permitido -4.4\n"
     ]
    }
   ],
   "source": [
    "#Valores extremos: límite superior y límite inferior.\n",
    "#Variable: minimum_nights.\n",
    "\n",
    "x2 = data2['minimum_nights']\n",
    "\n",
    "p25x2=x2.quantile(0.25) #Q1\n",
    "p75x2=x2.quantile(0.75) #Q3\n",
    "iqrx2 = p75x2 - p25x2 #Q3-Q1\n",
    "\n",
    "LS_iqr_x2 = p75x2 + 2.7*iqrx2\n",
    "LI_iqr_x2 = p25x2 - 2.7*iqrx2\n",
    "print(\"Limite superior permitido\", LS_iqr_x2)\n",
    "print(\"Limite inferior permitido\", LI_iqr_x2)"
   ]
  },
  {
   "cell_type": "code",
   "execution_count": 47,
   "metadata": {},
   "outputs": [
    {
     "name": "stderr",
     "output_type": "stream",
     "text": [
      "C:\\Users\\aremy\\AppData\\Local\\Temp\\ipykernel_21344\\3054552080.py:4: SettingWithCopyWarning: \n",
      "A value is trying to be set on a copy of a slice from a DataFrame.\n",
      "Try using .loc[row_indexer,col_indexer] = value instead\n",
      "\n",
      "See the caveats in the documentation: https://pandas.pydata.org/pandas-docs/stable/user_guide/indexing.html#returning-a-view-versus-a-copy\n",
      "  data3[\"minimum_nights\"]=data3[\"minimum_nights\"].fillna(round(data2[\"minimum_nights\"].mean(),0))\n"
     ]
    }
   ],
   "source": [
    "#Sustitución: minimum_nights\n",
    "#Método: desviación estándar\n",
    "data3=data2[(x2<=LS_iqr_x2)&(x2>=LI_iqr_x2)] #Obtenemos datos sin outliers de minimum_nights del DataFrame\n",
    "data3[\"minimum_nights\"]=data3[\"minimum_nights\"].fillna(round(data2[\"minimum_nights\"].mean(),0))"
   ]
  },
  {
   "cell_type": "code",
   "execution_count": 48,
   "metadata": {},
   "outputs": [
    {
     "data": {
      "image/png": "[encoded data removed]",
      "text/plain": [
       "<Figure size 360x216 with 1 Axes>"
      ]
     },
     "metadata": {
      "needs_background": "light"
     },
     "output_type": "display_data"
    }
   ],
   "source": [
    "#Diagrama de caja: maximum_nights.\n",
    "fig1 = plt.figure(figsize =(5, 3))\n",
    "plt.boxplot(data3[\"maximum_nights\"]) #boxplot() usa iqr\n",
    "plt.title(\"maximum_nights outliers\")\n",
    "plt.show() #diagrama para visualizar outliers"
   ]
  },
  {
   "cell_type": "code",
   "execution_count": 49,
   "metadata": {},
   "outputs": [
    {
     "name": "stdout",
     "output_type": "stream",
     "text": [
      "Limite superior permitido 2664.0\n",
      "Limite inferior permitido -1440.0\n"
     ]
    }
   ],
   "source": [
    "#Valores extremos: límite superior y límite inferior.\n",
    "#Variable: maximum_nights.\n",
    "\n",
    "x3 = data2['maximum_nights']\n",
    "\n",
    "p25x3=x3.quantile(0.25) #Q1\n",
    "p75x3=x3.quantile(0.75) #Q3\n",
    "iqrx3 = p75x3 - p25x3 #Q3-Q1\n",
    "\n",
    "LS_iqr_x3 = p75x3 + 1.5*iqrx3\n",
    "LI_iqr_x3 = p25x3 - 1.5*iqrx3\n",
    "print(\"Limite superior permitido\", LS_iqr_x3)\n",
    "print(\"Limite inferior permitido\", LI_iqr_x3)"
   ]
  },
  {
   "cell_type": "code",
   "execution_count": 50,
   "metadata": {},
   "outputs": [
    {
     "name": "stderr",
     "output_type": "stream",
     "text": [
      "C:\\Users\\aremy\\AppData\\Local\\Temp\\ipykernel_21344\\3796938618.py:4: SettingWithCopyWarning: \n",
      "A value is trying to be set on a copy of a slice from a DataFrame.\n",
      "Try using .loc[row_indexer,col_indexer] = value instead\n",
      "\n",
      "See the caveats in the documentation: https://pandas.pydata.org/pandas-docs/stable/user_guide/indexing.html#returning-a-view-versus-a-copy\n",
      "  data3[\"maximum_nights\"]=data3[\"maximum_nights\"].fillna(round(data2[\"maximum_nights\"].mean(),0))\n"
     ]
    }
   ],
   "source": [
    "#Tercera sustitución: maximum_nights\n",
    "#Método: desviación estándar\n",
    "data3=data2[(x3<=LS_iqr_x3)&(x3>=LI_iqr_x3)] #Obtenemos datos sin outliers de maximum_nights del DataFrame\n",
    "data3[\"maximum_nights\"]=data3[\"maximum_nights\"].fillna(round(data2[\"maximum_nights\"].mean(),0))"
   ]
  },
  {
   "cell_type": "code",
   "execution_count": 51,
   "metadata": {},
   "outputs": [
    {
     "data": {
      "image/png": "[encoded data removed]",
      "text/plain": [
       "<Figure size 360x216 with 1 Axes>"
      ]
     },
     "metadata": {
      "needs_background": "light"
     },
     "output_type": "display_data"
    }
   ],
   "source": [
    "#Diagrama de caja: availability_365.\n",
    "fig1 = plt.figure(figsize =(5, 3))\n",
    "plt.boxplot(data3[\"availability_365\"]) #boxplot() usa iqr\n",
    "plt.title(\"availability_365 outliers\")\n",
    "plt.show() #diagrama para visualizar outliers"
   ]
  },
  {
   "cell_type": "code",
   "execution_count": 52,
   "metadata": {},
   "outputs": [
    {
     "data": {
      "image/png": "[encoded data removed]",
      "text/plain": [
       "<Figure size 360x216 with 1 Axes>"
      ]
     },
     "metadata": {
      "needs_background": "light"
     },
     "output_type": "display_data"
    }
   ],
   "source": [
    "#Diagrama de caja: number_of_reviews.\n",
    "fig1 = plt.figure(figsize =(5, 3))\n",
    "plt.boxplot(data3[\"number_of_reviews\"]) #boxplot() usa iqr\n",
    "plt.title(\"number_of_reviews outliers\")\n",
    "plt.show() #diagrama para visualizar outliers"
   ]
  },
  {
   "cell_type": "code",
   "execution_count": 53,
   "metadata": {},
   "outputs": [
    {
     "name": "stdout",
     "output_type": "stream",
     "text": [
      "Limite superior permitido 86.0\n",
      "Limite inferior permitido -50.0\n"
     ]
    }
   ],
   "source": [
    "#Valores extremos: límite superior y límite inferior.\n",
    "#Variable: number_of_reviews.\n",
    "\n",
    "x4 = data2['number_of_reviews']\n",
    "\n",
    "p25x4=x4.quantile(0.25) #Q1\n",
    "p75x4=x4.quantile(0.75) #Q3\n",
    "iqrx4 = p75x4 - p25x4 #Q3-Q1\n",
    "\n",
    "LS_iqr_x4 = p75x4 + 1.5*iqrx4\n",
    "LI_iqr_x4 = p25x4 - 1.5*iqrx4\n",
    "print(\"Limite superior permitido\", LS_iqr_x4)\n",
    "print(\"Limite inferior permitido\", LI_iqr_x4)"
   ]
  },
  {
   "cell_type": "code",
   "execution_count": 54,
   "metadata": {},
   "outputs": [
    {
     "name": "stderr",
     "output_type": "stream",
     "text": [
      "C:\\Users\\aremy\\AppData\\Local\\Temp\\ipykernel_21344\\4273449777.py:4: SettingWithCopyWarning: \n",
      "A value is trying to be set on a copy of a slice from a DataFrame.\n",
      "Try using .loc[row_indexer,col_indexer] = value instead\n",
      "\n",
      "See the caveats in the documentation: https://pandas.pydata.org/pandas-docs/stable/user_guide/indexing.html#returning-a-view-versus-a-copy\n",
      "  data3[\"number_of_reviews\"]=data3[\"number_of_reviews\"].fillna(round(data2[\"number_of_reviews\"].mean(),0))\n"
     ]
    }
   ],
   "source": [
    "#Otra sustitución: number_of_reviews\n",
    "#Método: intercuartílicos\n",
    "data3=data2[(x4<=LS_iqr_x4)&(x4>=LI_iqr_x4)] #Datos sin outliers de number_of_reviews del DataFrame\n",
    "data3[\"number_of_reviews\"]=data3[\"number_of_reviews\"].fillna(round(data2[\"number_of_reviews\"].mean(),0))"
   ]
  },
  {
   "cell_type": "code",
   "execution_count": 55,
   "metadata": {},
   "outputs": [
    {
     "data": {
      "image/png": "[encoded data removed]",
      "text/plain": [
       "<Figure size 360x216 with 1 Axes>"
      ]
     },
     "metadata": {
      "needs_background": "light"
     },
     "output_type": "display_data"
    }
   ],
   "source": [
    "#Diagrama de caja: number_of_reviews_ltm.\n",
    "fig1 = plt.figure(figsize =(5, 3))\n",
    "plt.boxplot(data3[\"number_of_reviews_ltm\"]) #boxplot() usa iqr\n",
    "plt.title(\"number_of_reviews_ltm outliers\")\n",
    "plt.show() #diagrama para visualizar outliers"
   ]
  },
  {
   "cell_type": "code",
   "execution_count": 56,
   "metadata": {},
   "outputs": [
    {
     "data": {
      "image/png": "[encoded data removed]",
      "text/plain": [
       "<Figure size 360x216 with 1 Axes>"
      ]
     },
     "metadata": {
      "needs_background": "light"
     },
     "output_type": "display_data"
    }
   ],
   "source": [
    "#Diagrama de caja: review_scores_rating.\n",
    "fig1 = plt.figure(figsize =(5, 3))\n",
    "plt.boxplot(data3[\"review_scores_rating\"]) #boxplot() usa iqr\n",
    "plt.title(\"review_scores_rating outliers\")\n",
    "plt.show() #diagrama para visualizar outliers\n",
    "#No se tratarán porque son los score dados por el usuario y es importante conocer su relación real con el precio"
   ]
  },
  {
   "cell_type": "code",
   "execution_count": 57,
   "metadata": {},
   "outputs": [
    {
     "data": {
      "image/png": "[encoded data removed]",
      "text/plain": [
       "<Figure size 360x216 with 1 Axes>"
      ]
     },
     "metadata": {
      "needs_background": "light"
     },
     "output_type": "display_data"
    }
   ],
   "source": [
    "#Diagrama de caja: review_scores_accuracy.\n",
    "fig1 = plt.figure(figsize =(5, 3))\n",
    "plt.boxplot(data3[\"review_scores_accuracy\"]) #boxplot() usa iqr\n",
    "plt.title(\"review_scores_accuracy outliers\")\n",
    "plt.show() #diagrama para visualizar outliers\n",
    "#No se tratarán porque son los score dados por el usuario y es importante conocer su relación real con el precio"
   ]
  },
  {
   "cell_type": "code",
   "execution_count": 58,
   "metadata": {},
   "outputs": [
    {
     "data": {
      "image/png": "[encoded data removed]",
      "text/plain": [
       "<Figure size 360x216 with 1 Axes>"
      ]
     },
     "metadata": {
      "needs_background": "light"
     },
     "output_type": "display_data"
    }
   ],
   "source": [
    "#Diagrama de caja: review_scores_cleanliness.\n",
    "fig1 = plt.figure(figsize =(5, 3))\n",
    "plt.boxplot(data3[\"review_scores_cleanliness\"]) #boxplot() usa iqr\n",
    "plt.title(\"review_scores_cleanliness outliers\")\n",
    "plt.show() #diagrama para visualizar outliers\n",
    "#No se tratarán porque son los score dados por el usuario y es importante conocer su relación real con el precio"
   ]
  },
  {
   "cell_type": "code",
   "execution_count": 59,
   "metadata": {},
   "outputs": [
    {
     "data": {
      "image/png": "[encoded data removed]",
      "text/plain": [
       "<Figure size 360x216 with 1 Axes>"
      ]
     },
     "metadata": {
      "needs_background": "light"
     },
     "output_type": "display_data"
    }
   ],
   "source": [
    "#Diagrama de caja: review_scores_checkin.\n",
    "fig1 = plt.figure(figsize =(5, 3))\n",
    "plt.boxplot(data3[\"review_scores_checkin\"]) #boxplot() usa iqr\n",
    "plt.title(\"review_scores_checkin outliers\")\n",
    "plt.show() #diagrama para visualizar outliers\n",
    "#No se tratarán porque son los score dados por el usuario y es importante conocer su relación real con el precio"
   ]
  },
  {
   "cell_type": "code",
   "execution_count": 60,
   "metadata": {},
   "outputs": [
    {
     "data": {
      "image/png": "[encoded data removed]",
      "text/plain": [
       "<Figure size 360x216 with 1 Axes>"
      ]
     },
     "metadata": {
      "needs_background": "light"
     },
     "output_type": "display_data"
    }
   ],
   "source": [
    "#Diagrama de caja: review_scores_communication.\n",
    "fig1 = plt.figure(figsize =(5, 3))\n",
    "plt.boxplot(data3[\"review_scores_communication\"]) #boxplot() usa iqr\n",
    "plt.title(\"review_scores_communication outliers\")\n",
    "plt.show() #diagrama para visualizar outliers\n",
    "#No se tratarán porque son los score dados por el usuario y es importante conocer su relación real con el precio"
   ]
  },
  {
   "cell_type": "code",
   "execution_count": 61,
   "metadata": {},
   "outputs": [
    {
     "data": {
      "image/png": "[encoded data removed]",
      "text/plain": [
       "<Figure size 360x216 with 1 Axes>"
      ]
     },
     "metadata": {
      "needs_background": "light"
     },
     "output_type": "display_data"
    }
   ],
   "source": [
    "#Diagrama de caja: review_scores_location.\n",
    "fig1 = plt.figure(figsize =(5, 3))\n",
    "plt.boxplot(data3[\"review_scores_location\"]) #boxplot() usa iqr\n",
    "plt.title(\"review_scores_location outliers\")\n",
    "plt.show() #diagrama para visualizar outliers\n",
    "#No se tratarán porque son los score dados por el usuario y es importante conocer su relación real con el precio"
   ]
  },
  {
   "cell_type": "code",
   "execution_count": 62,
   "metadata": {},
   "outputs": [
    {
     "data": {
      "image/png": "[encoded data removed]",
      "text/plain": [
       "<Figure size 360x216 with 1 Axes>"
      ]
     },
     "metadata": {
      "needs_background": "light"
     },
     "output_type": "display_data"
    }
   ],
   "source": [
    "#Diagrama de caja: review_scores_value.\n",
    "fig1 = plt.figure(figsize =(5, 3))\n",
    "plt.boxplot(data3[\"review_scores_value\"]) #boxplot() usa iqr\n",
    "plt.title(\"review_scores_value outliers\")\n",
    "plt.show() #diagrama para visualizar outliers\n",
    "#No se tratarán porque son los score dados por el usuario y es importante conocer su relación real con el precio"
   ]
  },
  {
   "cell_type": "code",
   "execution_count": 64,
   "metadata": {},
   "outputs": [
    {
     "data": {
      "image/png": "[encoded data removed]",
      "text/plain": [
       "<Figure size 360x216 with 1 Axes>"
      ]
     },
     "metadata": {
      "needs_background": "light"
     },
     "output_type": "display_data"
    }
   ],
   "source": [
    "#Diagrama de caja: calculated_host_listings_count.\n",
    "fig1 = plt.figure(figsize =(5, 3))\n",
    "plt.boxplot(data3[\"calculated_host_listings_count\"]) #boxplot() usa iqr\n",
    "plt.title(\"calculated_host_listings_count outliers\")\n",
    "plt.show() #diagrama para visualizar outliers\n",
    "#Se trataron porque había atípicos MUY marcados"
   ]
  },
  {
   "cell_type": "code",
   "execution_count": 69,
   "metadata": {},
   "outputs": [
    {
     "name": "stdout",
     "output_type": "stream",
     "text": [
      "Limite superior permitido 50.40399166023695\n",
      "Limite inferior permitido -1.290141770446187\n"
     ]
    }
   ],
   "source": [
    "#Valores extremos: límite superior y límite inferior.\n",
    "#Variable: calculated_host_listings_count\n",
    "\n",
    "x6 = data2[\"calculated_host_listings_count\"]\n",
    "\n",
    "LS6= x6.mean() + 1.8*x6.std()\n",
    "LI6= x6.mean() - 0.5*x6.std()\n",
    "\n",
    "print(\"Limite superior permitido\", LS6)\n",
    "print(\"Limite inferior permitido\", LI6)"
   ]
  },
  {
   "cell_type": "code",
   "execution_count": 70,
   "metadata": {},
   "outputs": [
    {
     "name": "stderr",
     "output_type": "stream",
     "text": [
      "C:\\Users\\aremy\\AppData\\Local\\Temp\\ipykernel_21344\\1490209844.py:4: SettingWithCopyWarning: \n",
      "A value is trying to be set on a copy of a slice from a DataFrame.\n",
      "Try using .loc[row_indexer,col_indexer] = value instead\n",
      "\n",
      "See the caveats in the documentation: https://pandas.pydata.org/pandas-docs/stable/user_guide/indexing.html#returning-a-view-versus-a-copy\n",
      "  data3[\"calculated_host_listings_count\"]=data3[\"calculated_host_listings_count\"].fillna(round(data2[\"calculated_host_listings_count\"].mean(),0))\n"
     ]
    }
   ],
   "source": [
    "#Otra sustitución: calculated_host_listings_count\n",
    "#Método: desviación estándar\n",
    "data3=data2[(x6<=LS6)&(x6>=LI6)] #Obtenemos datos sin outliers de host_listings_count del DataFrame\n",
    "data3[\"calculated_host_listings_count\"]=data3[\"calculated_host_listings_count\"].fillna(round(data2[\"calculated_host_listings_count\"].mean(),0))"
   ]
  },
  {
   "cell_type": "code",
   "execution_count": 71,
   "metadata": {},
   "outputs": [
    {
     "data": {
      "image/png": "[encoded data removed]",
      "text/plain": [
       "<Figure size 360x216 with 1 Axes>"
      ]
     },
     "metadata": {
      "needs_background": "light"
     },
     "output_type": "display_data"
    }
   ],
   "source": [
    "#Diagrama de caja: reviews_per_month.\n",
    "fig1 = plt.figure(figsize =(5, 3))\n",
    "plt.boxplot(data3[\"reviews_per_month\"]) #boxplot() usa iqr\n",
    "plt.title(\"reviews_per_month outliers\")\n",
    "plt.show() #diagrama para visualizar outliers\n",
    "#No se considera que los outliers perjudiquen el análisis"
   ]
  },
  {
   "cell_type": "code",
   "execution_count": 84,
   "metadata": {},
   "outputs": [
    {
     "name": "stdout",
     "output_type": "stream",
     "text": [
      "Limite superior permitido 26.26679483754992\n",
      "Limite inferior permitido -0.050699457695355\n"
     ]
    }
   ],
   "source": [
    "#Valores extremos: límite superior y límite inferior.\n",
    "#Variable: reviews_per_month\n",
    "\n",
    "x7 = data2[\"reviews_per_month\"]\n",
    "\n",
    "LS7= x7.mean() + 13*x7.std() #30 se me hacía muy exacto 1 al día, dejé 26 para tener holgura\n",
    "LI7= x7.mean() - 0.7*x7.std()\n",
    "\n",
    "print(\"Limite superior permitido\", LS7)\n",
    "print(\"Limite inferior permitido\", LI7)"
   ]
  },
  {
   "cell_type": "code",
   "execution_count": 85,
   "metadata": {},
   "outputs": [
    {
     "name": "stderr",
     "output_type": "stream",
     "text": [
      "C:\\Users\\aremy\\AppData\\Local\\Temp\\ipykernel_21344\\3479530940.py:4: SettingWithCopyWarning: \n",
      "A value is trying to be set on a copy of a slice from a DataFrame.\n",
      "Try using .loc[row_indexer,col_indexer] = value instead\n",
      "\n",
      "See the caveats in the documentation: https://pandas.pydata.org/pandas-docs/stable/user_guide/indexing.html#returning-a-view-versus-a-copy\n",
      "  data3[\"reviews_per_month\"]=data3[\"reviews_per_month\"].fillna(round(data2[\"calculated_host_listings_count\"].mean(),0))\n"
     ]
    }
   ],
   "source": [
    "#Última sustitución: reviews_per_month\n",
    "#Método: desviación estándar\n",
    "data3=data2[(x7<=LS7)&(x7>=LI7)] #Obtenemos datos sin outliers de host_listings_count del DataFrame\n",
    "data3[\"reviews_per_month\"]=data3[\"reviews_per_month\"].fillna(round(data2[\"calculated_host_listings_count\"].mean(),0))"
   ]
  },
  {
   "cell_type": "markdown",
   "metadata": {},
   "source": [
    "Exportar csv limpio"
   ]
  },
  {
   "cell_type": "code",
   "execution_count": 87,
   "metadata": {},
   "outputs": [],
   "source": [
    "#Data limpia\n",
    "#Convertir DataFrame limpio a CSV\n",
    "clean_airbnb=data3.copy()\n",
    "clean_airbnb\n",
    "clean_airbnb.to_csv(\"clean_airbnb_mex.csv\")"
   ]
  },
  {
   "cell_type": "markdown",
   "metadata": {},
   "source": [
    "Filtro por tipo de habitación"
   ]
  },
  {
   "cell_type": "code",
   "execution_count": 88,
   "metadata": {},
   "outputs": [],
   "source": [
    "entire_home_apt_mex = data3[(data3[\"room_type\"] == \"Entire home/apt\")]\n",
    "entire_home_apt_mex.to_csv(\"Entire home apt_mex.csv\")"
   ]
  },
  {
   "cell_type": "code",
   "execution_count": 89,
   "metadata": {},
   "outputs": [],
   "source": [
    "hotel_room_mex = data3[(data3[\"room_type\"] == \"Hotel room\")]\n",
    "hotel_room_mex.to_csv(\"Hotel room_mex.csv\")"
   ]
  },
  {
   "cell_type": "code",
   "execution_count": 90,
   "metadata": {},
   "outputs": [],
   "source": [
    "priv_room_mex = data3[(data3[\"room_type\"] == \"Private room\")]\n",
    "priv_room_mex.to_csv(\"Private room_mex.csv\")"
   ]
  },
  {
   "cell_type": "code",
   "execution_count": 91,
   "metadata": {},
   "outputs": [],
   "source": [
    "shared_room_mex = data3[(data3[\"room_type\"] == \"Shared room\")]\n",
    "shared_room_mex.to_csv(\"Shared room_mex.csv\")"
   ]
  }
 ],
 "metadata": {
  "kernelspec": {
   "display_name": "Python 3.10.7 64-bit (microsoft store)",
   "language": "python",
   "name": "python3"
  },
  "language_info": {
   "codemirror_mode": {
    "name": "ipython",
    "version": 3
   },
   "file_extension": ".py",
   "mimetype": "text/x-python",
   "name": "python",
   "nbconvert_exporter": "python",
   "pygments_lexer": "ipython3",
   "version": "3.10.8"
  },
  "orig_nbformat": 4,
  "vscode": {
   "interpreter": {
    "hash": "8bdb6cfb01423875b53bbdacac8cafabfbfae2881293bc8f69e02add7339e574"
   }
  }
 },
 "nbformat": 4,
 "nbformat_minor": 2
}
