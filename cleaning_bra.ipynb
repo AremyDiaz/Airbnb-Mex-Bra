{
 "cells": [
  {
   "cell_type": "code",
   "execution_count": 1,
   "metadata": {},
   "outputs": [],
   "source": [
    "#Importamos las librerias pandas, numpy y matplotlib respectivamente\n",
    "import pandas as pd\n",
    "import numpy as np\n",
    "import matplotlib.pyplot as plt"
   ]
  },
  {
   "cell_type": "code",
   "execution_count": 2,
   "metadata": {},
   "outputs": [
    {
     "name": "stderr",
     "output_type": "stream",
     "text": [
      "C:\\Users\\aremy\\AppData\\Local\\Temp\\ipykernel_28780\\3815242172.py:2: DtypeWarning: Columns (4) have mixed types. Specify dtype option on import or set low_memory=False.\n",
      "  data = pd.read_csv(\"listings_brasil_original.csv\",encoding=\"ISO-8859-1\") #, index_col=0\n"
     ]
    },
    {
     "data": {
      "text/html": [
       "<div>\n",
       "<style scoped>\n",
       "    .dataframe tbody tr th:only-of-type {\n",
       "        vertical-align: middle;\n",
       "    }\n",
       "\n",
       "    .dataframe tbody tr th {\n",
       "        vertical-align: top;\n",
       "    }\n",
       "\n",
       "    .dataframe thead th {\n",
       "        text-align: right;\n",
       "    }\n",
       "</style>\n",
       "<table border=\"1\" class=\"dataframe\">\n",
       "  <thead>\n",
       "    <tr style=\"text-align: right;\">\n",
       "      <th></th>\n",
       "      <th>id</th>\n",
       "      <th>host_response_time</th>\n",
       "      <th>host_response_rate</th>\n",
       "      <th>host_acceptance_rate</th>\n",
       "      <th>host_is_superhost</th>\n",
       "      <th>host_listings_count</th>\n",
       "      <th>host_has_profile_pic</th>\n",
       "      <th>host_identity_verified</th>\n",
       "      <th>neighbourhood_cleansed</th>\n",
       "      <th>latitude</th>\n",
       "      <th>...</th>\n",
       "      <th>review_scores_rating</th>\n",
       "      <th>review_scores_accuracy</th>\n",
       "      <th>review_scores_cleanliness</th>\n",
       "      <th>review_scores_checkin</th>\n",
       "      <th>review_scores_communication</th>\n",
       "      <th>review_scores_location</th>\n",
       "      <th>review_scores_value</th>\n",
       "      <th>instant_bookable</th>\n",
       "      <th>calculated_host_listings_count</th>\n",
       "      <th>reviews_per_month</th>\n",
       "    </tr>\n",
       "  </thead>\n",
       "  <tbody>\n",
       "    <tr>\n",
       "      <th>0</th>\n",
       "      <td>5.334488e+07</td>\n",
       "      <td>within an hour</td>\n",
       "      <td>1.00</td>\n",
       "      <td>1.00</td>\n",
       "      <td>False</td>\n",
       "      <td>10.0</td>\n",
       "      <td>True</td>\n",
       "      <td>True</td>\n",
       "      <td>Copacabana</td>\n",
       "      <td>-22.982990</td>\n",
       "      <td>...</td>\n",
       "      <td>NaN</td>\n",
       "      <td>NaN</td>\n",
       "      <td>NaN</td>\n",
       "      <td>NaN</td>\n",
       "      <td>NaN</td>\n",
       "      <td>NaN</td>\n",
       "      <td>NaN</td>\n",
       "      <td>True</td>\n",
       "      <td>10</td>\n",
       "      <td>NaN</td>\n",
       "    </tr>\n",
       "    <tr>\n",
       "      <th>1</th>\n",
       "      <td>7.801456e+06</td>\n",
       "      <td>a few days or more</td>\n",
       "      <td>0.13</td>\n",
       "      <td>1.00</td>\n",
       "      <td>False</td>\n",
       "      <td>6.0</td>\n",
       "      <td>True</td>\n",
       "      <td>True</td>\n",
       "      <td>Ipanema</td>\n",
       "      <td>-22.987230</td>\n",
       "      <td>...</td>\n",
       "      <td>NaN</td>\n",
       "      <td>NaN</td>\n",
       "      <td>NaN</td>\n",
       "      <td>NaN</td>\n",
       "      <td>NaN</td>\n",
       "      <td>NaN</td>\n",
       "      <td>NaN</td>\n",
       "      <td>True</td>\n",
       "      <td>5</td>\n",
       "      <td>NaN</td>\n",
       "    </tr>\n",
       "    <tr>\n",
       "      <th>2</th>\n",
       "      <td>1.433390e+07</td>\n",
       "      <td>unknown</td>\n",
       "      <td>NaN</td>\n",
       "      <td>NaN</td>\n",
       "      <td>False</td>\n",
       "      <td>1.0</td>\n",
       "      <td>True</td>\n",
       "      <td>False</td>\n",
       "      <td>Pavuna</td>\n",
       "      <td>-22.808690</td>\n",
       "      <td>...</td>\n",
       "      <td>NaN</td>\n",
       "      <td>NaN</td>\n",
       "      <td>NaN</td>\n",
       "      <td>NaN</td>\n",
       "      <td>NaN</td>\n",
       "      <td>NaN</td>\n",
       "      <td>NaN</td>\n",
       "      <td>True</td>\n",
       "      <td>1</td>\n",
       "      <td>NaN</td>\n",
       "    </tr>\n",
       "    <tr>\n",
       "      <th>3</th>\n",
       "      <td>4.470874e+07</td>\n",
       "      <td>within an hour</td>\n",
       "      <td>1.00</td>\n",
       "      <td>1.00</td>\n",
       "      <td>False</td>\n",
       "      <td>4.0</td>\n",
       "      <td>True</td>\n",
       "      <td>True</td>\n",
       "      <td>GlÃ³ria</td>\n",
       "      <td>-22.919880</td>\n",
       "      <td>...</td>\n",
       "      <td>5.0</td>\n",
       "      <td>5.0</td>\n",
       "      <td>5.0</td>\n",
       "      <td>5.0</td>\n",
       "      <td>5.0</td>\n",
       "      <td>5.0</td>\n",
       "      <td>5.0</td>\n",
       "      <td>False</td>\n",
       "      <td>2</td>\n",
       "      <td>0.1</td>\n",
       "    </tr>\n",
       "    <tr>\n",
       "      <th>4</th>\n",
       "      <td>3.535176e+07</td>\n",
       "      <td>unknown</td>\n",
       "      <td>NaN</td>\n",
       "      <td>NaN</td>\n",
       "      <td>False</td>\n",
       "      <td>1.0</td>\n",
       "      <td>True</td>\n",
       "      <td>False</td>\n",
       "      <td>Pavuna</td>\n",
       "      <td>-22.813210</td>\n",
       "      <td>...</td>\n",
       "      <td>NaN</td>\n",
       "      <td>NaN</td>\n",
       "      <td>NaN</td>\n",
       "      <td>NaN</td>\n",
       "      <td>NaN</td>\n",
       "      <td>NaN</td>\n",
       "      <td>NaN</td>\n",
       "      <td>True</td>\n",
       "      <td>1</td>\n",
       "      <td>NaN</td>\n",
       "    </tr>\n",
       "    <tr>\n",
       "      <th>...</th>\n",
       "      <td>...</td>\n",
       "      <td>...</td>\n",
       "      <td>...</td>\n",
       "      <td>...</td>\n",
       "      <td>...</td>\n",
       "      <td>...</td>\n",
       "      <td>...</td>\n",
       "      <td>...</td>\n",
       "      <td>...</td>\n",
       "      <td>...</td>\n",
       "      <td>...</td>\n",
       "      <td>...</td>\n",
       "      <td>...</td>\n",
       "      <td>...</td>\n",
       "      <td>...</td>\n",
       "      <td>...</td>\n",
       "      <td>...</td>\n",
       "      <td>...</td>\n",
       "      <td>...</td>\n",
       "      <td>...</td>\n",
       "      <td>...</td>\n",
       "    </tr>\n",
       "    <tr>\n",
       "      <th>26360</th>\n",
       "      <td>7.150000e+17</td>\n",
       "      <td>within an hour</td>\n",
       "      <td>1.00</td>\n",
       "      <td>1.00</td>\n",
       "      <td>False</td>\n",
       "      <td>1.0</td>\n",
       "      <td>True</td>\n",
       "      <td>True</td>\n",
       "      <td>Copacabana</td>\n",
       "      <td>-22.969938</td>\n",
       "      <td>...</td>\n",
       "      <td>NaN</td>\n",
       "      <td>NaN</td>\n",
       "      <td>NaN</td>\n",
       "      <td>NaN</td>\n",
       "      <td>NaN</td>\n",
       "      <td>NaN</td>\n",
       "      <td>NaN</td>\n",
       "      <td>False</td>\n",
       "      <td>1</td>\n",
       "      <td>NaN</td>\n",
       "    </tr>\n",
       "    <tr>\n",
       "      <th>26361</th>\n",
       "      <td>7.150000e+17</td>\n",
       "      <td>within an hour</td>\n",
       "      <td>1.00</td>\n",
       "      <td>1.00</td>\n",
       "      <td>True</td>\n",
       "      <td>4.0</td>\n",
       "      <td>True</td>\n",
       "      <td>False</td>\n",
       "      <td>Copacabana</td>\n",
       "      <td>-22.963249</td>\n",
       "      <td>...</td>\n",
       "      <td>NaN</td>\n",
       "      <td>NaN</td>\n",
       "      <td>NaN</td>\n",
       "      <td>NaN</td>\n",
       "      <td>NaN</td>\n",
       "      <td>NaN</td>\n",
       "      <td>NaN</td>\n",
       "      <td>True</td>\n",
       "      <td>4</td>\n",
       "      <td>NaN</td>\n",
       "    </tr>\n",
       "    <tr>\n",
       "      <th>26362</th>\n",
       "      <td>7.150000e+17</td>\n",
       "      <td>within a day</td>\n",
       "      <td>0.50</td>\n",
       "      <td>0.06</td>\n",
       "      <td>False</td>\n",
       "      <td>2.0</td>\n",
       "      <td>True</td>\n",
       "      <td>True</td>\n",
       "      <td>Recreio dos Bandeirantes</td>\n",
       "      <td>-22.999820</td>\n",
       "      <td>...</td>\n",
       "      <td>NaN</td>\n",
       "      <td>NaN</td>\n",
       "      <td>NaN</td>\n",
       "      <td>NaN</td>\n",
       "      <td>NaN</td>\n",
       "      <td>NaN</td>\n",
       "      <td>NaN</td>\n",
       "      <td>False</td>\n",
       "      <td>2</td>\n",
       "      <td>NaN</td>\n",
       "    </tr>\n",
       "    <tr>\n",
       "      <th>26363</th>\n",
       "      <td>7.150000e+17</td>\n",
       "      <td>within a few hours</td>\n",
       "      <td>0.98</td>\n",
       "      <td>0.73</td>\n",
       "      <td>False</td>\n",
       "      <td>3.0</td>\n",
       "      <td>True</td>\n",
       "      <td>False</td>\n",
       "      <td>Ipanema</td>\n",
       "      <td>-22.980846</td>\n",
       "      <td>...</td>\n",
       "      <td>NaN</td>\n",
       "      <td>NaN</td>\n",
       "      <td>NaN</td>\n",
       "      <td>NaN</td>\n",
       "      <td>NaN</td>\n",
       "      <td>NaN</td>\n",
       "      <td>NaN</td>\n",
       "      <td>False</td>\n",
       "      <td>3</td>\n",
       "      <td>NaN</td>\n",
       "    </tr>\n",
       "    <tr>\n",
       "      <th>26364</th>\n",
       "      <td>7.160000e+17</td>\n",
       "      <td>within an hour</td>\n",
       "      <td>1.00</td>\n",
       "      <td>1.00</td>\n",
       "      <td>False</td>\n",
       "      <td>2.0</td>\n",
       "      <td>True</td>\n",
       "      <td>True</td>\n",
       "      <td>Alto da Boa Vista</td>\n",
       "      <td>-22.972648</td>\n",
       "      <td>...</td>\n",
       "      <td>NaN</td>\n",
       "      <td>NaN</td>\n",
       "      <td>NaN</td>\n",
       "      <td>NaN</td>\n",
       "      <td>NaN</td>\n",
       "      <td>NaN</td>\n",
       "      <td>NaN</td>\n",
       "      <td>True</td>\n",
       "      <td>2</td>\n",
       "      <td>NaN</td>\n",
       "    </tr>\n",
       "  </tbody>\n",
       "</table>\n",
       "<p>26365 rows × 33 columns</p>\n",
       "</div>"
      ],
      "text/plain": [
       "                 id  host_response_time  host_response_rate  \\\n",
       "0      5.334488e+07      within an hour                1.00   \n",
       "1      7.801456e+06  a few days or more                0.13   \n",
       "2      1.433390e+07             unknown                 NaN   \n",
       "3      4.470874e+07      within an hour                1.00   \n",
       "4      3.535176e+07             unknown                 NaN   \n",
       "...             ...                 ...                 ...   \n",
       "26360  7.150000e+17      within an hour                1.00   \n",
       "26361  7.150000e+17      within an hour                1.00   \n",
       "26362  7.150000e+17        within a day                0.50   \n",
       "26363  7.150000e+17  within a few hours                0.98   \n",
       "26364  7.160000e+17      within an hour                1.00   \n",
       "\n",
       "       host_acceptance_rate host_is_superhost  host_listings_count  \\\n",
       "0                      1.00             False                 10.0   \n",
       "1                      1.00             False                  6.0   \n",
       "2                       NaN             False                  1.0   \n",
       "3                      1.00             False                  4.0   \n",
       "4                       NaN             False                  1.0   \n",
       "...                     ...               ...                  ...   \n",
       "26360                  1.00             False                  1.0   \n",
       "26361                  1.00              True                  4.0   \n",
       "26362                  0.06             False                  2.0   \n",
       "26363                  0.73             False                  3.0   \n",
       "26364                  1.00             False                  2.0   \n",
       "\n",
       "      host_has_profile_pic host_identity_verified    neighbourhood_cleansed  \\\n",
       "0                     True                   True                Copacabana   \n",
       "1                     True                   True                   Ipanema   \n",
       "2                     True                  False                    Pavuna   \n",
       "3                     True                   True                   GlÃ³ria   \n",
       "4                     True                  False                    Pavuna   \n",
       "...                    ...                    ...                       ...   \n",
       "26360                 True                   True                Copacabana   \n",
       "26361                 True                  False                Copacabana   \n",
       "26362                 True                   True  Recreio dos Bandeirantes   \n",
       "26363                 True                  False                   Ipanema   \n",
       "26364                 True                   True         Alto da Boa Vista   \n",
       "\n",
       "        latitude  ...  review_scores_rating review_scores_accuracy  \\\n",
       "0     -22.982990  ...                   NaN                    NaN   \n",
       "1     -22.987230  ...                   NaN                    NaN   \n",
       "2     -22.808690  ...                   NaN                    NaN   \n",
       "3     -22.919880  ...                   5.0                    5.0   \n",
       "4     -22.813210  ...                   NaN                    NaN   \n",
       "...          ...  ...                   ...                    ...   \n",
       "26360 -22.969938  ...                   NaN                    NaN   \n",
       "26361 -22.963249  ...                   NaN                    NaN   \n",
       "26362 -22.999820  ...                   NaN                    NaN   \n",
       "26363 -22.980846  ...                   NaN                    NaN   \n",
       "26364 -22.972648  ...                   NaN                    NaN   \n",
       "\n",
       "       review_scores_cleanliness  review_scores_checkin  \\\n",
       "0                            NaN                    NaN   \n",
       "1                            NaN                    NaN   \n",
       "2                            NaN                    NaN   \n",
       "3                            5.0                    5.0   \n",
       "4                            NaN                    NaN   \n",
       "...                          ...                    ...   \n",
       "26360                        NaN                    NaN   \n",
       "26361                        NaN                    NaN   \n",
       "26362                        NaN                    NaN   \n",
       "26363                        NaN                    NaN   \n",
       "26364                        NaN                    NaN   \n",
       "\n",
       "       review_scores_communication  review_scores_location  \\\n",
       "0                              NaN                     NaN   \n",
       "1                              NaN                     NaN   \n",
       "2                              NaN                     NaN   \n",
       "3                              5.0                     5.0   \n",
       "4                              NaN                     NaN   \n",
       "...                            ...                     ...   \n",
       "26360                          NaN                     NaN   \n",
       "26361                          NaN                     NaN   \n",
       "26362                          NaN                     NaN   \n",
       "26363                          NaN                     NaN   \n",
       "26364                          NaN                     NaN   \n",
       "\n",
       "      review_scores_value  instant_bookable  calculated_host_listings_count  \\\n",
       "0                     NaN              True                              10   \n",
       "1                     NaN              True                               5   \n",
       "2                     NaN              True                               1   \n",
       "3                     5.0             False                               2   \n",
       "4                     NaN              True                               1   \n",
       "...                   ...               ...                             ...   \n",
       "26360                 NaN             False                               1   \n",
       "26361                 NaN              True                               4   \n",
       "26362                 NaN             False                               2   \n",
       "26363                 NaN             False                               3   \n",
       "26364                 NaN              True                               2   \n",
       "\n",
       "       reviews_per_month  \n",
       "0                    NaN  \n",
       "1                    NaN  \n",
       "2                    NaN  \n",
       "3                    0.1  \n",
       "4                    NaN  \n",
       "...                  ...  \n",
       "26360                NaN  \n",
       "26361                NaN  \n",
       "26362                NaN  \n",
       "26363                NaN  \n",
       "26364                NaN  \n",
       "\n",
       "[26365 rows x 33 columns]"
      ]
     },
     "execution_count": 2,
     "metadata": {},
     "output_type": "execute_result"
    }
   ],
   "source": [
    "#Carga del archivo.csv\n",
    "data = pd.read_csv(\"listings_brasil_original.csv\",encoding=\"ISO-8859-1\") #, index_col=0\n",
    "data"
   ]
  },
  {
   "cell_type": "markdown",
   "metadata": {},
   "source": [
    "Reemplazo de nulos"
   ]
  },
  {
   "cell_type": "code",
   "execution_count": 3,
   "metadata": {},
   "outputs": [
    {
     "data": {
      "text/html": [
       "<div>\n",
       "<style scoped>\n",
       "    .dataframe tbody tr th:only-of-type {\n",
       "        vertical-align: middle;\n",
       "    }\n",
       "\n",
       "    .dataframe tbody tr th {\n",
       "        vertical-align: top;\n",
       "    }\n",
       "\n",
       "    .dataframe thead th {\n",
       "        text-align: right;\n",
       "    }\n",
       "</style>\n",
       "<table border=\"1\" class=\"dataframe\">\n",
       "  <thead>\n",
       "    <tr style=\"text-align: right;\">\n",
       "      <th></th>\n",
       "      <th>id</th>\n",
       "      <th>host_response_time</th>\n",
       "      <th>host_response_rate</th>\n",
       "      <th>host_acceptance_rate</th>\n",
       "      <th>host_is_superhost</th>\n",
       "      <th>host_listings_count</th>\n",
       "      <th>host_has_profile_pic</th>\n",
       "      <th>host_identity_verified</th>\n",
       "      <th>neighbourhood_cleansed</th>\n",
       "      <th>latitude</th>\n",
       "      <th>...</th>\n",
       "      <th>review_scores_rating</th>\n",
       "      <th>review_scores_accuracy</th>\n",
       "      <th>review_scores_cleanliness</th>\n",
       "      <th>review_scores_checkin</th>\n",
       "      <th>review_scores_communication</th>\n",
       "      <th>review_scores_location</th>\n",
       "      <th>review_scores_value</th>\n",
       "      <th>instant_bookable</th>\n",
       "      <th>calculated_host_listings_count</th>\n",
       "      <th>reviews_per_month</th>\n",
       "    </tr>\n",
       "  </thead>\n",
       "  <tbody>\n",
       "    <tr>\n",
       "      <th>0</th>\n",
       "      <td>5.334488e+07</td>\n",
       "      <td>within an hour</td>\n",
       "      <td>1.00</td>\n",
       "      <td>1.00</td>\n",
       "      <td>False</td>\n",
       "      <td>10.0</td>\n",
       "      <td>True</td>\n",
       "      <td>True</td>\n",
       "      <td>Copacabana</td>\n",
       "      <td>-22.982990</td>\n",
       "      <td>...</td>\n",
       "      <td>NaN</td>\n",
       "      <td>NaN</td>\n",
       "      <td>NaN</td>\n",
       "      <td>NaN</td>\n",
       "      <td>NaN</td>\n",
       "      <td>NaN</td>\n",
       "      <td>NaN</td>\n",
       "      <td>True</td>\n",
       "      <td>10</td>\n",
       "      <td>NaN</td>\n",
       "    </tr>\n",
       "    <tr>\n",
       "      <th>1</th>\n",
       "      <td>7.801456e+06</td>\n",
       "      <td>a few days or more</td>\n",
       "      <td>0.13</td>\n",
       "      <td>1.00</td>\n",
       "      <td>False</td>\n",
       "      <td>6.0</td>\n",
       "      <td>True</td>\n",
       "      <td>True</td>\n",
       "      <td>Ipanema</td>\n",
       "      <td>-22.987230</td>\n",
       "      <td>...</td>\n",
       "      <td>NaN</td>\n",
       "      <td>NaN</td>\n",
       "      <td>NaN</td>\n",
       "      <td>NaN</td>\n",
       "      <td>NaN</td>\n",
       "      <td>NaN</td>\n",
       "      <td>NaN</td>\n",
       "      <td>True</td>\n",
       "      <td>5</td>\n",
       "      <td>NaN</td>\n",
       "    </tr>\n",
       "    <tr>\n",
       "      <th>2</th>\n",
       "      <td>1.433390e+07</td>\n",
       "      <td>unknown</td>\n",
       "      <td>NaN</td>\n",
       "      <td>NaN</td>\n",
       "      <td>False</td>\n",
       "      <td>1.0</td>\n",
       "      <td>True</td>\n",
       "      <td>False</td>\n",
       "      <td>Pavuna</td>\n",
       "      <td>-22.808690</td>\n",
       "      <td>...</td>\n",
       "      <td>NaN</td>\n",
       "      <td>NaN</td>\n",
       "      <td>NaN</td>\n",
       "      <td>NaN</td>\n",
       "      <td>NaN</td>\n",
       "      <td>NaN</td>\n",
       "      <td>NaN</td>\n",
       "      <td>True</td>\n",
       "      <td>1</td>\n",
       "      <td>NaN</td>\n",
       "    </tr>\n",
       "    <tr>\n",
       "      <th>3</th>\n",
       "      <td>4.470874e+07</td>\n",
       "      <td>within an hour</td>\n",
       "      <td>1.00</td>\n",
       "      <td>1.00</td>\n",
       "      <td>False</td>\n",
       "      <td>4.0</td>\n",
       "      <td>True</td>\n",
       "      <td>True</td>\n",
       "      <td>GlÃ³ria</td>\n",
       "      <td>-22.919880</td>\n",
       "      <td>...</td>\n",
       "      <td>5.0</td>\n",
       "      <td>5.0</td>\n",
       "      <td>5.0</td>\n",
       "      <td>5.0</td>\n",
       "      <td>5.0</td>\n",
       "      <td>5.0</td>\n",
       "      <td>5.0</td>\n",
       "      <td>False</td>\n",
       "      <td>2</td>\n",
       "      <td>0.1</td>\n",
       "    </tr>\n",
       "    <tr>\n",
       "      <th>4</th>\n",
       "      <td>3.535176e+07</td>\n",
       "      <td>unknown</td>\n",
       "      <td>NaN</td>\n",
       "      <td>NaN</td>\n",
       "      <td>False</td>\n",
       "      <td>1.0</td>\n",
       "      <td>True</td>\n",
       "      <td>False</td>\n",
       "      <td>Pavuna</td>\n",
       "      <td>-22.813210</td>\n",
       "      <td>...</td>\n",
       "      <td>NaN</td>\n",
       "      <td>NaN</td>\n",
       "      <td>NaN</td>\n",
       "      <td>NaN</td>\n",
       "      <td>NaN</td>\n",
       "      <td>NaN</td>\n",
       "      <td>NaN</td>\n",
       "      <td>True</td>\n",
       "      <td>1</td>\n",
       "      <td>NaN</td>\n",
       "    </tr>\n",
       "    <tr>\n",
       "      <th>...</th>\n",
       "      <td>...</td>\n",
       "      <td>...</td>\n",
       "      <td>...</td>\n",
       "      <td>...</td>\n",
       "      <td>...</td>\n",
       "      <td>...</td>\n",
       "      <td>...</td>\n",
       "      <td>...</td>\n",
       "      <td>...</td>\n",
       "      <td>...</td>\n",
       "      <td>...</td>\n",
       "      <td>...</td>\n",
       "      <td>...</td>\n",
       "      <td>...</td>\n",
       "      <td>...</td>\n",
       "      <td>...</td>\n",
       "      <td>...</td>\n",
       "      <td>...</td>\n",
       "      <td>...</td>\n",
       "      <td>...</td>\n",
       "      <td>...</td>\n",
       "    </tr>\n",
       "    <tr>\n",
       "      <th>26360</th>\n",
       "      <td>7.150000e+17</td>\n",
       "      <td>within an hour</td>\n",
       "      <td>1.00</td>\n",
       "      <td>1.00</td>\n",
       "      <td>False</td>\n",
       "      <td>1.0</td>\n",
       "      <td>True</td>\n",
       "      <td>True</td>\n",
       "      <td>Copacabana</td>\n",
       "      <td>-22.969938</td>\n",
       "      <td>...</td>\n",
       "      <td>NaN</td>\n",
       "      <td>NaN</td>\n",
       "      <td>NaN</td>\n",
       "      <td>NaN</td>\n",
       "      <td>NaN</td>\n",
       "      <td>NaN</td>\n",
       "      <td>NaN</td>\n",
       "      <td>False</td>\n",
       "      <td>1</td>\n",
       "      <td>NaN</td>\n",
       "    </tr>\n",
       "    <tr>\n",
       "      <th>26361</th>\n",
       "      <td>7.150000e+17</td>\n",
       "      <td>within an hour</td>\n",
       "      <td>1.00</td>\n",
       "      <td>1.00</td>\n",
       "      <td>True</td>\n",
       "      <td>4.0</td>\n",
       "      <td>True</td>\n",
       "      <td>False</td>\n",
       "      <td>Copacabana</td>\n",
       "      <td>-22.963249</td>\n",
       "      <td>...</td>\n",
       "      <td>NaN</td>\n",
       "      <td>NaN</td>\n",
       "      <td>NaN</td>\n",
       "      <td>NaN</td>\n",
       "      <td>NaN</td>\n",
       "      <td>NaN</td>\n",
       "      <td>NaN</td>\n",
       "      <td>True</td>\n",
       "      <td>4</td>\n",
       "      <td>NaN</td>\n",
       "    </tr>\n",
       "    <tr>\n",
       "      <th>26362</th>\n",
       "      <td>7.150000e+17</td>\n",
       "      <td>within a day</td>\n",
       "      <td>0.50</td>\n",
       "      <td>0.06</td>\n",
       "      <td>False</td>\n",
       "      <td>2.0</td>\n",
       "      <td>True</td>\n",
       "      <td>True</td>\n",
       "      <td>Recreio dos Bandeirantes</td>\n",
       "      <td>-22.999820</td>\n",
       "      <td>...</td>\n",
       "      <td>NaN</td>\n",
       "      <td>NaN</td>\n",
       "      <td>NaN</td>\n",
       "      <td>NaN</td>\n",
       "      <td>NaN</td>\n",
       "      <td>NaN</td>\n",
       "      <td>NaN</td>\n",
       "      <td>False</td>\n",
       "      <td>2</td>\n",
       "      <td>NaN</td>\n",
       "    </tr>\n",
       "    <tr>\n",
       "      <th>26363</th>\n",
       "      <td>7.150000e+17</td>\n",
       "      <td>within a few hours</td>\n",
       "      <td>0.98</td>\n",
       "      <td>0.73</td>\n",
       "      <td>False</td>\n",
       "      <td>3.0</td>\n",
       "      <td>True</td>\n",
       "      <td>False</td>\n",
       "      <td>Ipanema</td>\n",
       "      <td>-22.980846</td>\n",
       "      <td>...</td>\n",
       "      <td>NaN</td>\n",
       "      <td>NaN</td>\n",
       "      <td>NaN</td>\n",
       "      <td>NaN</td>\n",
       "      <td>NaN</td>\n",
       "      <td>NaN</td>\n",
       "      <td>NaN</td>\n",
       "      <td>False</td>\n",
       "      <td>3</td>\n",
       "      <td>NaN</td>\n",
       "    </tr>\n",
       "    <tr>\n",
       "      <th>26364</th>\n",
       "      <td>7.160000e+17</td>\n",
       "      <td>within an hour</td>\n",
       "      <td>1.00</td>\n",
       "      <td>1.00</td>\n",
       "      <td>False</td>\n",
       "      <td>2.0</td>\n",
       "      <td>True</td>\n",
       "      <td>True</td>\n",
       "      <td>Alto da Boa Vista</td>\n",
       "      <td>-22.972648</td>\n",
       "      <td>...</td>\n",
       "      <td>NaN</td>\n",
       "      <td>NaN</td>\n",
       "      <td>NaN</td>\n",
       "      <td>NaN</td>\n",
       "      <td>NaN</td>\n",
       "      <td>NaN</td>\n",
       "      <td>NaN</td>\n",
       "      <td>True</td>\n",
       "      <td>2</td>\n",
       "      <td>NaN</td>\n",
       "    </tr>\n",
       "  </tbody>\n",
       "</table>\n",
       "<p>26365 rows × 33 columns</p>\n",
       "</div>"
      ],
      "text/plain": [
       "                 id  host_response_time  host_response_rate  \\\n",
       "0      5.334488e+07      within an hour                1.00   \n",
       "1      7.801456e+06  a few days or more                0.13   \n",
       "2      1.433390e+07             unknown                 NaN   \n",
       "3      4.470874e+07      within an hour                1.00   \n",
       "4      3.535176e+07             unknown                 NaN   \n",
       "...             ...                 ...                 ...   \n",
       "26360  7.150000e+17      within an hour                1.00   \n",
       "26361  7.150000e+17      within an hour                1.00   \n",
       "26362  7.150000e+17        within a day                0.50   \n",
       "26363  7.150000e+17  within a few hours                0.98   \n",
       "26364  7.160000e+17      within an hour                1.00   \n",
       "\n",
       "       host_acceptance_rate host_is_superhost  host_listings_count  \\\n",
       "0                      1.00             False                 10.0   \n",
       "1                      1.00             False                  6.0   \n",
       "2                       NaN             False                  1.0   \n",
       "3                      1.00             False                  4.0   \n",
       "4                       NaN             False                  1.0   \n",
       "...                     ...               ...                  ...   \n",
       "26360                  1.00             False                  1.0   \n",
       "26361                  1.00              True                  4.0   \n",
       "26362                  0.06             False                  2.0   \n",
       "26363                  0.73             False                  3.0   \n",
       "26364                  1.00             False                  2.0   \n",
       "\n",
       "      host_has_profile_pic host_identity_verified    neighbourhood_cleansed  \\\n",
       "0                     True                   True                Copacabana   \n",
       "1                     True                   True                   Ipanema   \n",
       "2                     True                  False                    Pavuna   \n",
       "3                     True                   True                   GlÃ³ria   \n",
       "4                     True                  False                    Pavuna   \n",
       "...                    ...                    ...                       ...   \n",
       "26360                 True                   True                Copacabana   \n",
       "26361                 True                  False                Copacabana   \n",
       "26362                 True                   True  Recreio dos Bandeirantes   \n",
       "26363                 True                  False                   Ipanema   \n",
       "26364                 True                   True         Alto da Boa Vista   \n",
       "\n",
       "        latitude  ...  review_scores_rating review_scores_accuracy  \\\n",
       "0     -22.982990  ...                   NaN                    NaN   \n",
       "1     -22.987230  ...                   NaN                    NaN   \n",
       "2     -22.808690  ...                   NaN                    NaN   \n",
       "3     -22.919880  ...                   5.0                    5.0   \n",
       "4     -22.813210  ...                   NaN                    NaN   \n",
       "...          ...  ...                   ...                    ...   \n",
       "26360 -22.969938  ...                   NaN                    NaN   \n",
       "26361 -22.963249  ...                   NaN                    NaN   \n",
       "26362 -22.999820  ...                   NaN                    NaN   \n",
       "26363 -22.980846  ...                   NaN                    NaN   \n",
       "26364 -22.972648  ...                   NaN                    NaN   \n",
       "\n",
       "       review_scores_cleanliness  review_scores_checkin  \\\n",
       "0                            NaN                    NaN   \n",
       "1                            NaN                    NaN   \n",
       "2                            NaN                    NaN   \n",
       "3                            5.0                    5.0   \n",
       "4                            NaN                    NaN   \n",
       "...                          ...                    ...   \n",
       "26360                        NaN                    NaN   \n",
       "26361                        NaN                    NaN   \n",
       "26362                        NaN                    NaN   \n",
       "26363                        NaN                    NaN   \n",
       "26364                        NaN                    NaN   \n",
       "\n",
       "       review_scores_communication  review_scores_location  \\\n",
       "0                              NaN                     NaN   \n",
       "1                              NaN                     NaN   \n",
       "2                              NaN                     NaN   \n",
       "3                              5.0                     5.0   \n",
       "4                              NaN                     NaN   \n",
       "...                            ...                     ...   \n",
       "26360                          NaN                     NaN   \n",
       "26361                          NaN                     NaN   \n",
       "26362                          NaN                     NaN   \n",
       "26363                          NaN                     NaN   \n",
       "26364                          NaN                     NaN   \n",
       "\n",
       "      review_scores_value  instant_bookable  calculated_host_listings_count  \\\n",
       "0                     NaN              True                              10   \n",
       "1                     NaN              True                               5   \n",
       "2                     NaN              True                               1   \n",
       "3                     5.0             False                               2   \n",
       "4                     NaN              True                               1   \n",
       "...                   ...               ...                             ...   \n",
       "26360                 NaN             False                               1   \n",
       "26361                 NaN              True                               4   \n",
       "26362                 NaN             False                               2   \n",
       "26363                 NaN             False                               3   \n",
       "26364                 NaN              True                               2   \n",
       "\n",
       "       reviews_per_month  \n",
       "0                    NaN  \n",
       "1                    NaN  \n",
       "2                    NaN  \n",
       "3                    0.1  \n",
       "4                    NaN  \n",
       "...                  ...  \n",
       "26360                NaN  \n",
       "26361                NaN  \n",
       "26362                NaN  \n",
       "26363                NaN  \n",
       "26364                NaN  \n",
       "\n",
       "[26365 rows x 33 columns]"
      ]
     },
     "execution_count": 3,
     "metadata": {},
     "output_type": "execute_result"
    }
   ],
   "source": [
    "#Copia del dataset original\n",
    "data2 = data.copy()\n",
    "data2"
   ]
  },
  {
   "cell_type": "code",
   "execution_count": 4,
   "metadata": {},
   "outputs": [
    {
     "data": {
      "text/plain": [
       "id                                   0\n",
       "host_response_time                   5\n",
       "host_response_rate                3508\n",
       "host_acceptance_rate              3528\n",
       "host_is_superhost                    7\n",
       "host_listings_count                  5\n",
       "host_has_profile_pic                 5\n",
       "host_identity_verified               5\n",
       "neighbourhood_cleansed               0\n",
       "latitude                             0\n",
       "longitude                            0\n",
       "room_type                            0\n",
       "accommodates                         0\n",
       "bathrooms_text                      50\n",
       "bedrooms                          1311\n",
       "beds                               236\n",
       "amenities                            0\n",
       "price                                0\n",
       "minimum_nights                       0\n",
       "maximum_nights                       0\n",
       "availability_365                     0\n",
       "number_of_reviews                    0\n",
       "number_of_reviews_ltm                0\n",
       "review_scores_rating              7022\n",
       "review_scores_accuracy            7228\n",
       "review_scores_cleanliness         7228\n",
       "review_scores_checkin             7228\n",
       "review_scores_communication       7228\n",
       "review_scores_location            7229\n",
       "review_scores_value               7228\n",
       "instant_bookable                     0\n",
       "calculated_host_listings_count       0\n",
       "reviews_per_month                 7022\n",
       "dtype: int64"
      ]
     },
     "execution_count": 4,
     "metadata": {},
     "output_type": "execute_result"
    }
   ],
   "source": [
    "#Cuántos nulos hay por columna\n",
    "valores_nulos=data2.isnull().sum()\n",
    "valores_nulos"
   ]
  },
  {
   "cell_type": "code",
   "execution_count": 5,
   "metadata": {},
   "outputs": [],
   "source": [
    "#Rellenar con el string \"Unknown\"\n",
    "data2[\"host_response_time\"]=data2[\"host_response_time\"].fillna(\"unknown\")\n",
    "data2[\"amenities\"]=data2[\"amenities\"].fillna(\"unknown\")\n",
    "data2[\"id\"]=data2[\"id\"].fillna(\"unknown\")\n",
    "data2[\"neighbourhood_cleansed\"]=data2[\"neighbourhood_cleansed\"].fillna(\"unknown\")\n",
    "data2[\"room_type\"]=data2[\"room_type\"].fillna(\"unknown\")"
   ]
  },
  {
   "cell_type": "code",
   "execution_count": 6,
   "metadata": {},
   "outputs": [],
   "source": [
    "#Rellenar con el valor numérico 0\n",
    "data2[\"host_response_rate\"]=data2[\"host_response_rate\"].fillna(0)\n",
    "data2[\"host_acceptance_rate\"]=data2[\"host_acceptance_rate\"].fillna(0)\n",
    "data2[\"host_listings_count\"]=data2[\"host_listings_count\"].fillna(0)\n",
    "data2[\"beds\"]=data2[\"beds\"].fillna(0)\n",
    "data2[\"reviews_per_month\"]=data2[\"reviews_per_month\"].fillna(0)"
   ]
  },
  {
   "cell_type": "code",
   "execution_count": 7,
   "metadata": {},
   "outputs": [],
   "source": [
    "#Rellenar con la media\n",
    "data2[\"review_scores_rating\"]=data2[\"review_scores_rating\"].fillna(round(data[\"review_scores_rating\"].mean(),2))\n",
    "data2[\"review_scores_accuracy\"]=data2[\"review_scores_accuracy\"].fillna(round(data[\"review_scores_accuracy\"].mean(),2))\n",
    "data2[\"review_scores_cleanliness\"]=data2[\"review_scores_cleanliness\"].fillna(round(data[\"review_scores_cleanliness\"].mean(),2))\n",
    "data2[\"review_scores_checkin\"]=data2[\"review_scores_checkin\"].fillna(round(data[\"review_scores_checkin\"].mean(),2))\n",
    "data2[\"review_scores_communication\"]=data2[\"review_scores_communication\"].fillna(round(data[\"review_scores_communication\"].mean(),2))\n",
    "data2[\"review_scores_location\"]=data2[\"review_scores_location\"].fillna(round(data[\"review_scores_location\"].mean(),2))\n",
    "data2[\"review_scores_value\"]=data2[\"review_scores_value\"].fillna(round(data[\"review_scores_value\"].mean(),2))\n",
    "data2[\"price\"]=data2[\"price\"].fillna(round(data[\"price\"].mean(),2))\n",
    "data2[\"bathrooms_text\"]=data2[\"bathrooms_text\"].fillna(round(data[\"bathrooms_text\"].mean(),0))\n",
    "data2[\"bedrooms\"]=data2[\"bedrooms\"].fillna(round(data[\"bedrooms\"].mean(),0))\n",
    "data2[\"accommodates\"]=data2[\"accommodates\"].fillna(round(data[\"accommodates\"].mean(),0))\n",
    "data2[\"minimum_nights\"]=data2[\"minimum_nights\"].fillna(round(data[\"minimum_nights\"].mean(),0))\n",
    "data2[\"maximum_nights\"]=data2[\"maximum_nights\"].fillna(round(data[\"maximum_nights\"].mean(),0))\n",
    "data2[\"availability_365\"]=data2[\"availability_365\"].fillna(round(data[\"availability_365\"].mean(),0))\n",
    "data2[\"number_of_reviews\"]=data2[\"number_of_reviews\"].fillna(round(data[\"number_of_reviews\"].mean(),0))\n",
    "data2[\"number_of_reviews_ltm\"]=data2[\"number_of_reviews_ltm\"].fillna(round(data[\"number_of_reviews_ltm\"].mean(),0))\n",
    "data2[\"calculated_host_listings_count\"]=data2[\"calculated_host_listings_count\"].fillna(round(data[\"calculated_host_listings_count\"].mean(),0))"
   ]
  },
  {
   "cell_type": "code",
   "execution_count": 8,
   "metadata": {},
   "outputs": [],
   "source": [
    "#Rellenar con el string \"False\"\n",
    "data2[\"host_is_superhost\"]=data2[\"host_is_superhost\"].fillna(\"False\")\n",
    "data2[\"host_has_profile_pic\"]=data2[\"host_has_profile_pic\"].fillna(\"False\")\n",
    "data2[\"host_identity_verified\"]=data2[\"host_identity_verified\"].fillna(\"False\")\n",
    "data2[\"instant_bookable\"]=data2[\"instant_bookable\"].fillna(\"False\")"
   ]
  },
  {
   "cell_type": "code",
   "execution_count": 9,
   "metadata": {},
   "outputs": [
    {
     "name": "stderr",
     "output_type": "stream",
     "text": [
      "C:\\Users\\aremy\\AppData\\Local\\Temp\\ipykernel_28780\\2511558265.py:2: FutureWarning: In a future version of pandas all arguments of DataFrame.dropna will be keyword-only.\n",
      "  data2 = data2.dropna(0) #Porque solo son latitud y longitud\n"
     ]
    }
   ],
   "source": [
    "#Eliminar filas que tienen NA\n",
    "data2 = data2.dropna(0) #Porque solo son latitud y longitud"
   ]
  },
  {
   "cell_type": "code",
   "execution_count": 10,
   "metadata": {},
   "outputs": [
    {
     "data": {
      "text/plain": [
       "id                                0\n",
       "host_response_time                0\n",
       "host_response_rate                0\n",
       "host_acceptance_rate              0\n",
       "host_is_superhost                 0\n",
       "host_listings_count               0\n",
       "host_has_profile_pic              0\n",
       "host_identity_verified            0\n",
       "neighbourhood_cleansed            0\n",
       "latitude                          0\n",
       "longitude                         0\n",
       "room_type                         0\n",
       "accommodates                      0\n",
       "bathrooms_text                    0\n",
       "bedrooms                          0\n",
       "beds                              0\n",
       "amenities                         0\n",
       "price                             0\n",
       "minimum_nights                    0\n",
       "maximum_nights                    0\n",
       "availability_365                  0\n",
       "number_of_reviews                 0\n",
       "number_of_reviews_ltm             0\n",
       "review_scores_rating              0\n",
       "review_scores_accuracy            0\n",
       "review_scores_cleanliness         0\n",
       "review_scores_checkin             0\n",
       "review_scores_communication       0\n",
       "review_scores_location            0\n",
       "review_scores_value               0\n",
       "instant_bookable                  0\n",
       "calculated_host_listings_count    0\n",
       "reviews_per_month                 0\n",
       "dtype: int64"
      ]
     },
     "execution_count": 10,
     "metadata": {},
     "output_type": "execute_result"
    }
   ],
   "source": [
    "#Comprobación de sustitución de nulos\n",
    "#Cuántos nulos hay en el dataframe\n",
    "valores_nulos=data2.isnull().sum()\n",
    "valores_nulos"
   ]
  },
  {
   "cell_type": "markdown",
   "metadata": {},
   "source": [
    "Limpieza de outliers"
   ]
  },
  {
   "cell_type": "code",
   "execution_count": 11,
   "metadata": {},
   "outputs": [
    {
     "data": {
      "text/html": [
       "<div>\n",
       "<style scoped>\n",
       "    .dataframe tbody tr th:only-of-type {\n",
       "        vertical-align: middle;\n",
       "    }\n",
       "\n",
       "    .dataframe tbody tr th {\n",
       "        vertical-align: top;\n",
       "    }\n",
       "\n",
       "    .dataframe thead th {\n",
       "        text-align: right;\n",
       "    }\n",
       "</style>\n",
       "<table border=\"1\" class=\"dataframe\">\n",
       "  <thead>\n",
       "    <tr style=\"text-align: right;\">\n",
       "      <th></th>\n",
       "      <th>id</th>\n",
       "      <th>host_response_time</th>\n",
       "      <th>host_response_rate</th>\n",
       "      <th>host_acceptance_rate</th>\n",
       "      <th>host_is_superhost</th>\n",
       "      <th>host_listings_count</th>\n",
       "      <th>host_has_profile_pic</th>\n",
       "      <th>host_identity_verified</th>\n",
       "      <th>neighbourhood_cleansed</th>\n",
       "      <th>latitude</th>\n",
       "      <th>...</th>\n",
       "      <th>review_scores_rating</th>\n",
       "      <th>review_scores_accuracy</th>\n",
       "      <th>review_scores_cleanliness</th>\n",
       "      <th>review_scores_checkin</th>\n",
       "      <th>review_scores_communication</th>\n",
       "      <th>review_scores_location</th>\n",
       "      <th>review_scores_value</th>\n",
       "      <th>instant_bookable</th>\n",
       "      <th>calculated_host_listings_count</th>\n",
       "      <th>reviews_per_month</th>\n",
       "    </tr>\n",
       "  </thead>\n",
       "  <tbody>\n",
       "    <tr>\n",
       "      <th>0</th>\n",
       "      <td>5.334488e+07</td>\n",
       "      <td>within an hour</td>\n",
       "      <td>1.00</td>\n",
       "      <td>1.00</td>\n",
       "      <td>False</td>\n",
       "      <td>10.0</td>\n",
       "      <td>True</td>\n",
       "      <td>True</td>\n",
       "      <td>Copacabana</td>\n",
       "      <td>-22.982990</td>\n",
       "      <td>...</td>\n",
       "      <td>4.72</td>\n",
       "      <td>4.8</td>\n",
       "      <td>4.72</td>\n",
       "      <td>4.88</td>\n",
       "      <td>4.87</td>\n",
       "      <td>4.87</td>\n",
       "      <td>4.68</td>\n",
       "      <td>True</td>\n",
       "      <td>10</td>\n",
       "      <td>0.0</td>\n",
       "    </tr>\n",
       "    <tr>\n",
       "      <th>1</th>\n",
       "      <td>7.801456e+06</td>\n",
       "      <td>a few days or more</td>\n",
       "      <td>0.13</td>\n",
       "      <td>1.00</td>\n",
       "      <td>False</td>\n",
       "      <td>6.0</td>\n",
       "      <td>True</td>\n",
       "      <td>True</td>\n",
       "      <td>Ipanema</td>\n",
       "      <td>-22.987230</td>\n",
       "      <td>...</td>\n",
       "      <td>4.72</td>\n",
       "      <td>4.8</td>\n",
       "      <td>4.72</td>\n",
       "      <td>4.88</td>\n",
       "      <td>4.87</td>\n",
       "      <td>4.87</td>\n",
       "      <td>4.68</td>\n",
       "      <td>True</td>\n",
       "      <td>5</td>\n",
       "      <td>0.0</td>\n",
       "    </tr>\n",
       "    <tr>\n",
       "      <th>2</th>\n",
       "      <td>1.433390e+07</td>\n",
       "      <td>unknown</td>\n",
       "      <td>0.00</td>\n",
       "      <td>0.00</td>\n",
       "      <td>False</td>\n",
       "      <td>1.0</td>\n",
       "      <td>True</td>\n",
       "      <td>False</td>\n",
       "      <td>Pavuna</td>\n",
       "      <td>-22.808690</td>\n",
       "      <td>...</td>\n",
       "      <td>4.72</td>\n",
       "      <td>4.8</td>\n",
       "      <td>4.72</td>\n",
       "      <td>4.88</td>\n",
       "      <td>4.87</td>\n",
       "      <td>4.87</td>\n",
       "      <td>4.68</td>\n",
       "      <td>True</td>\n",
       "      <td>1</td>\n",
       "      <td>0.0</td>\n",
       "    </tr>\n",
       "    <tr>\n",
       "      <th>3</th>\n",
       "      <td>4.470874e+07</td>\n",
       "      <td>within an hour</td>\n",
       "      <td>1.00</td>\n",
       "      <td>1.00</td>\n",
       "      <td>False</td>\n",
       "      <td>4.0</td>\n",
       "      <td>True</td>\n",
       "      <td>True</td>\n",
       "      <td>GlÃ³ria</td>\n",
       "      <td>-22.919880</td>\n",
       "      <td>...</td>\n",
       "      <td>5.00</td>\n",
       "      <td>5.0</td>\n",
       "      <td>5.00</td>\n",
       "      <td>5.00</td>\n",
       "      <td>5.00</td>\n",
       "      <td>5.00</td>\n",
       "      <td>5.00</td>\n",
       "      <td>False</td>\n",
       "      <td>2</td>\n",
       "      <td>0.1</td>\n",
       "    </tr>\n",
       "    <tr>\n",
       "      <th>4</th>\n",
       "      <td>3.535176e+07</td>\n",
       "      <td>unknown</td>\n",
       "      <td>0.00</td>\n",
       "      <td>0.00</td>\n",
       "      <td>False</td>\n",
       "      <td>1.0</td>\n",
       "      <td>True</td>\n",
       "      <td>False</td>\n",
       "      <td>Pavuna</td>\n",
       "      <td>-22.813210</td>\n",
       "      <td>...</td>\n",
       "      <td>4.72</td>\n",
       "      <td>4.8</td>\n",
       "      <td>4.72</td>\n",
       "      <td>4.88</td>\n",
       "      <td>4.87</td>\n",
       "      <td>4.87</td>\n",
       "      <td>4.68</td>\n",
       "      <td>True</td>\n",
       "      <td>1</td>\n",
       "      <td>0.0</td>\n",
       "    </tr>\n",
       "    <tr>\n",
       "      <th>...</th>\n",
       "      <td>...</td>\n",
       "      <td>...</td>\n",
       "      <td>...</td>\n",
       "      <td>...</td>\n",
       "      <td>...</td>\n",
       "      <td>...</td>\n",
       "      <td>...</td>\n",
       "      <td>...</td>\n",
       "      <td>...</td>\n",
       "      <td>...</td>\n",
       "      <td>...</td>\n",
       "      <td>...</td>\n",
       "      <td>...</td>\n",
       "      <td>...</td>\n",
       "      <td>...</td>\n",
       "      <td>...</td>\n",
       "      <td>...</td>\n",
       "      <td>...</td>\n",
       "      <td>...</td>\n",
       "      <td>...</td>\n",
       "      <td>...</td>\n",
       "    </tr>\n",
       "    <tr>\n",
       "      <th>26360</th>\n",
       "      <td>7.150000e+17</td>\n",
       "      <td>within an hour</td>\n",
       "      <td>1.00</td>\n",
       "      <td>1.00</td>\n",
       "      <td>False</td>\n",
       "      <td>1.0</td>\n",
       "      <td>True</td>\n",
       "      <td>True</td>\n",
       "      <td>Copacabana</td>\n",
       "      <td>-22.969938</td>\n",
       "      <td>...</td>\n",
       "      <td>4.72</td>\n",
       "      <td>4.8</td>\n",
       "      <td>4.72</td>\n",
       "      <td>4.88</td>\n",
       "      <td>4.87</td>\n",
       "      <td>4.87</td>\n",
       "      <td>4.68</td>\n",
       "      <td>False</td>\n",
       "      <td>1</td>\n",
       "      <td>0.0</td>\n",
       "    </tr>\n",
       "    <tr>\n",
       "      <th>26361</th>\n",
       "      <td>7.150000e+17</td>\n",
       "      <td>within an hour</td>\n",
       "      <td>1.00</td>\n",
       "      <td>1.00</td>\n",
       "      <td>True</td>\n",
       "      <td>4.0</td>\n",
       "      <td>True</td>\n",
       "      <td>False</td>\n",
       "      <td>Copacabana</td>\n",
       "      <td>-22.963249</td>\n",
       "      <td>...</td>\n",
       "      <td>4.72</td>\n",
       "      <td>4.8</td>\n",
       "      <td>4.72</td>\n",
       "      <td>4.88</td>\n",
       "      <td>4.87</td>\n",
       "      <td>4.87</td>\n",
       "      <td>4.68</td>\n",
       "      <td>True</td>\n",
       "      <td>4</td>\n",
       "      <td>0.0</td>\n",
       "    </tr>\n",
       "    <tr>\n",
       "      <th>26362</th>\n",
       "      <td>7.150000e+17</td>\n",
       "      <td>within a day</td>\n",
       "      <td>0.50</td>\n",
       "      <td>0.06</td>\n",
       "      <td>False</td>\n",
       "      <td>2.0</td>\n",
       "      <td>True</td>\n",
       "      <td>True</td>\n",
       "      <td>Recreio dos Bandeirantes</td>\n",
       "      <td>-22.999820</td>\n",
       "      <td>...</td>\n",
       "      <td>4.72</td>\n",
       "      <td>4.8</td>\n",
       "      <td>4.72</td>\n",
       "      <td>4.88</td>\n",
       "      <td>4.87</td>\n",
       "      <td>4.87</td>\n",
       "      <td>4.68</td>\n",
       "      <td>False</td>\n",
       "      <td>2</td>\n",
       "      <td>0.0</td>\n",
       "    </tr>\n",
       "    <tr>\n",
       "      <th>26363</th>\n",
       "      <td>7.150000e+17</td>\n",
       "      <td>within a few hours</td>\n",
       "      <td>0.98</td>\n",
       "      <td>0.73</td>\n",
       "      <td>False</td>\n",
       "      <td>3.0</td>\n",
       "      <td>True</td>\n",
       "      <td>False</td>\n",
       "      <td>Ipanema</td>\n",
       "      <td>-22.980846</td>\n",
       "      <td>...</td>\n",
       "      <td>4.72</td>\n",
       "      <td>4.8</td>\n",
       "      <td>4.72</td>\n",
       "      <td>4.88</td>\n",
       "      <td>4.87</td>\n",
       "      <td>4.87</td>\n",
       "      <td>4.68</td>\n",
       "      <td>False</td>\n",
       "      <td>3</td>\n",
       "      <td>0.0</td>\n",
       "    </tr>\n",
       "    <tr>\n",
       "      <th>26364</th>\n",
       "      <td>7.160000e+17</td>\n",
       "      <td>within an hour</td>\n",
       "      <td>1.00</td>\n",
       "      <td>1.00</td>\n",
       "      <td>False</td>\n",
       "      <td>2.0</td>\n",
       "      <td>True</td>\n",
       "      <td>True</td>\n",
       "      <td>Alto da Boa Vista</td>\n",
       "      <td>-22.972648</td>\n",
       "      <td>...</td>\n",
       "      <td>4.72</td>\n",
       "      <td>4.8</td>\n",
       "      <td>4.72</td>\n",
       "      <td>4.88</td>\n",
       "      <td>4.87</td>\n",
       "      <td>4.87</td>\n",
       "      <td>4.68</td>\n",
       "      <td>True</td>\n",
       "      <td>2</td>\n",
       "      <td>0.0</td>\n",
       "    </tr>\n",
       "  </tbody>\n",
       "</table>\n",
       "<p>26365 rows × 33 columns</p>\n",
       "</div>"
      ],
      "text/plain": [
       "                 id  host_response_time  host_response_rate  \\\n",
       "0      5.334488e+07      within an hour                1.00   \n",
       "1      7.801456e+06  a few days or more                0.13   \n",
       "2      1.433390e+07             unknown                0.00   \n",
       "3      4.470874e+07      within an hour                1.00   \n",
       "4      3.535176e+07             unknown                0.00   \n",
       "...             ...                 ...                 ...   \n",
       "26360  7.150000e+17      within an hour                1.00   \n",
       "26361  7.150000e+17      within an hour                1.00   \n",
       "26362  7.150000e+17        within a day                0.50   \n",
       "26363  7.150000e+17  within a few hours                0.98   \n",
       "26364  7.160000e+17      within an hour                1.00   \n",
       "\n",
       "       host_acceptance_rate host_is_superhost  host_listings_count  \\\n",
       "0                      1.00             False                 10.0   \n",
       "1                      1.00             False                  6.0   \n",
       "2                      0.00             False                  1.0   \n",
       "3                      1.00             False                  4.0   \n",
       "4                      0.00             False                  1.0   \n",
       "...                     ...               ...                  ...   \n",
       "26360                  1.00             False                  1.0   \n",
       "26361                  1.00              True                  4.0   \n",
       "26362                  0.06             False                  2.0   \n",
       "26363                  0.73             False                  3.0   \n",
       "26364                  1.00             False                  2.0   \n",
       "\n",
       "      host_has_profile_pic host_identity_verified    neighbourhood_cleansed  \\\n",
       "0                     True                   True                Copacabana   \n",
       "1                     True                   True                   Ipanema   \n",
       "2                     True                  False                    Pavuna   \n",
       "3                     True                   True                   GlÃ³ria   \n",
       "4                     True                  False                    Pavuna   \n",
       "...                    ...                    ...                       ...   \n",
       "26360                 True                   True                Copacabana   \n",
       "26361                 True                  False                Copacabana   \n",
       "26362                 True                   True  Recreio dos Bandeirantes   \n",
       "26363                 True                  False                   Ipanema   \n",
       "26364                 True                   True         Alto da Boa Vista   \n",
       "\n",
       "        latitude  ...  review_scores_rating review_scores_accuracy  \\\n",
       "0     -22.982990  ...                  4.72                    4.8   \n",
       "1     -22.987230  ...                  4.72                    4.8   \n",
       "2     -22.808690  ...                  4.72                    4.8   \n",
       "3     -22.919880  ...                  5.00                    5.0   \n",
       "4     -22.813210  ...                  4.72                    4.8   \n",
       "...          ...  ...                   ...                    ...   \n",
       "26360 -22.969938  ...                  4.72                    4.8   \n",
       "26361 -22.963249  ...                  4.72                    4.8   \n",
       "26362 -22.999820  ...                  4.72                    4.8   \n",
       "26363 -22.980846  ...                  4.72                    4.8   \n",
       "26364 -22.972648  ...                  4.72                    4.8   \n",
       "\n",
       "       review_scores_cleanliness  review_scores_checkin  \\\n",
       "0                           4.72                   4.88   \n",
       "1                           4.72                   4.88   \n",
       "2                           4.72                   4.88   \n",
       "3                           5.00                   5.00   \n",
       "4                           4.72                   4.88   \n",
       "...                          ...                    ...   \n",
       "26360                       4.72                   4.88   \n",
       "26361                       4.72                   4.88   \n",
       "26362                       4.72                   4.88   \n",
       "26363                       4.72                   4.88   \n",
       "26364                       4.72                   4.88   \n",
       "\n",
       "       review_scores_communication  review_scores_location  \\\n",
       "0                             4.87                    4.87   \n",
       "1                             4.87                    4.87   \n",
       "2                             4.87                    4.87   \n",
       "3                             5.00                    5.00   \n",
       "4                             4.87                    4.87   \n",
       "...                            ...                     ...   \n",
       "26360                         4.87                    4.87   \n",
       "26361                         4.87                    4.87   \n",
       "26362                         4.87                    4.87   \n",
       "26363                         4.87                    4.87   \n",
       "26364                         4.87                    4.87   \n",
       "\n",
       "      review_scores_value  instant_bookable  calculated_host_listings_count  \\\n",
       "0                    4.68              True                              10   \n",
       "1                    4.68              True                               5   \n",
       "2                    4.68              True                               1   \n",
       "3                    5.00             False                               2   \n",
       "4                    4.68              True                               1   \n",
       "...                   ...               ...                             ...   \n",
       "26360                4.68             False                               1   \n",
       "26361                4.68              True                               4   \n",
       "26362                4.68             False                               2   \n",
       "26363                4.68             False                               3   \n",
       "26364                4.68              True                               2   \n",
       "\n",
       "       reviews_per_month  \n",
       "0                    0.0  \n",
       "1                    0.0  \n",
       "2                    0.0  \n",
       "3                    0.1  \n",
       "4                    0.0  \n",
       "...                  ...  \n",
       "26360                0.0  \n",
       "26361                0.0  \n",
       "26362                0.0  \n",
       "26363                0.0  \n",
       "26364                0.0  \n",
       "\n",
       "[26365 rows x 33 columns]"
      ]
     },
     "execution_count": 11,
     "metadata": {},
     "output_type": "execute_result"
    }
   ],
   "source": [
    "#Copia del dataset sin nulos\n",
    "data3 = data2.copy()\n",
    "data3"
   ]
  },
  {
   "cell_type": "code",
   "execution_count": 12,
   "metadata": {},
   "outputs": [
    {
     "data": {
      "text/plain": [
       "0        1.00\n",
       "1        0.13\n",
       "2        0.00\n",
       "3        1.00\n",
       "4        0.00\n",
       "         ... \n",
       "26360    1.00\n",
       "26361    1.00\n",
       "26362    0.50\n",
       "26363    0.98\n",
       "26364    1.00\n",
       "Name: host_response_rate, Length: 26365, dtype: float64"
      ]
     },
     "execution_count": 12,
     "metadata": {},
     "output_type": "execute_result"
    }
   ],
   "source": [
    "data3[\"host_response_rate\"].astype('float64')"
   ]
  },
  {
   "cell_type": "code",
   "execution_count": 13,
   "metadata": {},
   "outputs": [
    {
     "data": {
      "text/plain": [
       "0        False\n",
       "1        False\n",
       "2         True\n",
       "3        False\n",
       "4         True\n",
       "         ...  \n",
       "26360    False\n",
       "26361    False\n",
       "26362    False\n",
       "26363    False\n",
       "26364    False\n",
       "Name: host_response_rate, Length: 26365, dtype: bool"
      ]
     },
     "execution_count": 13,
     "metadata": {},
     "output_type": "execute_result"
    }
   ],
   "source": [
    "filtro = data3[\"host_response_rate\"] == 0\n",
    "filtro"
   ]
  },
  {
   "cell_type": "code",
   "execution_count": 14,
   "metadata": {},
   "outputs": [
    {
     "data": {
      "image/png": "[encoded data removed]",
      "text/plain": [
       "<Figure size 360x216 with 1 Axes>"
      ]
     },
     "metadata": {
      "needs_background": "light"
     },
     "output_type": "display_data"
    }
   ],
   "source": [
    "#Diagrama de caja: host_response_rate.\n",
    "fig1 = plt.figure(figsize =(5, 3))\n",
    "plt.boxplot(data3['host_response_rate']) #boxplot() usa iqr\n",
    "plt.title(\"host_response_rate outliers\")\n",
    "plt.show() #diagrama para visualizar outliers"
   ]
  },
  {
   "cell_type": "code",
   "execution_count": 15,
   "metadata": {},
   "outputs": [
    {
     "data": {
      "image/png": "[encoded data removed]",
      "text/plain": [
       "<Figure size 360x216 with 1 Axes>"
      ]
     },
     "metadata": {
      "needs_background": "light"
     },
     "output_type": "display_data"
    }
   ],
   "source": [
    "#Diagrama de caja: host_acceptance_rate.\n",
    "fig1 = plt.figure(figsize =(5, 3))\n",
    "plt.boxplot(data3[\"host_acceptance_rate\"]) #boxplot() usa iqr\n",
    "plt.title(\"host_acceptance_rate outliers\")\n",
    "plt.show() #diagrama para visualizar outliers"
   ]
  },
  {
   "cell_type": "code",
   "execution_count": 16,
   "metadata": {},
   "outputs": [
    {
     "data": {
      "image/png": "[encoded data removed]",
      "text/plain": [
       "<Figure size 360x216 with 1 Axes>"
      ]
     },
     "metadata": {
      "needs_background": "light"
     },
     "output_type": "display_data"
    }
   ],
   "source": [
    "#Diagrama de caja: host_listings_count.\n",
    "fig1 = plt.figure(figsize =(5, 3))\n",
    "plt.boxplot(data3[\"host_listings_count\"]) #boxplot() usa iqr\n",
    "plt.title(\"host_listings_count outliers\")\n",
    "plt.show() #diagrama para visualizar outliers"
   ]
  },
  {
   "cell_type": "code",
   "execution_count": 17,
   "metadata": {},
   "outputs": [
    {
     "name": "stdout",
     "output_type": "stream",
     "text": [
      "Limite superior permitido 201.3724681094188\n",
      "Limite inferior permitido -172.909202416265\n"
     ]
    }
   ],
   "source": [
    "#Valores extremos: límite superior y límite inferior.\n",
    "#Variable: host_listings_count\n",
    "\n",
    "x1 = data3[\"host_listings_count\"]\n",
    "\n",
    "LS1= x1.mean() + 3*x1.std()\n",
    "LI1= x1.mean() - 3*x1.std()\n",
    "\n",
    "print(\"Limite superior permitido\", LS1)\n",
    "print(\"Limite inferior permitido\", LI1)"
   ]
  },
  {
   "cell_type": "code",
   "execution_count": 18,
   "metadata": {},
   "outputs": [
    {
     "name": "stderr",
     "output_type": "stream",
     "text": [
      "C:\\Users\\aremy\\AppData\\Local\\Temp\\ipykernel_28780\\1386262199.py:4: SettingWithCopyWarning: \n",
      "A value is trying to be set on a copy of a slice from a DataFrame.\n",
      "Try using .loc[row_indexer,col_indexer] = value instead\n",
      "\n",
      "See the caveats in the documentation: https://pandas.pydata.org/pandas-docs/stable/user_guide/indexing.html#returning-a-view-versus-a-copy\n",
      "  data3[\"host_listings_count\"]=data3[\"host_listings_count\"].fillna(round(data2[\"host_listings_count\"].mean(),0))\n"
     ]
    }
   ],
   "source": [
    "#Primera sustitución: host_listings_count\n",
    "#Método: desviación estándar\n",
    "data3=data2[(x1<=LS1)&(x1>=LI1)] #Obtenemos datos sin outliers de host_listings_count del DataFrame\n",
    "data3[\"host_listings_count\"]=data3[\"host_listings_count\"].fillna(round(data2[\"host_listings_count\"].mean(),0))"
   ]
  },
  {
   "cell_type": "code",
   "execution_count": 19,
   "metadata": {},
   "outputs": [
    {
     "data": {
      "image/png": "[encoded data removed]",
      "text/plain": [
       "<Figure size 360x216 with 1 Axes>"
      ]
     },
     "metadata": {
      "needs_background": "light"
     },
     "output_type": "display_data"
    }
   ],
   "source": [
    "#Diagrama de caja: accommodates.\n",
    "fig1 = plt.figure(figsize =(5, 3))\n",
    "plt.boxplot(data3[\"accommodates\"]) #boxplot() usa iqr\n",
    "plt.title(\"accommodates outliers\")\n",
    "plt.show() #diagrama para visualizar outliers\n",
    "#Se dejan los valores originales porque pueden explicar porqué un precio estaría tan alto"
   ]
  },
  {
   "cell_type": "code",
   "execution_count": 20,
   "metadata": {},
   "outputs": [
    {
     "data": {
      "image/png": "[encoded data removed]",
      "text/plain": [
       "<Figure size 360x216 with 1 Axes>"
      ]
     },
     "metadata": {
      "needs_background": "light"
     },
     "output_type": "display_data"
    }
   ],
   "source": [
    "#Diagrama de caja: bathrooms_text.\n",
    "fig1 = plt.figure(figsize =(5, 3))\n",
    "plt.boxplot(data3[\"bathrooms_text\"]) #boxplot() usa iqr\n",
    "plt.title(\"bathroom_text outliers\")\n",
    "plt.show() #diagrama para visualizar outliers"
   ]
  },
  {
   "cell_type": "code",
   "execution_count": 21,
   "metadata": {},
   "outputs": [
    {
     "name": "stdout",
     "output_type": "stream",
     "text": [
      "Limite superior permitido 12.054668884983872\n",
      "Limite inferior permitido -8.803199133419298\n"
     ]
    }
   ],
   "source": [
    "#Máximo 12 baños\n",
    "#Valores extremos: límite superior y límite inferior.\n",
    "#Variable: bathroom_text\n",
    "\n",
    "x8 = data2[\"bathrooms_text\"]\n",
    "\n",
    "LS8= x8.mean() + 10*x8.std()\n",
    "LI8= x8.mean() - 10*x8.std()\n",
    "\n",
    "print(\"Limite superior permitido\", LS8)\n",
    "print(\"Limite inferior permitido\", LI8)"
   ]
  },
  {
   "cell_type": "code",
   "execution_count": 22,
   "metadata": {},
   "outputs": [
    {
     "name": "stderr",
     "output_type": "stream",
     "text": [
      "C:\\Users\\aremy\\AppData\\Local\\Temp\\ipykernel_28780\\410064459.py:4: SettingWithCopyWarning: \n",
      "A value is trying to be set on a copy of a slice from a DataFrame.\n",
      "Try using .loc[row_indexer,col_indexer] = value instead\n",
      "\n",
      "See the caveats in the documentation: https://pandas.pydata.org/pandas-docs/stable/user_guide/indexing.html#returning-a-view-versus-a-copy\n",
      "  data3[\"bathrooms_text\"]=data3[\"bathrooms_text\"].fillna(round(data2[\"bathrooms_text\"].mean(),0))\n"
     ]
    }
   ],
   "source": [
    "#Otra sustitución: bathroom_text\n",
    "#Método: desviación estándar\n",
    "data3=data2[(x8<=LS8)&(x8>=LI8)] #Obtenemos datos sin outliers de bedrooms del DataFrame\n",
    "data3[\"bathrooms_text\"]=data3[\"bathrooms_text\"].fillna(round(data2[\"bathrooms_text\"].mean(),0))"
   ]
  },
  {
   "cell_type": "code",
   "execution_count": 23,
   "metadata": {},
   "outputs": [
    {
     "data": {
      "image/png": "[encoded data removed]",
      "text/plain": [
       "<Figure size 360x216 with 1 Axes>"
      ]
     },
     "metadata": {
      "needs_background": "light"
     },
     "output_type": "display_data"
    }
   ],
   "source": [
    "#Diagrama de caja: bedrooms.\n",
    "fig1 = plt.figure(figsize =(5, 3))\n",
    "plt.boxplot(data3[\"bedrooms\"]) #boxplot() usa iqr\n",
    "plt.title(\"bedrooms outliers\")\n",
    "plt.show() #diagrama para visualizar outliers"
   ]
  },
  {
   "cell_type": "code",
   "execution_count": 24,
   "metadata": {},
   "outputs": [
    {
     "name": "stdout",
     "output_type": "stream",
     "text": [
      "Limite superior permitido 10.191112129449053\n",
      "Limite inferior permitido -6.781136783346265\n"
     ]
    }
   ],
   "source": [
    "#Valores extremos: límite superior y límite inferior.\n",
    "#Variable: bedrooms\n",
    "\n",
    "x7 = data2[\"bedrooms\"]\n",
    "\n",
    "LS7= x7.mean() + 8*x7.std()\n",
    "LI7= x7.mean() - 8*x7.std()\n",
    "\n",
    "print(\"Limite superior permitido\", LS7)\n",
    "print(\"Limite inferior permitido\", LI7)"
   ]
  },
  {
   "cell_type": "code",
   "execution_count": 25,
   "metadata": {},
   "outputs": [
    {
     "name": "stderr",
     "output_type": "stream",
     "text": [
      "C:\\Users\\aremy\\AppData\\Local\\Temp\\ipykernel_28780\\4283371371.py:4: SettingWithCopyWarning: \n",
      "A value is trying to be set on a copy of a slice from a DataFrame.\n",
      "Try using .loc[row_indexer,col_indexer] = value instead\n",
      "\n",
      "See the caveats in the documentation: https://pandas.pydata.org/pandas-docs/stable/user_guide/indexing.html#returning-a-view-versus-a-copy\n",
      "  data3[\"bedrooms\"]=data3[\"bedrooms\"].fillna(round(data2[\"bedrooms\"].mean(),0))\n"
     ]
    }
   ],
   "source": [
    "#Otra sustitución: bedrooms\n",
    "#Método: desviación estándar\n",
    "data3=data2[(x7<=LS7)&(x7>=LI7)] #Obtenemos datos sin outliers de bedrooms del DataFrame\n",
    "data3[\"bedrooms\"]=data3[\"bedrooms\"].fillna(round(data2[\"bedrooms\"].mean(),0))"
   ]
  },
  {
   "cell_type": "code",
   "execution_count": 26,
   "metadata": {},
   "outputs": [
    {
     "data": {
      "image/png": "[encoded data removed]",
      "text/plain": [
       "<Figure size 360x216 with 1 Axes>"
      ]
     },
     "metadata": {
      "needs_background": "light"
     },
     "output_type": "display_data"
    }
   ],
   "source": [
    "#Diagrama de caja: beds.\n",
    "fig1 = plt.figure(figsize =(5, 3))\n",
    "plt.boxplot(data3[\"beds\"]) #boxplot() usa iqr\n",
    "plt.title(\"beds outliers\")\n",
    "plt.show() #diagrama para visualizar outliers\n",
    "#Se dejan los valores originales porque pueden explicar porqué un precio estaría tan alto"
   ]
  },
  {
   "cell_type": "code",
   "execution_count": 27,
   "metadata": {},
   "outputs": [
    {
     "name": "stdout",
     "output_type": "stream",
     "text": [
      "Limite superior permitido 20.453916187976226\n",
      "Limite inferior permitido -16.178589049724756\n"
     ]
    }
   ],
   "source": [
    "#Valores extremos: límite superior y límite inferior.\n",
    "#Variable: beds\n",
    "\n",
    "x8 = data2[\"beds\"]\n",
    "\n",
    "LS8= x8.mean() + 8*x8.std()\n",
    "LI8= x7.mean() - 8*x8.std()\n",
    "\n",
    "print(\"Limite superior permitido\", LS8)\n",
    "print(\"Limite inferior permitido\", LI8)"
   ]
  },
  {
   "cell_type": "code",
   "execution_count": 28,
   "metadata": {},
   "outputs": [
    {
     "name": "stderr",
     "output_type": "stream",
     "text": [
      "C:\\Users\\aremy\\AppData\\Local\\Temp\\ipykernel_28780\\1107569952.py:4: SettingWithCopyWarning: \n",
      "A value is trying to be set on a copy of a slice from a DataFrame.\n",
      "Try using .loc[row_indexer,col_indexer] = value instead\n",
      "\n",
      "See the caveats in the documentation: https://pandas.pydata.org/pandas-docs/stable/user_guide/indexing.html#returning-a-view-versus-a-copy\n",
      "  data3[\"beds\"]=data3[\"beds\"].fillna(round(data2[\"beds\"].mean(),0))\n"
     ]
    }
   ],
   "source": [
    "#Otra sustitución: bedrooms\n",
    "#Método: desviación estándar\n",
    "data3=data2[(x8<=LS8)&(x8>=LI8)] #Obtenemos datos sin outliers de bedrooms del DataFrame\n",
    "data3[\"beds\"]=data3[\"beds\"].fillna(round(data2[\"beds\"].mean(),0))"
   ]
  },
  {
   "cell_type": "code",
   "execution_count": 29,
   "metadata": {},
   "outputs": [
    {
     "data": {
      "image/png": "[encoded data removed]",
      "text/plain": [
       "<Figure size 360x216 with 1 Axes>"
      ]
     },
     "metadata": {
      "needs_background": "light"
     },
     "output_type": "display_data"
    }
   ],
   "source": [
    "#Diagrama de caja: price.\n",
    "fig1 = plt.figure(figsize =(5, 3))\n",
    "plt.boxplot(data3[\"price\"]) #boxplot() usa iqr\n",
    "plt.title(\"price outliers\")\n",
    "plt.show() #diagrama para visualizar outliers"
   ]
  },
  {
   "cell_type": "code",
   "execution_count": 30,
   "metadata": {},
   "outputs": [
    {
     "data": {
      "text/plain": [
       "0"
      ]
     },
     "execution_count": 30,
     "metadata": {},
     "output_type": "execute_result"
    }
   ],
   "source": [
    "min(data3['price'])\n",
    "#Se decidió no sustituir atípicos porque estos son los precios registrados en la base de datos"
   ]
  },
  {
   "cell_type": "code",
   "execution_count": 31,
   "metadata": {},
   "outputs": [
    {
     "data": {
      "image/png": "[encoded data removed]",
      "text/plain": [
       "<Figure size 360x216 with 1 Axes>"
      ]
     },
     "metadata": {
      "needs_background": "light"
     },
     "output_type": "display_data"
    }
   ],
   "source": [
    "#Diagrama de caja: minimum_nights.\n",
    "fig1 = plt.figure(figsize =(5, 3))\n",
    "plt.boxplot(data3[\"minimum_nights\"]) #boxplot() usa iqr\n",
    "plt.title(\"minimum_nights outliers\")\n",
    "plt.show() #diagrama para visualizar outliers"
   ]
  },
  {
   "cell_type": "code",
   "execution_count": 32,
   "metadata": {},
   "outputs": [
    {
     "name": "stdout",
     "output_type": "stream",
     "text": [
      "Limite superior permitido 8.5\n",
      "Limite inferior permitido -3.5\n"
     ]
    }
   ],
   "source": [
    "#Valores extremos: límite superior y límite inferior.\n",
    "#Variable: minimum_nights.\n",
    "\n",
    "x2 = data2['minimum_nights']\n",
    "\n",
    "p25x2=x2.quantile(0.25) #Q1\n",
    "p75x2=x2.quantile(0.75) #Q3\n",
    "iqrx2 = p75x2 - p25x2 #Q3-Q1\n",
    "\n",
    "LS_iqr_x2 = p75x2 + 1.5*iqrx2\n",
    "LI_iqr_x2 = p25x2 - 1.5*iqrx2\n",
    "print(\"Limite superior permitido\", LS_iqr_x2)\n",
    "print(\"Limite inferior permitido\", LI_iqr_x2)"
   ]
  },
  {
   "cell_type": "code",
   "execution_count": 33,
   "metadata": {},
   "outputs": [
    {
     "name": "stderr",
     "output_type": "stream",
     "text": [
      "C:\\Users\\aremy\\AppData\\Local\\Temp\\ipykernel_28780\\4001852734.py:4: SettingWithCopyWarning: \n",
      "A value is trying to be set on a copy of a slice from a DataFrame.\n",
      "Try using .loc[row_indexer,col_indexer] = value instead\n",
      "\n",
      "See the caveats in the documentation: https://pandas.pydata.org/pandas-docs/stable/user_guide/indexing.html#returning-a-view-versus-a-copy\n",
      "  data3[\"minimum_nights\"]=data3[\"minimum_nights\"].fillna(round(data2[\"minimum_nights\"].mean(),0))\n"
     ]
    }
   ],
   "source": [
    "#Segunda sustitución: minimum_nights\n",
    "#Método: desviación estándar\n",
    "data3=data2[(x2<=LS_iqr_x2)&(x2>=LI_iqr_x2)] #Obtenemos datos sin outliers de minimum_nights del DataFrame\n",
    "data3[\"minimum_nights\"]=data3[\"minimum_nights\"].fillna(round(data2[\"minimum_nights\"].mean(),0))"
   ]
  },
  {
   "cell_type": "code",
   "execution_count": 34,
   "metadata": {},
   "outputs": [
    {
     "data": {
      "image/png": "[encoded data removed]",
      "text/plain": [
       "<Figure size 360x216 with 1 Axes>"
      ]
     },
     "metadata": {
      "needs_background": "light"
     },
     "output_type": "display_data"
    }
   ],
   "source": [
    "#Diagrama de caja: maximum_nights.\n",
    "fig1 = plt.figure(figsize =(5, 3))\n",
    "plt.boxplot(data3[\"maximum_nights\"]) #boxplot() usa iqr\n",
    "plt.title(\"maximum_nights outliers\")\n",
    "plt.show() #diagrama para visualizar outliers"
   ]
  },
  {
   "cell_type": "code",
   "execution_count": 35,
   "metadata": {},
   "outputs": [
    {
     "name": "stdout",
     "output_type": "stream",
     "text": [
      "Limite superior permitido 2722.5\n",
      "Limite inferior permitido -1537.5\n"
     ]
    }
   ],
   "source": [
    "#Valores extremos: límite superior y límite inferior.\n",
    "#Variable: maximum_nights.\n",
    "\n",
    "x3 = data2['maximum_nights']\n",
    "\n",
    "p25x3=x3.quantile(0.25) #Q1\n",
    "p75x3=x3.quantile(0.75) #Q3\n",
    "iqrx3 = p75x3 - p25x3 #Q3-Q1\n",
    "\n",
    "LS_iqr_x3 = p75x3 + 1.5*iqrx3\n",
    "LI_iqr_x3 = p25x3 - 1.5*iqrx3\n",
    "print(\"Limite superior permitido\", LS_iqr_x3)\n",
    "print(\"Limite inferior permitido\", LI_iqr_x3)"
   ]
  },
  {
   "cell_type": "code",
   "execution_count": 36,
   "metadata": {},
   "outputs": [
    {
     "name": "stderr",
     "output_type": "stream",
     "text": [
      "C:\\Users\\aremy\\AppData\\Local\\Temp\\ipykernel_28780\\3796938618.py:4: SettingWithCopyWarning: \n",
      "A value is trying to be set on a copy of a slice from a DataFrame.\n",
      "Try using .loc[row_indexer,col_indexer] = value instead\n",
      "\n",
      "See the caveats in the documentation: https://pandas.pydata.org/pandas-docs/stable/user_guide/indexing.html#returning-a-view-versus-a-copy\n",
      "  data3[\"maximum_nights\"]=data3[\"maximum_nights\"].fillna(round(data2[\"maximum_nights\"].mean(),0))\n"
     ]
    }
   ],
   "source": [
    "#Tercera sustitución: maximum_nights\n",
    "#Método: desviación estándar\n",
    "data3=data2[(x3<=LS_iqr_x3)&(x3>=LI_iqr_x3)] #Obtenemos datos sin outliers de maximum_nights del DataFrame\n",
    "data3[\"maximum_nights\"]=data3[\"maximum_nights\"].fillna(round(data2[\"maximum_nights\"].mean(),0))"
   ]
  },
  {
   "cell_type": "code",
   "execution_count": 37,
   "metadata": {},
   "outputs": [
    {
     "data": {
      "image/png": "[encoded data removed]",
      "text/plain": [
       "<Figure size 360x216 with 1 Axes>"
      ]
     },
     "metadata": {
      "needs_background": "light"
     },
     "output_type": "display_data"
    }
   ],
   "source": [
    "#Diagrama de caja: availability_365.\n",
    "fig1 = plt.figure(figsize =(5, 3))\n",
    "plt.boxplot(data3[\"availability_365\"]) #boxplot() usa iqr\n",
    "plt.title(\"availability_365 outliers\")\n",
    "plt.show() #diagrama para visualizar outliers"
   ]
  },
  {
   "cell_type": "code",
   "execution_count": 38,
   "metadata": {},
   "outputs": [
    {
     "data": {
      "image/png": "[encoded data removed]",
      "text/plain": [
       "<Figure size 360x216 with 1 Axes>"
      ]
     },
     "metadata": {
      "needs_background": "light"
     },
     "output_type": "display_data"
    }
   ],
   "source": [
    "#Diagrama de caja: number_of_reviews.\n",
    "fig1 = plt.figure(figsize =(5, 3))\n",
    "plt.boxplot(data3[\"number_of_reviews\"]) #boxplot() usa iqr\n",
    "plt.title(\"number_of_reviews outliers\")\n",
    "plt.show() #diagrama para visualizar outliers"
   ]
  },
  {
   "cell_type": "code",
   "execution_count": 39,
   "metadata": {},
   "outputs": [
    {
     "name": "stdout",
     "output_type": "stream",
     "text": [
      "Limite superior permitido 40.0\n",
      "Limite inferior permitido -24.0\n"
     ]
    }
   ],
   "source": [
    "#Valores extremos: límite superior y límite inferior.\n",
    "#Variable: number_of_reviews.\n",
    "\n",
    "x4 = data2['number_of_reviews']\n",
    "\n",
    "p25x4=x4.quantile(0.25) #Q1\n",
    "p75x4=x4.quantile(0.75) #Q3\n",
    "iqrx4 = p75x4 - p25x4 #Q3-Q1\n",
    "\n",
    "LS_iqr_x4 = p75x4 + 1.5*iqrx4\n",
    "LI_iqr_x4 = p25x4 - 1.5*iqrx4\n",
    "print(\"Limite superior permitido\", LS_iqr_x4)\n",
    "print(\"Limite inferior permitido\", LI_iqr_x4)"
   ]
  },
  {
   "cell_type": "code",
   "execution_count": 40,
   "metadata": {},
   "outputs": [
    {
     "name": "stderr",
     "output_type": "stream",
     "text": [
      "C:\\Users\\aremy\\AppData\\Local\\Temp\\ipykernel_28780\\911625123.py:4: SettingWithCopyWarning: \n",
      "A value is trying to be set on a copy of a slice from a DataFrame.\n",
      "Try using .loc[row_indexer,col_indexer] = value instead\n",
      "\n",
      "See the caveats in the documentation: https://pandas.pydata.org/pandas-docs/stable/user_guide/indexing.html#returning-a-view-versus-a-copy\n",
      "  data3[\"number_of_reviews\"]=data3[\"number_of_reviews\"].fillna(round(data2[\"number_of_reviews\"].mean(),0))\n"
     ]
    }
   ],
   "source": [
    "#Tercera sustitución: number_of_reviews\n",
    "#Método: intercuartílicos\n",
    "data3=data2[(x4<=LS_iqr_x4)&(x4>=LI_iqr_x4)] #Obtenemos datos sin outliers de number_of_reviews del DataFrame\n",
    "data3[\"number_of_reviews\"]=data3[\"number_of_reviews\"].fillna(round(data2[\"number_of_reviews\"].mean(),0))"
   ]
  },
  {
   "cell_type": "code",
   "execution_count": 41,
   "metadata": {},
   "outputs": [
    {
     "data": {
      "image/png": "[encoded data removed]",
      "text/plain": [
       "<Figure size 360x216 with 1 Axes>"
      ]
     },
     "metadata": {
      "needs_background": "light"
     },
     "output_type": "display_data"
    }
   ],
   "source": [
    "#Diagrama de caja: number_of_reviews_ltm.\n",
    "fig1 = plt.figure(figsize =(5, 3))\n",
    "plt.boxplot(data3[\"number_of_reviews_ltm\"]) #boxplot() usa iqr\n",
    "plt.title(\"number_of_reviews_ltm outliers\")\n",
    "plt.show() #diagrama para visualizar outliers"
   ]
  },
  {
   "cell_type": "code",
   "execution_count": 42,
   "metadata": {},
   "outputs": [
    {
     "data": {
      "image/png": "[encoded data removed]",
      "text/plain": [
       "<Figure size 360x216 with 1 Axes>"
      ]
     },
     "metadata": {
      "needs_background": "light"
     },
     "output_type": "display_data"
    }
   ],
   "source": [
    "#Diagrama de caja: review_scores_rating.\n",
    "fig1 = plt.figure(figsize =(5, 3))\n",
    "plt.boxplot(data3[\"review_scores_rating\"]) #boxplot() usa iqr\n",
    "plt.title(\"review_scores_rating outliers\")\n",
    "plt.show() #diagrama para visualizar outliers\n",
    "#No se tratarán porque son los score dados por el usuario y es importante conocer su relación real con el precio"
   ]
  },
  {
   "cell_type": "code",
   "execution_count": 43,
   "metadata": {},
   "outputs": [
    {
     "data": {
      "image/png": "[encoded data removed]",
      "text/plain": [
       "<Figure size 360x216 with 1 Axes>"
      ]
     },
     "metadata": {
      "needs_background": "light"
     },
     "output_type": "display_data"
    }
   ],
   "source": [
    "#Diagrama de caja: review_scores_accuracy.\n",
    "fig1 = plt.figure(figsize =(5, 3))\n",
    "plt.boxplot(data3[\"review_scores_accuracy\"]) #boxplot() usa iqr\n",
    "plt.title(\"review_scores_accuracy outliers\")\n",
    "plt.show() #diagrama para visualizar outliers\n",
    "#No se tratarán porque son los score dados por el usuario y es importante conocer su relación real con el precio"
   ]
  },
  {
   "cell_type": "code",
   "execution_count": 44,
   "metadata": {},
   "outputs": [
    {
     "data": {
      "image/png": "[encoded data removed]",
      "text/plain": [
       "<Figure size 360x216 with 1 Axes>"
      ]
     },
     "metadata": {
      "needs_background": "light"
     },
     "output_type": "display_data"
    }
   ],
   "source": [
    "#Diagrama de caja: review_scores_cleanliness.\n",
    "fig1 = plt.figure(figsize =(5, 3))\n",
    "plt.boxplot(data3[\"review_scores_cleanliness\"]) #boxplot() usa iqr\n",
    "plt.title(\"review_scores_cleanliness outliers\")\n",
    "plt.show() #diagrama para visualizar outliers\n",
    "#No se tratarán porque son los score dados por el usuario y es importante conocer su relación real con el precio"
   ]
  },
  {
   "cell_type": "code",
   "execution_count": 45,
   "metadata": {},
   "outputs": [
    {
     "data": {
      "image/png": "[encoded data removed]",
      "text/plain": [
       "<Figure size 360x216 with 1 Axes>"
      ]
     },
     "metadata": {
      "needs_background": "light"
     },
     "output_type": "display_data"
    }
   ],
   "source": [
    "#Diagrama de caja: review_scores_checkin.\n",
    "fig1 = plt.figure(figsize =(5, 3))\n",
    "plt.boxplot(data3[\"review_scores_checkin\"]) #boxplot() usa iqr\n",
    "plt.title(\"review_scores_checkin outliers\")\n",
    "plt.show() #diagrama para visualizar outliers\n",
    "#No se tratarán porque son los score dados por el usuario y es importante conocer su relación real con el precio"
   ]
  },
  {
   "cell_type": "code",
   "execution_count": 46,
   "metadata": {},
   "outputs": [
    {
     "data": {
      "image/png": "[encoded data removed]",
      "text/plain": [
       "<Figure size 360x216 with 1 Axes>"
      ]
     },
     "metadata": {
      "needs_background": "light"
     },
     "output_type": "display_data"
    }
   ],
   "source": [
    "#Diagrama de caja: review_scores_communication.\n",
    "fig1 = plt.figure(figsize =(5, 3))\n",
    "plt.boxplot(data3[\"review_scores_communication\"]) #boxplot() usa iqr\n",
    "plt.title(\"review_scores_communication outliers\")\n",
    "plt.show() #diagrama para visualizar outliers\n",
    "#No se tratarán porque son los score dados por el usuario y es importante conocer su relación real con el precio"
   ]
  },
  {
   "cell_type": "code",
   "execution_count": 47,
   "metadata": {},
   "outputs": [
    {
     "data": {
      "image/png": "[encoded data removed]",
      "text/plain": [
       "<Figure size 360x216 with 1 Axes>"
      ]
     },
     "metadata": {
      "needs_background": "light"
     },
     "output_type": "display_data"
    }
   ],
   "source": [
    "#Diagrama de caja: review_scores_location.\n",
    "fig1 = plt.figure(figsize =(5, 3))\n",
    "plt.boxplot(data3[\"review_scores_location\"]) #boxplot() usa iqr\n",
    "plt.title(\"review_scores_location outliers\")\n",
    "plt.show() #diagrama para visualizar outliers\n",
    "#No se tratarán porque son los score dados por el usuario y es importante conocer su relación real con el precio"
   ]
  },
  {
   "cell_type": "code",
   "execution_count": 48,
   "metadata": {},
   "outputs": [
    {
     "data": {
      "image/png": "[encoded data removed]",
      "text/plain": [
       "<Figure size 360x216 with 1 Axes>"
      ]
     },
     "metadata": {
      "needs_background": "light"
     },
     "output_type": "display_data"
    }
   ],
   "source": [
    "#Diagrama de caja: review_scores_value.\n",
    "fig1 = plt.figure(figsize =(5, 3))\n",
    "plt.boxplot(data3[\"review_scores_value\"]) #boxplot() usa iqr\n",
    "plt.title(\"review_scores_value outliers\")\n",
    "plt.show() #diagrama para visualizar outliers\n",
    "#No se tratarán porque son los score dados por el usuario y es importante conocer su relación real con el precio"
   ]
  },
  {
   "cell_type": "code",
   "execution_count": 49,
   "metadata": {},
   "outputs": [
    {
     "data": {
      "image/png": "[encoded data removed]",
      "text/plain": [
       "<Figure size 360x216 with 1 Axes>"
      ]
     },
     "metadata": {
      "needs_background": "light"
     },
     "output_type": "display_data"
    }
   ],
   "source": [
    "#Diagrama de caja: calculated_host_listings_count.\n",
    "fig1 = plt.figure(figsize =(5, 3))\n",
    "plt.boxplot(data3[\"calculated_host_listings_count\"]) #boxplot() usa iqr\n",
    "plt.title(\"calculated_host_listings_count outliers\")\n",
    "plt.show() #diagrama para visualizar outliers\n",
    "#No se tratarán porque quizá los hosts con mayores propiedades registradas tienen mejor nivel socioeconómico.\n",
    "#Por lo que el estilo de casas quizá sean da alto valor y esté relacionado con un precio mayor."
   ]
  },
  {
   "cell_type": "code",
   "execution_count": 50,
   "metadata": {},
   "outputs": [
    {
     "name": "stdout",
     "output_type": "stream",
     "text": [
      "Limite superior permitido 77.58553779682836\n",
      "Limite inferior permitido -60.97905192540792\n"
     ]
    }
   ],
   "source": [
    "#Valores extremos: límite superior y límite inferior.\n",
    "#Variable: calculated_host_listings_count\n",
    "\n",
    "x6 = data2[\"calculated_host_listings_count\"]\n",
    "\n",
    "LS6= x6.mean() + 3*x6.std()\n",
    "LI6= x6.mean() - 3*x6.std()\n",
    "\n",
    "print(\"Limite superior permitido\", LS6)\n",
    "print(\"Limite inferior permitido\", LI6)"
   ]
  },
  {
   "cell_type": "code",
   "execution_count": 51,
   "metadata": {},
   "outputs": [
    {
     "name": "stderr",
     "output_type": "stream",
     "text": [
      "C:\\Users\\aremy\\AppData\\Local\\Temp\\ipykernel_28780\\1490209844.py:4: SettingWithCopyWarning: \n",
      "A value is trying to be set on a copy of a slice from a DataFrame.\n",
      "Try using .loc[row_indexer,col_indexer] = value instead\n",
      "\n",
      "See the caveats in the documentation: https://pandas.pydata.org/pandas-docs/stable/user_guide/indexing.html#returning-a-view-versus-a-copy\n",
      "  data3[\"calculated_host_listings_count\"]=data3[\"calculated_host_listings_count\"].fillna(round(data2[\"calculated_host_listings_count\"].mean(),0))\n"
     ]
    }
   ],
   "source": [
    "#Cuarta sustitución: calculated_host_listings_count\n",
    "#Método: desviación estándar\n",
    "data3=data2[(x6<=LS6)&(x6>=LI6)] #Obtenemos datos sin outliers de host_listings_count del DataFrame\n",
    "data3[\"calculated_host_listings_count\"]=data3[\"calculated_host_listings_count\"].fillna(round(data2[\"calculated_host_listings_count\"].mean(),0))"
   ]
  },
  {
   "cell_type": "code",
   "execution_count": 52,
   "metadata": {},
   "outputs": [
    {
     "data": {
      "image/png": "[encoded data removed]",
      "text/plain": [
       "<Figure size 360x216 with 1 Axes>"
      ]
     },
     "metadata": {
      "needs_background": "light"
     },
     "output_type": "display_data"
    }
   ],
   "source": [
    "#Diagrama de caja: reviews_per_month.\n",
    "fig1 = plt.figure(figsize =(5, 3))\n",
    "plt.boxplot(data3[\"reviews_per_month\"]) #boxplot() usa iqr\n",
    "plt.title(\"reviews_per_month outliers\")\n",
    "plt.show() #diagrama para visualizar outliers\n",
    "#No se considera que los outliers perjudiquen el análisis"
   ]
  },
  {
   "cell_type": "code",
   "execution_count": 53,
   "metadata": {},
   "outputs": [
    {
     "data": {
      "text/html": [
       "<div>\n",
       "<style scoped>\n",
       "    .dataframe tbody tr th:only-of-type {\n",
       "        vertical-align: middle;\n",
       "    }\n",
       "\n",
       "    .dataframe tbody tr th {\n",
       "        vertical-align: top;\n",
       "    }\n",
       "\n",
       "    .dataframe thead th {\n",
       "        text-align: right;\n",
       "    }\n",
       "</style>\n",
       "<table border=\"1\" class=\"dataframe\">\n",
       "  <thead>\n",
       "    <tr style=\"text-align: right;\">\n",
       "      <th></th>\n",
       "      <th>id</th>\n",
       "      <th>host_response_time</th>\n",
       "      <th>host_response_rate</th>\n",
       "      <th>host_acceptance_rate</th>\n",
       "      <th>host_is_superhost</th>\n",
       "      <th>host_listings_count</th>\n",
       "      <th>host_has_profile_pic</th>\n",
       "      <th>host_identity_verified</th>\n",
       "      <th>neighbourhood_cleansed</th>\n",
       "      <th>latitude</th>\n",
       "      <th>...</th>\n",
       "      <th>review_scores_rating</th>\n",
       "      <th>review_scores_accuracy</th>\n",
       "      <th>review_scores_cleanliness</th>\n",
       "      <th>review_scores_checkin</th>\n",
       "      <th>review_scores_communication</th>\n",
       "      <th>review_scores_location</th>\n",
       "      <th>review_scores_value</th>\n",
       "      <th>instant_bookable</th>\n",
       "      <th>calculated_host_listings_count</th>\n",
       "      <th>reviews_per_month</th>\n",
       "    </tr>\n",
       "  </thead>\n",
       "  <tbody>\n",
       "    <tr>\n",
       "      <th>0</th>\n",
       "      <td>5.334488e+07</td>\n",
       "      <td>within an hour</td>\n",
       "      <td>1.00</td>\n",
       "      <td>1.00</td>\n",
       "      <td>False</td>\n",
       "      <td>10.0</td>\n",
       "      <td>True</td>\n",
       "      <td>True</td>\n",
       "      <td>Copacabana</td>\n",
       "      <td>-22.982990</td>\n",
       "      <td>...</td>\n",
       "      <td>4.72</td>\n",
       "      <td>4.8</td>\n",
       "      <td>4.72</td>\n",
       "      <td>4.88</td>\n",
       "      <td>4.87</td>\n",
       "      <td>4.87</td>\n",
       "      <td>4.68</td>\n",
       "      <td>True</td>\n",
       "      <td>10</td>\n",
       "      <td>0.0</td>\n",
       "    </tr>\n",
       "    <tr>\n",
       "      <th>1</th>\n",
       "      <td>7.801456e+06</td>\n",
       "      <td>a few days or more</td>\n",
       "      <td>0.13</td>\n",
       "      <td>1.00</td>\n",
       "      <td>False</td>\n",
       "      <td>6.0</td>\n",
       "      <td>True</td>\n",
       "      <td>True</td>\n",
       "      <td>Ipanema</td>\n",
       "      <td>-22.987230</td>\n",
       "      <td>...</td>\n",
       "      <td>4.72</td>\n",
       "      <td>4.8</td>\n",
       "      <td>4.72</td>\n",
       "      <td>4.88</td>\n",
       "      <td>4.87</td>\n",
       "      <td>4.87</td>\n",
       "      <td>4.68</td>\n",
       "      <td>True</td>\n",
       "      <td>5</td>\n",
       "      <td>0.0</td>\n",
       "    </tr>\n",
       "    <tr>\n",
       "      <th>2</th>\n",
       "      <td>1.433390e+07</td>\n",
       "      <td>unknown</td>\n",
       "      <td>0.00</td>\n",
       "      <td>0.00</td>\n",
       "      <td>False</td>\n",
       "      <td>1.0</td>\n",
       "      <td>True</td>\n",
       "      <td>False</td>\n",
       "      <td>Pavuna</td>\n",
       "      <td>-22.808690</td>\n",
       "      <td>...</td>\n",
       "      <td>4.72</td>\n",
       "      <td>4.8</td>\n",
       "      <td>4.72</td>\n",
       "      <td>4.88</td>\n",
       "      <td>4.87</td>\n",
       "      <td>4.87</td>\n",
       "      <td>4.68</td>\n",
       "      <td>True</td>\n",
       "      <td>1</td>\n",
       "      <td>0.0</td>\n",
       "    </tr>\n",
       "    <tr>\n",
       "      <th>3</th>\n",
       "      <td>4.470874e+07</td>\n",
       "      <td>within an hour</td>\n",
       "      <td>1.00</td>\n",
       "      <td>1.00</td>\n",
       "      <td>False</td>\n",
       "      <td>4.0</td>\n",
       "      <td>True</td>\n",
       "      <td>True</td>\n",
       "      <td>GlÃ³ria</td>\n",
       "      <td>-22.919880</td>\n",
       "      <td>...</td>\n",
       "      <td>5.00</td>\n",
       "      <td>5.0</td>\n",
       "      <td>5.00</td>\n",
       "      <td>5.00</td>\n",
       "      <td>5.00</td>\n",
       "      <td>5.00</td>\n",
       "      <td>5.00</td>\n",
       "      <td>False</td>\n",
       "      <td>2</td>\n",
       "      <td>0.1</td>\n",
       "    </tr>\n",
       "    <tr>\n",
       "      <th>4</th>\n",
       "      <td>3.535176e+07</td>\n",
       "      <td>unknown</td>\n",
       "      <td>0.00</td>\n",
       "      <td>0.00</td>\n",
       "      <td>False</td>\n",
       "      <td>1.0</td>\n",
       "      <td>True</td>\n",
       "      <td>False</td>\n",
       "      <td>Pavuna</td>\n",
       "      <td>-22.813210</td>\n",
       "      <td>...</td>\n",
       "      <td>4.72</td>\n",
       "      <td>4.8</td>\n",
       "      <td>4.72</td>\n",
       "      <td>4.88</td>\n",
       "      <td>4.87</td>\n",
       "      <td>4.87</td>\n",
       "      <td>4.68</td>\n",
       "      <td>True</td>\n",
       "      <td>1</td>\n",
       "      <td>0.0</td>\n",
       "    </tr>\n",
       "    <tr>\n",
       "      <th>...</th>\n",
       "      <td>...</td>\n",
       "      <td>...</td>\n",
       "      <td>...</td>\n",
       "      <td>...</td>\n",
       "      <td>...</td>\n",
       "      <td>...</td>\n",
       "      <td>...</td>\n",
       "      <td>...</td>\n",
       "      <td>...</td>\n",
       "      <td>...</td>\n",
       "      <td>...</td>\n",
       "      <td>...</td>\n",
       "      <td>...</td>\n",
       "      <td>...</td>\n",
       "      <td>...</td>\n",
       "      <td>...</td>\n",
       "      <td>...</td>\n",
       "      <td>...</td>\n",
       "      <td>...</td>\n",
       "      <td>...</td>\n",
       "      <td>...</td>\n",
       "    </tr>\n",
       "    <tr>\n",
       "      <th>26360</th>\n",
       "      <td>7.150000e+17</td>\n",
       "      <td>within an hour</td>\n",
       "      <td>1.00</td>\n",
       "      <td>1.00</td>\n",
       "      <td>False</td>\n",
       "      <td>1.0</td>\n",
       "      <td>True</td>\n",
       "      <td>True</td>\n",
       "      <td>Copacabana</td>\n",
       "      <td>-22.969938</td>\n",
       "      <td>...</td>\n",
       "      <td>4.72</td>\n",
       "      <td>4.8</td>\n",
       "      <td>4.72</td>\n",
       "      <td>4.88</td>\n",
       "      <td>4.87</td>\n",
       "      <td>4.87</td>\n",
       "      <td>4.68</td>\n",
       "      <td>False</td>\n",
       "      <td>1</td>\n",
       "      <td>0.0</td>\n",
       "    </tr>\n",
       "    <tr>\n",
       "      <th>26361</th>\n",
       "      <td>7.150000e+17</td>\n",
       "      <td>within an hour</td>\n",
       "      <td>1.00</td>\n",
       "      <td>1.00</td>\n",
       "      <td>True</td>\n",
       "      <td>4.0</td>\n",
       "      <td>True</td>\n",
       "      <td>False</td>\n",
       "      <td>Copacabana</td>\n",
       "      <td>-22.963249</td>\n",
       "      <td>...</td>\n",
       "      <td>4.72</td>\n",
       "      <td>4.8</td>\n",
       "      <td>4.72</td>\n",
       "      <td>4.88</td>\n",
       "      <td>4.87</td>\n",
       "      <td>4.87</td>\n",
       "      <td>4.68</td>\n",
       "      <td>True</td>\n",
       "      <td>4</td>\n",
       "      <td>0.0</td>\n",
       "    </tr>\n",
       "    <tr>\n",
       "      <th>26362</th>\n",
       "      <td>7.150000e+17</td>\n",
       "      <td>within a day</td>\n",
       "      <td>0.50</td>\n",
       "      <td>0.06</td>\n",
       "      <td>False</td>\n",
       "      <td>2.0</td>\n",
       "      <td>True</td>\n",
       "      <td>True</td>\n",
       "      <td>Recreio dos Bandeirantes</td>\n",
       "      <td>-22.999820</td>\n",
       "      <td>...</td>\n",
       "      <td>4.72</td>\n",
       "      <td>4.8</td>\n",
       "      <td>4.72</td>\n",
       "      <td>4.88</td>\n",
       "      <td>4.87</td>\n",
       "      <td>4.87</td>\n",
       "      <td>4.68</td>\n",
       "      <td>False</td>\n",
       "      <td>2</td>\n",
       "      <td>0.0</td>\n",
       "    </tr>\n",
       "    <tr>\n",
       "      <th>26363</th>\n",
       "      <td>7.150000e+17</td>\n",
       "      <td>within a few hours</td>\n",
       "      <td>0.98</td>\n",
       "      <td>0.73</td>\n",
       "      <td>False</td>\n",
       "      <td>3.0</td>\n",
       "      <td>True</td>\n",
       "      <td>False</td>\n",
       "      <td>Ipanema</td>\n",
       "      <td>-22.980846</td>\n",
       "      <td>...</td>\n",
       "      <td>4.72</td>\n",
       "      <td>4.8</td>\n",
       "      <td>4.72</td>\n",
       "      <td>4.88</td>\n",
       "      <td>4.87</td>\n",
       "      <td>4.87</td>\n",
       "      <td>4.68</td>\n",
       "      <td>False</td>\n",
       "      <td>3</td>\n",
       "      <td>0.0</td>\n",
       "    </tr>\n",
       "    <tr>\n",
       "      <th>26364</th>\n",
       "      <td>7.160000e+17</td>\n",
       "      <td>within an hour</td>\n",
       "      <td>1.00</td>\n",
       "      <td>1.00</td>\n",
       "      <td>False</td>\n",
       "      <td>2.0</td>\n",
       "      <td>True</td>\n",
       "      <td>True</td>\n",
       "      <td>Alto da Boa Vista</td>\n",
       "      <td>-22.972648</td>\n",
       "      <td>...</td>\n",
       "      <td>4.72</td>\n",
       "      <td>4.8</td>\n",
       "      <td>4.72</td>\n",
       "      <td>4.88</td>\n",
       "      <td>4.87</td>\n",
       "      <td>4.87</td>\n",
       "      <td>4.68</td>\n",
       "      <td>True</td>\n",
       "      <td>2</td>\n",
       "      <td>0.0</td>\n",
       "    </tr>\n",
       "  </tbody>\n",
       "</table>\n",
       "<p>25744 rows × 33 columns</p>\n",
       "</div>"
      ],
      "text/plain": [
       "                 id  host_response_time  host_response_rate  \\\n",
       "0      5.334488e+07      within an hour                1.00   \n",
       "1      7.801456e+06  a few days or more                0.13   \n",
       "2      1.433390e+07             unknown                0.00   \n",
       "3      4.470874e+07      within an hour                1.00   \n",
       "4      3.535176e+07             unknown                0.00   \n",
       "...             ...                 ...                 ...   \n",
       "26360  7.150000e+17      within an hour                1.00   \n",
       "26361  7.150000e+17      within an hour                1.00   \n",
       "26362  7.150000e+17        within a day                0.50   \n",
       "26363  7.150000e+17  within a few hours                0.98   \n",
       "26364  7.160000e+17      within an hour                1.00   \n",
       "\n",
       "       host_acceptance_rate host_is_superhost  host_listings_count  \\\n",
       "0                      1.00             False                 10.0   \n",
       "1                      1.00             False                  6.0   \n",
       "2                      0.00             False                  1.0   \n",
       "3                      1.00             False                  4.0   \n",
       "4                      0.00             False                  1.0   \n",
       "...                     ...               ...                  ...   \n",
       "26360                  1.00             False                  1.0   \n",
       "26361                  1.00              True                  4.0   \n",
       "26362                  0.06             False                  2.0   \n",
       "26363                  0.73             False                  3.0   \n",
       "26364                  1.00             False                  2.0   \n",
       "\n",
       "      host_has_profile_pic host_identity_verified    neighbourhood_cleansed  \\\n",
       "0                     True                   True                Copacabana   \n",
       "1                     True                   True                   Ipanema   \n",
       "2                     True                  False                    Pavuna   \n",
       "3                     True                   True                   GlÃ³ria   \n",
       "4                     True                  False                    Pavuna   \n",
       "...                    ...                    ...                       ...   \n",
       "26360                 True                   True                Copacabana   \n",
       "26361                 True                  False                Copacabana   \n",
       "26362                 True                   True  Recreio dos Bandeirantes   \n",
       "26363                 True                  False                   Ipanema   \n",
       "26364                 True                   True         Alto da Boa Vista   \n",
       "\n",
       "        latitude  ...  review_scores_rating review_scores_accuracy  \\\n",
       "0     -22.982990  ...                  4.72                    4.8   \n",
       "1     -22.987230  ...                  4.72                    4.8   \n",
       "2     -22.808690  ...                  4.72                    4.8   \n",
       "3     -22.919880  ...                  5.00                    5.0   \n",
       "4     -22.813210  ...                  4.72                    4.8   \n",
       "...          ...  ...                   ...                    ...   \n",
       "26360 -22.969938  ...                  4.72                    4.8   \n",
       "26361 -22.963249  ...                  4.72                    4.8   \n",
       "26362 -22.999820  ...                  4.72                    4.8   \n",
       "26363 -22.980846  ...                  4.72                    4.8   \n",
       "26364 -22.972648  ...                  4.72                    4.8   \n",
       "\n",
       "       review_scores_cleanliness  review_scores_checkin  \\\n",
       "0                           4.72                   4.88   \n",
       "1                           4.72                   4.88   \n",
       "2                           4.72                   4.88   \n",
       "3                           5.00                   5.00   \n",
       "4                           4.72                   4.88   \n",
       "...                          ...                    ...   \n",
       "26360                       4.72                   4.88   \n",
       "26361                       4.72                   4.88   \n",
       "26362                       4.72                   4.88   \n",
       "26363                       4.72                   4.88   \n",
       "26364                       4.72                   4.88   \n",
       "\n",
       "       review_scores_communication  review_scores_location  \\\n",
       "0                             4.87                    4.87   \n",
       "1                             4.87                    4.87   \n",
       "2                             4.87                    4.87   \n",
       "3                             5.00                    5.00   \n",
       "4                             4.87                    4.87   \n",
       "...                            ...                     ...   \n",
       "26360                         4.87                    4.87   \n",
       "26361                         4.87                    4.87   \n",
       "26362                         4.87                    4.87   \n",
       "26363                         4.87                    4.87   \n",
       "26364                         4.87                    4.87   \n",
       "\n",
       "      review_scores_value  instant_bookable  calculated_host_listings_count  \\\n",
       "0                    4.68              True                              10   \n",
       "1                    4.68              True                               5   \n",
       "2                    4.68              True                               1   \n",
       "3                    5.00             False                               2   \n",
       "4                    4.68              True                               1   \n",
       "...                   ...               ...                             ...   \n",
       "26360                4.68             False                               1   \n",
       "26361                4.68              True                               4   \n",
       "26362                4.68             False                               2   \n",
       "26363                4.68             False                               3   \n",
       "26364                4.68              True                               2   \n",
       "\n",
       "       reviews_per_month  \n",
       "0                    0.0  \n",
       "1                    0.0  \n",
       "2                    0.0  \n",
       "3                    0.1  \n",
       "4                    0.0  \n",
       "...                  ...  \n",
       "26360                0.0  \n",
       "26361                0.0  \n",
       "26362                0.0  \n",
       "26363                0.0  \n",
       "26364                0.0  \n",
       "\n",
       "[25744 rows x 33 columns]"
      ]
     },
     "execution_count": 53,
     "metadata": {},
     "output_type": "execute_result"
    }
   ],
   "source": [
    "data3"
   ]
  },
  {
   "cell_type": "markdown",
   "metadata": {},
   "source": [
    "Exportar .csv"
   ]
  },
  {
   "cell_type": "code",
   "execution_count": 54,
   "metadata": {},
   "outputs": [],
   "source": [
    "#Data limpia\n",
    "#Convertir DataFrame limpio a CSV\n",
    "clean_airbnb=data3.copy()\n",
    "clean_airbnb\n",
    "clean_airbnb.to_csv(\"clean_airbnb_bra.csv\")"
   ]
  },
  {
   "cell_type": "markdown",
   "metadata": {},
   "source": [
    "Filtros por tipo de habitación"
   ]
  },
  {
   "cell_type": "code",
   "execution_count": 55,
   "metadata": {},
   "outputs": [],
   "source": [
    "entire_home_apt_bra = data3[(data3[\"room_type\"] == \"Entire home/apt\")]\n",
    "entire_home_apt_bra.to_csv(\"Entire home apt_bra.csv\")"
   ]
  },
  {
   "cell_type": "code",
   "execution_count": 56,
   "metadata": {},
   "outputs": [],
   "source": [
    "hotel_room_bra = data3[(data3[\"room_type\"] == \"Hotel room\")]\n",
    "hotel_room_bra.to_csv(\"Hotel room_bra.csv\")"
   ]
  },
  {
   "cell_type": "code",
   "execution_count": 57,
   "metadata": {},
   "outputs": [],
   "source": [
    "priv_room_bra = data3[(data3[\"room_type\"] == \"Private room\")]\n",
    "priv_room_bra.to_csv(\"Private room_bra.csv\")"
   ]
  },
  {
   "cell_type": "code",
   "execution_count": 58,
   "metadata": {},
   "outputs": [],
   "source": [
    "shared_room_bra = data3[(data3[\"room_type\"] == \"Shared room\")]\n",
    "shared_room_bra.to_csv(\"Shared room_bra.csv\")\n",
    "#"
   ]
  }
 ],
 "metadata": {
  "kernelspec": {
   "display_name": "Python 3.10.7 64-bit (microsoft store)",
   "language": "python",
   "name": "python3"
  },
  "language_info": {
   "codemirror_mode": {
    "name": "ipython",
    "version": 3
   },
   "file_extension": ".py",
   "mimetype": "text/x-python",
   "name": "python",
   "nbconvert_exporter": "python",
   "pygments_lexer": "ipython3",
   "version": "3.10.7"
  },
  "orig_nbformat": 4,
  "vscode": {
   "interpreter": {
    "hash": "8bdb6cfb01423875b53bbdacac8cafabfbfae2881293bc8f69e02add7339e574"
   }
  }
 },
 "nbformat": 4,
 "nbformat_minor": 2
}
